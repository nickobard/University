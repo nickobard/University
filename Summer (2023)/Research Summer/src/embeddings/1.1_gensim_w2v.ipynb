{
 "cells": [
  {
   "cell_type": "code",
   "execution_count": 1,
   "metadata": {},
   "outputs": [],
   "source": [
    "%load_ext autoreload\n",
    "%autoreload 2\n",
    "from IPython.display import display"
   ]
  },
  {
   "cell_type": "code",
   "execution_count": 2,
   "metadata": {},
   "outputs": [],
   "source": [
    "import logging\n",
    "logging.basicConfig(\n",
    "    format=\"%(asctime)s - %(levelname)s - %(message)s\", level=logging.INFO, force=True\n",
    ")"
   ]
  },
  {
   "cell_type": "code",
   "execution_count": 3,
   "metadata": {},
   "outputs": [
    {
     "name": "stderr",
     "output_type": "stream",
     "text": [
      "2023-08-16 17:08:55,763 - INFO - loading projection weights from /home/bardanik-rem/gensim-data/word2vec-google-news-300/word2vec-google-news-300.gz\n",
      "2023-08-16 17:09:24,458 - INFO - KeyedVectors lifecycle event {'msg': 'loaded (3000000, 300) matrix of type float32 from /home/bardanik-rem/gensim-data/word2vec-google-news-300/word2vec-google-news-300.gz', 'binary': True, 'encoding': 'utf8', 'datetime': '2023-08-16T17:09:24.458582', 'gensim': '4.3.1', 'python': '3.11.4 | packaged by conda-forge | (main, Jun 10 2023, 18:08:17) [GCC 12.2.0]', 'platform': 'Linux-6.1.0-10-amd64-x86_64-with-glibc2.36', 'event': 'load_word2vec_format'}\n"
     ]
    }
   ],
   "source": [
    "from gensim.models import KeyedVectors\n",
    "import gensim.downloader as api\n",
    "model_name = 'word2vec-google-news-300'\n",
    "wv = api.load(model_name)"
   ]
  },
  {
   "cell_type": "code",
   "execution_count": 4,
   "metadata": {},
   "outputs": [],
   "source": [
    "import utils\n",
    "import evaluators\n",
    "\n",
    "\n",
    "ev = evaluators.GensimEvaluator(model=wv, model_name=model_name, similarity_method=utils.SimilarityFunction.cosine)\n",
    "ev.load_dataset(\"../datasets/dataset_1.json\")"
   ]
  },
  {
   "cell_type": "code",
   "execution_count": 5,
   "metadata": {},
   "outputs": [],
   "source": [
    "ev.reset_evaluator()\n",
    "evaluation = ev.evaluate()"
   ]
  },
  {
   "cell_type": "code",
   "execution_count": 34,
   "metadata": {},
   "outputs": [
    {
     "data": {
      "text/plain": [
       "'OOV:'"
      ]
     },
     "metadata": {},
     "output_type": "display_data"
    },
    {
     "data": {
      "text/html": [
       "<div>\n",
       "<style scoped>\n",
       "    .dataframe tbody tr th:only-of-type {\n",
       "        vertical-align: middle;\n",
       "    }\n",
       "\n",
       "    .dataframe tbody tr th {\n",
       "        vertical-align: top;\n",
       "    }\n",
       "\n",
       "    .dataframe thead th {\n",
       "        text-align: right;\n",
       "    }\n",
       "</style>\n",
       "<table border=\"1\" class=\"dataframe\">\n",
       "  <thead>\n",
       "    <tr style=\"text-align: right;\">\n",
       "      <th></th>\n",
       "      <th>Case ID</th>\n",
       "      <th>Keyword</th>\n",
       "      <th>Word</th>\n",
       "      <th>Classification</th>\n",
       "      <th>Similarity</th>\n",
       "      <th>Lost</th>\n",
       "      <th>OOV</th>\n",
       "    </tr>\n",
       "  </thead>\n",
       "  <tbody>\n",
       "    <tr>\n",
       "      <th>14</th>\n",
       "      <td>1</td>\n",
       "      <td>animal</td>\n",
       "      <td>(afrotropical, 0)</td>\n",
       "      <td>0</td>\n",
       "      <td>NaN</td>\n",
       "      <td>False</td>\n",
       "      <td>True</td>\n",
       "    </tr>\n",
       "    <tr>\n",
       "      <th>26</th>\n",
       "      <td>1</td>\n",
       "      <td>animal</td>\n",
       "      <td>(favourable, 0)</td>\n",
       "      <td>0</td>\n",
       "      <td>NaN</td>\n",
       "      <td>False</td>\n",
       "      <td>True</td>\n",
       "    </tr>\n",
       "    <tr>\n",
       "      <th>34</th>\n",
       "      <td>1</td>\n",
       "      <td>animal</td>\n",
       "      <td>('s, 0)</td>\n",
       "      <td>0</td>\n",
       "      <td>NaN</td>\n",
       "      <td>False</td>\n",
       "      <td>True</td>\n",
       "    </tr>\n",
       "    <tr>\n",
       "      <th>66</th>\n",
       "      <td>1</td>\n",
       "      <td>fauna</td>\n",
       "      <td>(afrotropical, 0)</td>\n",
       "      <td>0</td>\n",
       "      <td>NaN</td>\n",
       "      <td>False</td>\n",
       "      <td>True</td>\n",
       "    </tr>\n",
       "    <tr>\n",
       "      <th>78</th>\n",
       "      <td>1</td>\n",
       "      <td>fauna</td>\n",
       "      <td>(favourable, 0)</td>\n",
       "      <td>0</td>\n",
       "      <td>NaN</td>\n",
       "      <td>False</td>\n",
       "      <td>True</td>\n",
       "    </tr>\n",
       "    <tr>\n",
       "      <th>...</th>\n",
       "      <td>...</td>\n",
       "      <td>...</td>\n",
       "      <td>...</td>\n",
       "      <td>...</td>\n",
       "      <td>...</td>\n",
       "      <td>...</td>\n",
       "      <td>...</td>\n",
       "    </tr>\n",
       "    <tr>\n",
       "      <th>1554</th>\n",
       "      <td>4</td>\n",
       "      <td>resource</td>\n",
       "      <td>(benkendorff, 0)</td>\n",
       "      <td>0</td>\n",
       "      <td>NaN</td>\n",
       "      <td>False</td>\n",
       "      <td>True</td>\n",
       "    </tr>\n",
       "    <tr>\n",
       "      <th>1563</th>\n",
       "      <td>4</td>\n",
       "      <td>resource</td>\n",
       "      <td>(anti-cancer, 0)</td>\n",
       "      <td>0</td>\n",
       "      <td>NaN</td>\n",
       "      <td>False</td>\n",
       "      <td>True</td>\n",
       "    </tr>\n",
       "    <tr>\n",
       "      <th>1565</th>\n",
       "      <td>4</td>\n",
       "      <td>resource</td>\n",
       "      <td>(``, 0)</td>\n",
       "      <td>0</td>\n",
       "      <td>NaN</td>\n",
       "      <td>False</td>\n",
       "      <td>True</td>\n",
       "    </tr>\n",
       "    <tr>\n",
       "      <th>1577</th>\n",
       "      <td>4</td>\n",
       "      <td>resource</td>\n",
       "      <td>('s, 1)</td>\n",
       "      <td>0</td>\n",
       "      <td>NaN</td>\n",
       "      <td>False</td>\n",
       "      <td>True</td>\n",
       "    </tr>\n",
       "    <tr>\n",
       "      <th>1584</th>\n",
       "      <td>4</td>\n",
       "      <td>resource</td>\n",
       "      <td>('', 0)</td>\n",
       "      <td>0</td>\n",
       "      <td>NaN</td>\n",
       "      <td>False</td>\n",
       "      <td>True</td>\n",
       "    </tr>\n",
       "  </tbody>\n",
       "</table>\n",
       "<p>146 rows × 7 columns</p>\n",
       "</div>"
      ],
      "text/plain": [
       "      Case ID   Keyword               Word  Classification  Similarity   Lost  \\\n",
       "14          1    animal  (afrotropical, 0)               0         NaN  False   \n",
       "26          1    animal    (favourable, 0)               0         NaN  False   \n",
       "34          1    animal            ('s, 0)               0         NaN  False   \n",
       "66          1     fauna  (afrotropical, 0)               0         NaN  False   \n",
       "78          1     fauna    (favourable, 0)               0         NaN  False   \n",
       "...       ...       ...                ...             ...         ...    ...   \n",
       "1554        4  resource   (benkendorff, 0)               0         NaN  False   \n",
       "1563        4  resource   (anti-cancer, 0)               0         NaN  False   \n",
       "1565        4  resource            (``, 0)               0         NaN  False   \n",
       "1577        4  resource            ('s, 1)               0         NaN  False   \n",
       "1584        4  resource            ('', 0)               0         NaN  False   \n",
       "\n",
       "       OOV  \n",
       "14    True  \n",
       "26    True  \n",
       "34    True  \n",
       "66    True  \n",
       "78    True  \n",
       "...    ...  \n",
       "1554  True  \n",
       "1563  True  \n",
       "1565  True  \n",
       "1577  True  \n",
       "1584  True  \n",
       "\n",
       "[146 rows x 7 columns]"
      ]
     },
     "metadata": {},
     "output_type": "display_data"
    },
    {
     "data": {
      "text/plain": [
       "'Lost:'"
      ]
     },
     "metadata": {},
     "output_type": "display_data"
    },
    {
     "data": {
      "text/html": [
       "<div>\n",
       "<style scoped>\n",
       "    .dataframe tbody tr th:only-of-type {\n",
       "        vertical-align: middle;\n",
       "    }\n",
       "\n",
       "    .dataframe tbody tr th {\n",
       "        vertical-align: top;\n",
       "    }\n",
       "\n",
       "    .dataframe thead th {\n",
       "        text-align: right;\n",
       "    }\n",
       "</style>\n",
       "<table border=\"1\" class=\"dataframe\">\n",
       "  <thead>\n",
       "    <tr style=\"text-align: right;\">\n",
       "      <th></th>\n",
       "      <th>Case ID</th>\n",
       "      <th>Keyword</th>\n",
       "      <th>Word</th>\n",
       "      <th>Classification</th>\n",
       "      <th>Similarity</th>\n",
       "      <th>Lost</th>\n",
       "      <th>OOV</th>\n",
       "    </tr>\n",
       "  </thead>\n",
       "  <tbody>\n",
       "    <tr>\n",
       "      <th>1513</th>\n",
       "      <td>4</td>\n",
       "      <td>when</td>\n",
       "      <td>(now, 0)</td>\n",
       "      <td>1</td>\n",
       "      <td>NaN</td>\n",
       "      <td>True</td>\n",
       "      <td>False</td>\n",
       "    </tr>\n",
       "    <tr>\n",
       "      <th>1514</th>\n",
       "      <td>4</td>\n",
       "      <td>when</td>\n",
       "      <td>(now, 1)</td>\n",
       "      <td>1</td>\n",
       "      <td>NaN</td>\n",
       "      <td>True</td>\n",
       "      <td>False</td>\n",
       "    </tr>\n",
       "  </tbody>\n",
       "</table>\n",
       "</div>"
      ],
      "text/plain": [
       "      Case ID Keyword      Word  Classification  Similarity  Lost    OOV\n",
       "1513        4    when  (now, 0)               1         NaN  True  False\n",
       "1514        4    when  (now, 1)               1         NaN  True  False"
      ]
     },
     "metadata": {},
     "output_type": "display_data"
    },
    {
     "data": {
      "text/plain": [
       "'Statistics:'"
      ]
     },
     "metadata": {},
     "output_type": "display_data"
    },
    {
     "data": {
      "text/html": [
       "<div>\n",
       "<style scoped>\n",
       "    .dataframe tbody tr th:only-of-type {\n",
       "        vertical-align: middle;\n",
       "    }\n",
       "\n",
       "    .dataframe tbody tr th {\n",
       "        vertical-align: top;\n",
       "    }\n",
       "\n",
       "    .dataframe thead th {\n",
       "        text-align: right;\n",
       "    }\n",
       "</style>\n",
       "<table border=\"1\" class=\"dataframe\">\n",
       "  <thead>\n",
       "    <tr style=\"text-align: right;\">\n",
       "      <th></th>\n",
       "      <th>Threshold</th>\n",
       "      <th>Precision</th>\n",
       "      <th>Recall</th>\n",
       "      <th>F1 Score</th>\n",
       "      <th>Accuracy</th>\n",
       "      <th>AUC-PR</th>\n",
       "    </tr>\n",
       "    <tr>\n",
       "      <th>Methods</th>\n",
       "      <th></th>\n",
       "      <th></th>\n",
       "      <th></th>\n",
       "      <th></th>\n",
       "      <th></th>\n",
       "      <th></th>\n",
       "    </tr>\n",
       "  </thead>\n",
       "  <tbody>\n",
       "    <tr>\n",
       "      <th>word2vec-google-news-300-cos</th>\n",
       "      <td>0.363297</td>\n",
       "      <td>0.74359</td>\n",
       "      <td>0.682353</td>\n",
       "      <td>0.711656</td>\n",
       "      <td>0.970366</td>\n",
       "      <td>0.699729</td>\n",
       "    </tr>\n",
       "  </tbody>\n",
       "</table>\n",
       "</div>"
      ],
      "text/plain": [
       "                              Threshold  Precision    Recall  F1 Score  \\\n",
       "Methods                                                                  \n",
       "word2vec-google-news-300-cos   0.363297    0.74359  0.682353  0.711656   \n",
       "\n",
       "                              Accuracy    AUC-PR  \n",
       "Methods                                           \n",
       "word2vec-google-news-300-cos  0.970366  0.699729  "
      ]
     },
     "metadata": {},
     "output_type": "display_data"
    },
    {
     "data": {
      "image/png": "[encoded data removed]",
      "text/plain": [
       "<Figure size 640x480 with 1 Axes>"
      ]
     },
     "metadata": {},
     "output_type": "display_data"
    }
   ],
   "source": [
    "st = utils.Statistics(ev)\n",
    "\n",
    "display(\"OOV:\")\n",
    "display(st.get_oov())\n",
    "\n",
    "display(\"Lost:\")\n",
    "display(st.get_lost())\n",
    "\n",
    "stats = st.calculate_statistics()\n",
    "display(\"Statistics:\")\n",
    "display(stats)\n",
    "\n",
    "st.display_PRC()"
   ]
  },
  {
   "cell_type": "code",
   "execution_count": 6,
   "metadata": {},
   "outputs": [
    {
     "data": {
      "text/html": [
       "<div>\n",
       "<style scoped>\n",
       "    .dataframe tbody tr th:only-of-type {\n",
       "        vertical-align: middle;\n",
       "    }\n",
       "\n",
       "    .dataframe tbody tr th {\n",
       "        vertical-align: top;\n",
       "    }\n",
       "\n",
       "    .dataframe thead th {\n",
       "        text-align: right;\n",
       "    }\n",
       "</style>\n",
       "<table border=\"1\" class=\"dataframe\">\n",
       "  <thead>\n",
       "    <tr style=\"text-align: right;\">\n",
       "      <th></th>\n",
       "      <th>Threshold</th>\n",
       "      <th>Precision</th>\n",
       "      <th>Recall</th>\n",
       "      <th>F1 Score</th>\n",
       "      <th>Accuracy</th>\n",
       "      <th>AUC-PR</th>\n",
       "    </tr>\n",
       "    <tr>\n",
       "      <th>Methods</th>\n",
       "      <th></th>\n",
       "      <th></th>\n",
       "      <th></th>\n",
       "      <th></th>\n",
       "      <th></th>\n",
       "      <th></th>\n",
       "    </tr>\n",
       "  </thead>\n",
       "  <tbody>\n",
       "    <tr>\n",
       "      <th>word2vec-google-news-300-cos</th>\n",
       "      <td>0.363297</td>\n",
       "      <td>0.743590</td>\n",
       "      <td>0.682353</td>\n",
       "      <td>0.711656</td>\n",
       "      <td>0.970366</td>\n",
       "      <td>0.699729</td>\n",
       "    </tr>\n",
       "    <tr>\n",
       "      <th>word2vec-google-news-300-dot</th>\n",
       "      <td>3.239772</td>\n",
       "      <td>0.705128</td>\n",
       "      <td>0.647059</td>\n",
       "      <td>0.674847</td>\n",
       "      <td>0.966583</td>\n",
       "      <td>0.629354</td>\n",
       "    </tr>\n",
       "    <tr>\n",
       "      <th>word2vec-google-news-300-euc</th>\n",
       "      <td>2.813386</td>\n",
       "      <td>0.313725</td>\n",
       "      <td>0.376471</td>\n",
       "      <td>0.342246</td>\n",
       "      <td>0.922446</td>\n",
       "      <td>0.295685</td>\n",
       "    </tr>\n",
       "  </tbody>\n",
       "</table>\n",
       "</div>"
      ],
      "text/plain": [
       "                              Threshold  Precision    Recall  F1 Score  \\\n",
       "Methods                                                                  \n",
       "word2vec-google-news-300-cos   0.363297   0.743590  0.682353  0.711656   \n",
       "word2vec-google-news-300-dot   3.239772   0.705128  0.647059  0.674847   \n",
       "word2vec-google-news-300-euc   2.813386   0.313725  0.376471  0.342246   \n",
       "\n",
       "                              Accuracy    AUC-PR  \n",
       "Methods                                           \n",
       "word2vec-google-news-300-cos  0.970366  0.699729  \n",
       "word2vec-google-news-300-dot  0.966583  0.629354  \n",
       "word2vec-google-news-300-euc  0.922446  0.295685  "
      ]
     },
     "metadata": {},
     "output_type": "display_data"
    },
    {
     "data": {
      "image/png": "[encoded data removed]",
      "text/plain": [
       "<Figure size 640x480 with 1 Axes>"
      ]
     },
     "metadata": {},
     "output_type": "display_data"
    },
    {
     "data": {
      "image/png": "[encoded data removed]",
      "text/plain": [
       "<Figure size 640x480 with 1 Axes>"
      ]
     },
     "metadata": {},
     "output_type": "display_data"
    },
    {
     "data": {
      "image/png": "[encoded data removed]",
      "text/plain": [
       "<Figure size 640x480 with 1 Axes>"
      ]
     },
     "metadata": {},
     "output_type": "display_data"
    }
   ],
   "source": [
    "import pandas as pd\n",
    "methods = [member for member in utils.SimilarityFunction]\n",
    "\n",
    "results = pd.DataFrame()\n",
    "\n",
    "for method in methods:\n",
    "    ev.similarity_method = method\n",
    "    ev.reset_evaluator()\n",
    "    data = ev.evaluate()\n",
    "    st = utils.Statistics(ev)\n",
    "    stats = st.calculate_statistics()\n",
    "    st.display_PRC()\n",
    "    results = pd.concat([results, stats])\n",
    "\n",
    "display(results)"
   ]
  },
  {
   "cell_type": "code",
   "execution_count": null,
   "metadata": {},
   "outputs": [],
   "source": []
  }
 ],
 "metadata": {
  "kernelspec": {
   "display_name": "vylet-ner",
   "language": "python",
   "name": "python3"
  },
  "language_info": {
   "codemirror_mode": {
    "name": "ipython",
    "version": 3
   },
   "file_extension": ".py",
   "mimetype": "text/x-python",
   "name": "python",
   "nbconvert_exporter": "python",
   "pygments_lexer": "ipython3",
   "version": "3.11.4"
  },
  "orig_nbformat": 4
 },
 "nbformat": 4,
 "nbformat_minor": 2
}
