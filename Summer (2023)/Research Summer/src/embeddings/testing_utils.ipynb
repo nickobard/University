{
 "cells": [
  {
   "cell_type": "code",
   "execution_count": 1,
   "metadata": {
    "ExecuteTime": {
     "end_time": "2023-07-30T12:01:36.445368614Z",
     "start_time": "2023-07-30T12:01:36.436197321Z"
    },
    "collapsed": false
   },
   "outputs": [],
   "source": [
    "%load_ext autoreload\n",
    "%autoreload 2"
   ]
  },
  {
   "cell_type": "code",
   "execution_count": 2,
   "metadata": {
    "ExecuteTime": {
     "end_time": "2023-07-30T12:01:59.765411039Z",
     "start_time": "2023-07-30T12:01:59.721358995Z"
    }
   },
   "outputs": [
    {
     "name": "stdout",
     "output_type": "stream",
     "text": [
      "['fauna', 'africa', 'broader', 'sense', 'animals', 'living', 'surrounding', 'seas', 'islands', 'characteristic', 'african', 'found', 'afrotropical', 'realm', 'lying', 'almost', 'entirely', 'within', 'tropics', 'equally', 'north', 'south', 'equator', 'creates', 'favourable', 'conditions', 'rich', 'wildlife', 'home', 'many', 'world', \"'s\", 'famous', 'human', 'culture', 'lions', 'rhinos', 'cheetahs', 'giraffes', 'antelope', 'hippos', 'leopards', 'zebras', 'elephants', 'among', 'others']\n"
     ]
    }
   ],
   "source": [
    "from utils.preprocessing import preprocess_text\n",
    "text = \"The Fauna of Africa, in its broader sense, is all the animals living in Africa and its surrounding seas and islands. The more characteristic African fauna is found in the Afrotropical realm.[1] Lying almost entirely within the tropics, and equally to north and south of the equator creates favourable conditions for rich wildlife. Africa is home to many of the world's most famous fauna in human culture such as lions,rhinos, cheetahs, giraffes, antelope, hippos, leopards, zebras, and African elephants among many others.\"\n",
    "\n",
    "result = preprocess_text(text)\n",
    "print(result)"
   ]
  },
  {
   "cell_type": "code",
   "execution_count": 3,
   "metadata": {},
   "outputs": [],
   "source": [
    "import gensim.downloader as api\n",
    "model_name = 'word2vec-google-news-300'\n",
    "wv = api.load(model_name)"
   ]
  },
  {
   "cell_type": "code",
   "execution_count": 4,
   "metadata": {},
   "outputs": [],
   "source": [
    "import utils\n",
    "evaluator: utils.Evaluator = utils.Evaluator(model=wv)\n",
    "evaluator.load_dataset(\"../datasets/dataset_1.json\")"
   ]
  },
  {
   "cell_type": "code",
   "execution_count": 5,
   "metadata": {},
   "outputs": [],
   "source": [
    "case = evaluator.dataset.cases[0]\n",
    "evaluator.prepare_case(case)"
   ]
  },
  {
   "cell_type": "code",
   "execution_count": 6,
   "metadata": {
    "collapsed": false
   },
   "outputs": [],
   "source": [
    "evaluation1 = evaluator.evaluate_current_case(threshold=0.5)\n",
    "evaluation2 = evaluator.evaluate_current_case(threshold=0.2)"
   ]
  },
  {
   "cell_type": "code",
   "execution_count": 7,
   "metadata": {},
   "outputs": [
    {
     "name": "stdout",
     "output_type": "stream",
     "text": [
      "{'OOV_words': {\"'s\", 'favourable', 'afrotropical'},\n",
      " 'categories': [{'category': 'many_matches',\n",
      "                 'keywords': [{'FN': {'antelope': 0.4192481,\n",
      "                                      'cheetahs': 0.41859436,\n",
      "                                      'giraffes': 0.3748355,\n",
      "                                      'hippos': 0.3768688,\n",
      "                                      'leopards': 0.38344854,\n",
      "                                      'lions': 0.42103213,\n",
      "                                      'rhinos': 0.34056413,\n",
      "                                      'zebras': 0.35301048},\n",
      "                               'FP': {'wildlife': 0.56248957},\n",
      "                               'TN': {'africa': 0.04664432,\n",
      "                                      'african': 0.088868394,\n",
      "                                      'almost': 0.07101162,\n",
      "                                      'among': 0.0004366301,\n",
      "                                      'broader': 0.07082408,\n",
      "                                      'characteristic': 0.091286175,\n",
      "                                      'conditions': 0.0840967,\n",
      "                                      'creates': 0.07060968,\n",
      "                                      'culture': 0.076346934,\n",
      "                                      'entirely': 0.07776314,\n",
      "                                      'equally': 0.07637321,\n",
      "                                      'equator': 0.021333884,\n",
      "                                      'famous': 0.01565542,\n",
      "                                      'fauna': 0.3363493,\n",
      "                                      'found': 0.13107681,\n",
      "                                      'home': 0.08035373,\n",
      "                                      'human': 0.49877763,\n",
      "                                      'islands': 0.10264234,\n",
      "                                      'living': 0.12988159,\n",
      "                                      'lying': 0.056435443,\n",
      "                                      'many': 0.09158646,\n",
      "                                      'north': 0.0673612,\n",
      "                                      'others': 0.14537698,\n",
      "                                      'realm': 0.061402183,\n",
      "                                      'rich': 0.02406909,\n",
      "                                      'seas': 0.087348744,\n",
      "                                      'sense': 0.09454,\n",
      "                                      'south': 0.061338313,\n",
      "                                      'surrounding': 0.12515432,\n",
      "                                      'tropics': 0.120740175,\n",
      "                                      'within': 0.0954984,\n",
      "                                      'world': 0.09327094},\n",
      "                               'TP': {'animals': 0.7875038,\n",
      "                                      'elephants': 0.5173388},\n",
      "                               'expected_matches': {'animals',\n",
      "                                                    'antelope',\n",
      "                                                    'cheetahs',\n",
      "                                                    'elephants',\n",
      "                                                    'giraffes',\n",
      "                                                    'hippos',\n",
      "                                                    'leopards',\n",
      "                                                    'lions',\n",
      "                                                    'rhinos',\n",
      "                                                    'zebras'},\n",
      "                               'keyword': 'animal'}]},\n",
      "                {'category': 'few_matches',\n",
      "                 'keywords': [{'FN': {},\n",
      "                               'FP': {},\n",
      "                               'TN': {'africa': 0.17048559,\n",
      "                                      'african': 0.13995114,\n",
      "                                      'almost': 0.07616073,\n",
      "                                      'among': 0.022368917,\n",
      "                                      'animals': 0.45638174,\n",
      "                                      'antelope': 0.38729393,\n",
      "                                      'broader': 0.01899414,\n",
      "                                      'characteristic': 0.163572,\n",
      "                                      'cheetahs': 0.33987993,\n",
      "                                      'conditions': 0.11944197,\n",
      "                                      'creates': 0.051091257,\n",
      "                                      'culture': 0.2806412,\n",
      "                                      'elephants': 0.37786773,\n",
      "                                      'entirely': 0.03987243,\n",
      "                                      'equally': 0.06949586,\n",
      "                                      'equator': 0.2081446,\n",
      "                                      'famous': 0.1077903,\n",
      "                                      'found': 0.11078349,\n",
      "                                      'giraffes': 0.38249967,\n",
      "                                      'hippos': 0.38757515,\n",
      "                                      'home': 0.06960033,\n",
      "                                      'human': 0.25608322,\n",
      "                                      'islands': 0.3854516,\n",
      "                                      'leopards': 0.41498545,\n",
      "                                      'lions': 0.314021,\n",
      "                                      'living': 0.16052783,\n",
      "                                      'lying': 0.15313143,\n",
      "                                      'many': 0.06555893,\n",
      "                                      'north': 0.12707561,\n",
      "                                      'others': 0.11644592,\n",
      "                                      'realm': 0.03692849,\n",
      "                                      'rhinos': 0.39059448,\n",
      "                                      'rich': 0.18364665,\n",
      "                                      'seas': 0.22678986,\n",
      "                                      'sense': 0.05634933,\n",
      "                                      'south': 0.12775108,\n",
      "                                      'surrounding': 0.12780285,\n",
      "                                      'tropics': 0.37297022,\n",
      "                                      'within': 0.027758379,\n",
      "                                      'world': 0.07559775,\n",
      "                                      'zebras': 0.2751606},\n",
      "                               'TP': {'fauna': 1.0, 'wildlife': 0.6571576},\n",
      "                               'expected_matches': {'wildlife', 'fauna'},\n",
      "                               'keyword': 'fauna'}]},\n",
      "                {'category': 'no_matches',\n",
      "                 'keywords': [{'FN': {},\n",
      "                               'FP': {},\n",
      "                               'TN': {'africa': 0.104060434,\n",
      "                                      'african': 0.018768806,\n",
      "                                      'almost': 0.1317983,\n",
      "                                      'among': -0.0025261631,\n",
      "                                      'animals': 0.11170402,\n",
      "                                      'antelope': 0.03247112,\n",
      "                                      'broader': 0.09285361,\n",
      "                                      'characteristic': -0.03677169,\n",
      "                                      'cheetahs': 0.07170695,\n",
      "                                      'conditions': 0.031253986,\n",
      "                                      'creates': 0.06937666,\n",
      "                                      'culture': 0.05490289,\n",
      "                                      'elephants': 0.003744455,\n",
      "                                      'entirely': 0.112320706,\n",
      "                                      'equally': 0.03370608,\n",
      "                                      'equator': -0.032242686,\n",
      "                                      'famous': 0.012473911,\n",
      "                                      'fauna': 0.072982736,\n",
      "                                      'found': 0.10175802,\n",
      "                                      'giraffes': -0.009483479,\n",
      "                                      'hippos': 0.057418764,\n",
      "                                      'home': 0.19213843,\n",
      "                                      'human': 0.1884648,\n",
      "                                      'islands': 0.03385939,\n",
      "                                      'leopards': 0.059605137,\n",
      "                                      'lions': -0.026770987,\n",
      "                                      'living': 0.13196541,\n",
      "                                      'lying': 0.047734097,\n",
      "                                      'many': 0.065675296,\n",
      "                                      'north': 0.0184704,\n",
      "                                      'others': 0.10152161,\n",
      "                                      'realm': 0.09551868,\n",
      "                                      'rhinos': 0.03177928,\n",
      "                                      'rich': 0.0014830995,\n",
      "                                      'seas': 0.07410869,\n",
      "                                      'sense': 0.065780915,\n",
      "                                      'south': -0.0071724523,\n",
      "                                      'surrounding': -0.02422534,\n",
      "                                      'tropics': 0.0274163,\n",
      "                                      'wildlife': 0.15372594,\n",
      "                                      'within': 0.031464733,\n",
      "                                      'world': 0.16189036,\n",
      "                                      'zebras': 0.013012674},\n",
      "                               'TP': {},\n",
      "                               'expected_matches': set(),\n",
      "                               'keyword': 'computer'},\n",
      "                              {'FN': {},\n",
      "                               'FP': {},\n",
      "                               'TN': {'africa': 0.018105214,\n",
      "                                      'african': -0.07645068,\n",
      "                                      'almost': 0.085355654,\n",
      "                                      'among': -0.024625642,\n",
      "                                      'animals': 0.04469774,\n",
      "                                      'antelope': 0.044715866,\n",
      "                                      'broader': 0.051948994,\n",
      "                                      'characteristic': 0.03985141,\n",
      "                                      'cheetahs': -0.027328629,\n",
      "                                      'conditions': 0.014181262,\n",
      "                                      'creates': -0.051795874,\n",
      "                                      'culture': -0.047798466,\n",
      "                                      'elephants': 0.06276802,\n",
      "                                      'entirely': 0.071171716,\n",
      "                                      'equally': -0.044888414,\n",
      "                                      'equator': 0.18237963,\n",
      "                                      'famous': 0.030839063,\n",
      "                                      'fauna': 0.04657332,\n",
      "                                      'found': 0.011375448,\n",
      "                                      'giraffes': 0.06041332,\n",
      "                                      'hippos': 0.04704447,\n",
      "                                      'home': 0.06484792,\n",
      "                                      'human': 0.0872306,\n",
      "                                      'islands': 0.058421973,\n",
      "                                      'leopards': 0.06431673,\n",
      "                                      'lions': 0.059553735,\n",
      "                                      'living': 0.07605229,\n",
      "                                      'lying': -0.0037633292,\n",
      "                                      'many': 0.031168325,\n",
      "                                      'north': 0.075020425,\n",
      "                                      'others': 0.053228237,\n",
      "                                      'realm': 0.03230919,\n",
      "                                      'rhinos': 0.03662278,\n",
      "                                      'rich': 0.030761883,\n",
      "                                      'seas': 0.09938755,\n",
      "                                      'sense': 0.060727574,\n",
      "                                      'south': 0.07191803,\n",
      "                                      'surrounding': 0.019803526,\n",
      "                                      'tropics': 0.029404007,\n",
      "                                      'wildlife': 0.0131742265,\n",
      "                                      'within': 0.077198625,\n",
      "                                      'world': 0.07555321,\n",
      "                                      'zebras': 0.00930571},\n",
      "                               'TP': {},\n",
      "                               'expected_matches': set(),\n",
      "                               'keyword': 'rocket'},\n",
      "                              {'FN': {},\n",
      "                               'FP': {},\n",
      "                               'TN': {'africa': 0.020265099,\n",
      "                                      'african': -0.016532162,\n",
      "                                      'almost': 0.0058858152,\n",
      "                                      'among': -0.02622974,\n",
      "                                      'animals': 0.09590963,\n",
      "                                      'antelope': 0.24938664,\n",
      "                                      'broader': 0.05443822,\n",
      "                                      'characteristic': 0.089063585,\n",
      "                                      'cheetahs': 0.07131271,\n",
      "                                      'conditions': 0.0036288984,\n",
      "                                      'creates': -0.038431887,\n",
      "                                      'culture': 0.047818102,\n",
      "                                      'elephants': 0.090418726,\n",
      "                                      'entirely': 0.0033380985,\n",
      "                                      'equally': -0.010847455,\n",
      "                                      'equator': -0.028977178,\n",
      "                                      'famous': 0.03164567,\n",
      "                                      'fauna': 0.06199648,\n",
      "                                      'found': 0.058609188,\n",
      "                                      'giraffes': 0.1144726,\n",
      "                                      'hippos': 0.06207421,\n",
      "                                      'home': 0.07842336,\n",
      "                                      'human': -0.02404774,\n",
      "                                      'islands': 0.00061016437,\n",
      "                                      'leopards': 0.1398479,\n",
      "                                      'lions': 0.13116461,\n",
      "                                      'living': 0.042893644,\n",
      "                                      'lying': 0.16447248,\n",
      "                                      'many': 0.029274764,\n",
      "                                      'north': 0.03944198,\n",
      "                                      'others': 0.062271938,\n",
      "                                      'realm': -0.0590518,\n",
      "                                      'rhinos': 0.07431817,\n",
      "                                      'rich': 0.020374307,\n",
      "                                      'seas': -0.01985408,\n",
      "                                      'sense': 0.011335902,\n",
      "                                      'south': 0.061540008,\n",
      "                                      'surrounding': -0.016006952,\n",
      "                                      'tropics': -0.04209584,\n",
      "                                      'wildlife': 0.074248604,\n",
      "                                      'within': 0.059151635,\n",
      "                                      'world': 0.031246077,\n",
      "                                      'zebras': 0.0046268217},\n",
      "                               'TP': {},\n",
      "                               'expected_matches': set(),\n",
      "                               'keyword': 'pistol'}]}],\n",
      " 'id': 1,\n",
      " 'text': 'The Fauna of Africa, in its broader sense, is all the animals living '\n",
      "         'in Africa and its surrounding seas and islands. The more '\n",
      "         'characteristic African fauna is found in the Afrotropical realm.[1] '\n",
      "         'Lying almost entirely within the tropics, and equally to north and '\n",
      "         'south of the equator creates favourable conditions for rich '\n",
      "         \"wildlife. Africa is home to many of the world's most famous fauna in \"\n",
      "         'human culture such as lions,rhinos, cheetahs, giraffes, antelope, '\n",
      "         'hippos, leopards, zebras, and African elephants among many others.',\n",
      " 'threshold': 0.5,\n",
      " 'valid_words': {'africa',\n",
      "                 'african',\n",
      "                 'almost',\n",
      "                 'among',\n",
      "                 'animals',\n",
      "                 'antelope',\n",
      "                 'broader',\n",
      "                 'characteristic',\n",
      "                 'cheetahs',\n",
      "                 'conditions',\n",
      "                 'creates',\n",
      "                 'culture',\n",
      "                 'elephants',\n",
      "                 'entirely',\n",
      "                 'equally',\n",
      "                 'equator',\n",
      "                 'famous',\n",
      "                 'fauna',\n",
      "                 'found',\n",
      "                 'giraffes',\n",
      "                 'hippos',\n",
      "                 'home',\n",
      "                 'human',\n",
      "                 'islands',\n",
      "                 'leopards',\n",
      "                 'lions',\n",
      "                 'living',\n",
      "                 'lying',\n",
      "                 'many',\n",
      "                 'north',\n",
      "                 'others',\n",
      "                 'realm',\n",
      "                 'rhinos',\n",
      "                 'rich',\n",
      "                 'seas',\n",
      "                 'sense',\n",
      "                 'south',\n",
      "                 'surrounding',\n",
      "                 'tropics',\n",
      "                 'wildlife',\n",
      "                 'within',\n",
      "                 'world',\n",
      "                 'zebras'}}\n"
     ]
    }
   ],
   "source": [
    "from pprint import pprint\n",
    "pprint(evaluation1.model_dump())"
   ]
  },
  {
   "cell_type": "code",
   "execution_count": 8,
   "metadata": {},
   "outputs": [
    {
     "name": "stdout",
     "output_type": "stream",
     "text": [
      "{'categories': [{'category': 'many_matches',\n",
      "                 'info': {'data': {'FN': 8, 'FP': 1, 'TN': 32, 'TP': 2},\n",
      "                          'metrics': {'accuracy': 0.7906976744186046,\n",
      "                                      'f_score': 0.3076923076923077,\n",
      "                                      'precision': 0.6666666666666666,\n",
      "                                      'recall': 0.2},\n",
      "                          'metrics_OOV': None},\n",
      "                 'keywords': [{'info': {'data': {'FN': 8,\n",
      "                                                 'FP': 1,\n",
      "                                                 'TN': 32,\n",
      "                                                 'TP': 2},\n",
      "                                        'metrics': {'accuracy': 0.7906976744186046,\n",
      "                                                    'f_score': 0.3076923076923077,\n",
      "                                                    'precision': 0.6666666666666666,\n",
      "                                                    'recall': 0.2},\n",
      "                                        'metrics_OOV': None},\n",
      "                               'keyword': 'animal'}]},\n",
      "                {'category': 'few_matches',\n",
      "                 'info': {'data': {'FN': 0, 'FP': 0, 'TN': 41, 'TP': 2},\n",
      "                          'metrics': {'accuracy': 1.0,\n",
      "                                      'f_score': 1.0,\n",
      "                                      'precision': 1.0,\n",
      "                                      'recall': 1.0},\n",
      "                          'metrics_OOV': None},\n",
      "                 'keywords': [{'info': {'data': {'FN': 0,\n",
      "                                                 'FP': 0,\n",
      "                                                 'TN': 41,\n",
      "                                                 'TP': 2},\n",
      "                                        'metrics': {'accuracy': 1.0,\n",
      "                                                    'f_score': 1.0,\n",
      "                                                    'precision': 1.0,\n",
      "                                                    'recall': 1.0},\n",
      "                                        'metrics_OOV': None},\n",
      "                               'keyword': 'fauna'}]},\n",
      "                {'category': 'no_matches',\n",
      "                 'info': {'data': {'FN': 0, 'FP': 0, 'TN': 129, 'TP': 0},\n",
      "                          'metrics': {'accuracy': 1.0,\n",
      "                                      'f_score': 1.0,\n",
      "                                      'precision': 1.0,\n",
      "                                      'recall': 1.0},\n",
      "                          'metrics_OOV': None},\n",
      "                 'keywords': [{'info': {'data': {'FN': 0,\n",
      "                                                 'FP': 0,\n",
      "                                                 'TN': 43,\n",
      "                                                 'TP': 0},\n",
      "                                        'metrics': {'accuracy': 1.0,\n",
      "                                                    'f_score': 1.0,\n",
      "                                                    'precision': 1.0,\n",
      "                                                    'recall': 1.0},\n",
      "                                        'metrics_OOV': None},\n",
      "                               'keyword': 'computer'},\n",
      "                              {'info': {'data': {'FN': 0,\n",
      "                                                 'FP': 0,\n",
      "                                                 'TN': 43,\n",
      "                                                 'TP': 0},\n",
      "                                        'metrics': {'accuracy': 1.0,\n",
      "                                                    'f_score': 1.0,\n",
      "                                                    'precision': 1.0,\n",
      "                                                    'recall': 1.0},\n",
      "                                        'metrics_OOV': None},\n",
      "                               'keyword': 'rocket'},\n",
      "                              {'info': {'data': {'FN': 0,\n",
      "                                                 'FP': 0,\n",
      "                                                 'TN': 43,\n",
      "                                                 'TP': 0},\n",
      "                                        'metrics': {'accuracy': 1.0,\n",
      "                                                    'f_score': 1.0,\n",
      "                                                    'precision': 1.0,\n",
      "                                                    'recall': 1.0},\n",
      "                                        'metrics_OOV': None},\n",
      "                               'keyword': 'pistol'}]}],\n",
      " 'id': 1,\n",
      " 'info': {'data': {'FN': 8, 'FP': 1, 'TN': 202, 'TP': 4},\n",
      "          'metrics': {'accuracy': 0.958139534883721,\n",
      "                      'f_score': 0.47058823529411764,\n",
      "                      'precision': 0.8,\n",
      "                      'recall': 0.3333333333333333},\n",
      "          'metrics_OOV': None},\n",
      " 'threshold': 0.5}\n"
     ]
    }
   ],
   "source": [
    "import utils.statistics as st\n",
    "stat = st.Statistics()\n",
    "result = stat.calc_case_metrics(evaluation1)\n",
    "pprint(result.model_dump())"
   ]
  },
  {
   "cell_type": "code",
   "execution_count": 9,
   "metadata": {},
   "outputs": [
    {
     "data": {
      "text/html": [
       "<div>\n",
       "<style scoped>\n",
       "    .dataframe tbody tr th:only-of-type {\n",
       "        vertical-align: middle;\n",
       "    }\n",
       "\n",
       "    .dataframe tbody tr th {\n",
       "        vertical-align: top;\n",
       "    }\n",
       "\n",
       "    .dataframe thead th {\n",
       "        text-align: right;\n",
       "    }\n",
       "</style>\n",
       "<table border=\"1\" class=\"dataframe\">\n",
       "  <thead>\n",
       "    <tr style=\"text-align: right;\">\n",
       "      <th></th>\n",
       "      <th></th>\n",
       "      <th></th>\n",
       "      <th>Precision</th>\n",
       "      <th>Recall</th>\n",
       "      <th>F-Score</th>\n",
       "      <th>Accuracy</th>\n",
       "    </tr>\n",
       "    <tr>\n",
       "      <th>Case ID</th>\n",
       "      <th>Category</th>\n",
       "      <th>Keyword</th>\n",
       "      <th></th>\n",
       "      <th></th>\n",
       "      <th></th>\n",
       "      <th></th>\n",
       "    </tr>\n",
       "  </thead>\n",
       "  <tbody>\n",
       "    <tr>\n",
       "      <th rowspan=\"6\" valign=\"top\">1</th>\n",
       "      <th>many_matches</th>\n",
       "      <th>animal</th>\n",
       "      <td>0.666667</td>\n",
       "      <td>0.200000</td>\n",
       "      <td>0.307692</td>\n",
       "      <td>0.790698</td>\n",
       "    </tr>\n",
       "    <tr>\n",
       "      <th>few_matches</th>\n",
       "      <th>fauna</th>\n",
       "      <td>1.000000</td>\n",
       "      <td>1.000000</td>\n",
       "      <td>1.000000</td>\n",
       "      <td>1.000000</td>\n",
       "    </tr>\n",
       "    <tr>\n",
       "      <th rowspan=\"3\" valign=\"top\">no_matches</th>\n",
       "      <th>computer</th>\n",
       "      <td>1.000000</td>\n",
       "      <td>1.000000</td>\n",
       "      <td>1.000000</td>\n",
       "      <td>1.000000</td>\n",
       "    </tr>\n",
       "    <tr>\n",
       "      <th>rocket</th>\n",
       "      <td>1.000000</td>\n",
       "      <td>1.000000</td>\n",
       "      <td>1.000000</td>\n",
       "      <td>1.000000</td>\n",
       "    </tr>\n",
       "    <tr>\n",
       "      <th>pistol</th>\n",
       "      <td>1.000000</td>\n",
       "      <td>1.000000</td>\n",
       "      <td>1.000000</td>\n",
       "      <td>1.000000</td>\n",
       "    </tr>\n",
       "    <tr>\n",
       "      <th>Total</th>\n",
       "      <th></th>\n",
       "      <td>0.800000</td>\n",
       "      <td>0.333333</td>\n",
       "      <td>0.470588</td>\n",
       "      <td>0.958140</td>\n",
       "    </tr>\n",
       "  </tbody>\n",
       "</table>\n",
       "</div>"
      ],
      "text/plain": [
       "                               Precision    Recall   F-Score  Accuracy\n",
       "Case ID Category     Keyword                                          \n",
       "1       many_matches animal     0.666667  0.200000  0.307692  0.790698\n",
       "        few_matches  fauna      1.000000  1.000000  1.000000  1.000000\n",
       "        no_matches   computer   1.000000  1.000000  1.000000  1.000000\n",
       "                     rocket     1.000000  1.000000  1.000000  1.000000\n",
       "                     pistol     1.000000  1.000000  1.000000  1.000000\n",
       "        Total                   0.800000  0.333333  0.470588  0.958140"
      ]
     },
     "execution_count": 9,
     "metadata": {},
     "output_type": "execute_result"
    }
   ],
   "source": [
    "import utils.visualization as vs\n",
    "viewer = vs.TableView(False, True, True)\n",
    "viewer.create_cases_table_view([result])"
   ]
  },
  {
   "cell_type": "code",
   "execution_count": 10,
   "metadata": {},
   "outputs": [
    {
     "name": "stdout",
     "output_type": "stream",
     "text": [
      "Keyword: animal\n",
      "Threshold: 0.5\n"
     ]
    },
    {
     "data": {
      "text/markdown": [
       "The Fauna of Africa, in its broader sense, is all the <span style=\"color:LightGreen; font-weight:bold;\">ANIMALS</span><sub>(0.79)</sub> living in Africa and its surrounding seas and islands. The more characteristic African fauna is found in the Afrotropical realm.[1] Lying almost entirely within the tropics, and equally to north and south of the equator creates favourable conditions for rich <s><span style=\"color:orange; font-weight:bold;\">WILDLIFE</span></s><sub>(0.56)</sub>. Africa is home to many of the world's most famous fauna in human culture such as <span style=\"color:LightBlue; font-weight:bold;\">lions</span><sub>(0.42)</sub>,<span style=\"color:LightBlue; font-weight:bold;\">rhinos</span><sub>(0.34)</sub>, <span style=\"color:LightBlue; font-weight:bold;\">cheetahs</span><sub>(0.42)</sub>, <span style=\"color:LightBlue; font-weight:bold;\">giraffes</span><sub>(0.37)</sub>, <span style=\"color:LightBlue; font-weight:bold;\">antelope</span><sub>(0.42)</sub>, <span style=\"color:LightBlue; font-weight:bold;\">hippos</span><sub>(0.38)</sub>, <span style=\"color:LightBlue; font-weight:bold;\">leopards</span><sub>(0.38)</sub>, <span style=\"color:LightBlue; font-weight:bold;\">zebras</span><sub>(0.35)</sub>, and African <span style=\"color:LightGreen; font-weight:bold;\">ELEPHANTS</span><sub>(0.52)</sub> among many others."
      ],
      "text/plain": [
       "<IPython.core.display.Markdown object>"
      ]
     },
     "metadata": {},
     "output_type": "display_data"
    },
    {
     "name": "stdout",
     "output_type": "stream",
     "text": [
      "\n",
      "Keyword: fauna\n",
      "Threshold: 0.5\n"
     ]
    },
    {
     "data": {
      "text/markdown": [
       "The <span style=\"color:LightGreen; font-weight:bold;\">FAUNA</span><sub>(1.00)</sub> of Africa, in its broader sense, is all the animals living in Africa and its surrounding seas and islands. The more characteristic African <span style=\"color:LightGreen; font-weight:bold;\">FAUNA</span><sub>(1.00)</sub> is found in the Afrotropical realm.[1] Lying almost entirely within the tropics, and equally to north and south of the equator creates favourable conditions for rich <span style=\"color:LightGreen; font-weight:bold;\">WILDLIFE</span><sub>(0.66)</sub>. Africa is home to many of the world's most famous <span style=\"color:LightGreen; font-weight:bold;\">FAUNA</span><sub>(1.00)</sub> in human culture such as lions,rhinos, cheetahs, giraffes, antelope, hippos, leopards, zebras, and African elephants among many others."
      ],
      "text/plain": [
       "<IPython.core.display.Markdown object>"
      ]
     },
     "metadata": {},
     "output_type": "display_data"
    },
    {
     "name": "stdout",
     "output_type": "stream",
     "text": [
      "\n",
      "Keyword: computer\n",
      "Threshold: 0.5\n"
     ]
    },
    {
     "data": {
      "text/markdown": [
       "The Fauna of Africa, in its broader sense, is all the animals living in Africa and its surrounding seas and islands. The more characteristic African fauna is found in the Afrotropical realm.[1] Lying almost entirely within the tropics, and equally to north and south of the equator creates favourable conditions for rich wildlife. Africa is home to many of the world's most famous fauna in human culture such as lions,rhinos, cheetahs, giraffes, antelope, hippos, leopards, zebras, and African elephants among many others."
      ],
      "text/plain": [
       "<IPython.core.display.Markdown object>"
      ]
     },
     "metadata": {},
     "output_type": "display_data"
    },
    {
     "name": "stdout",
     "output_type": "stream",
     "text": [
      "\n",
      "Keyword: rocket\n",
      "Threshold: 0.5\n"
     ]
    },
    {
     "data": {
      "text/markdown": [
       "The Fauna of Africa, in its broader sense, is all the animals living in Africa and its surrounding seas and islands. The more characteristic African fauna is found in the Afrotropical realm.[1] Lying almost entirely within the tropics, and equally to north and south of the equator creates favourable conditions for rich wildlife. Africa is home to many of the world's most famous fauna in human culture such as lions,rhinos, cheetahs, giraffes, antelope, hippos, leopards, zebras, and African elephants among many others."
      ],
      "text/plain": [
       "<IPython.core.display.Markdown object>"
      ]
     },
     "metadata": {},
     "output_type": "display_data"
    },
    {
     "name": "stdout",
     "output_type": "stream",
     "text": [
      "\n",
      "Keyword: pistol\n",
      "Threshold: 0.5\n"
     ]
    },
    {
     "data": {
      "text/markdown": [
       "The Fauna of Africa, in its broader sense, is all the animals living in Africa and its surrounding seas and islands. The more characteristic African fauna is found in the Afrotropical realm.[1] Lying almost entirely within the tropics, and equally to north and south of the equator creates favourable conditions for rich wildlife. Africa is home to many of the world's most famous fauna in human culture such as lions,rhinos, cheetahs, giraffes, antelope, hippos, leopards, zebras, and African elephants among many others."
      ],
      "text/plain": [
       "<IPython.core.display.Markdown object>"
      ]
     },
     "metadata": {},
     "output_type": "display_data"
    },
    {
     "name": "stdout",
     "output_type": "stream",
     "text": [
      "\n"
     ]
    }
   ],
   "source": [
    "import utils.visualization as vs\n",
    "\n",
    "h = vs.Highlighter(evaluation1)\n",
    "\n",
    "h.highlight_case(show_scores=True)\n",
    "h.display()"
   ]
  },
  {
   "cell_type": "code",
   "execution_count": 11,
   "metadata": {},
   "outputs": [
    {
     "name": "stdout",
     "output_type": "stream",
     "text": [
      "Keyword: animal\n",
      "Threshold: 0.2\n"
     ]
    },
    {
     "data": {
      "text/markdown": [
       "The <s><span style=\"color:orange; font-weight:bold;\">FAUNA</span></s> of Africa, in its broader sense, is all the <span style=\"color:LightGreen; font-weight:bold;\">ANIMALS</span> living in Africa and its surrounding seas and islands. The more characteristic African <s><span style=\"color:orange; font-weight:bold;\">FAUNA</span></s> is found in the Afrotropical realm.[1] Lying almost entirely within the tropics, and equally to north and south of the equator creates favourable conditions for rich <s><span style=\"color:orange; font-weight:bold;\">WILDLIFE</span></s>. Africa is home to many of the world's most famous <s><span style=\"color:orange; font-weight:bold;\">FAUNA</span></s> in <s><span style=\"color:orange; font-weight:bold;\">HUMAN</span></s> culture such as <span style=\"color:LightGreen; font-weight:bold;\">LIONS</span>,<span style=\"color:LightGreen; font-weight:bold;\">RHINOS</span>, <span style=\"color:LightGreen; font-weight:bold;\">CHEETAHS</span>, <span style=\"color:LightGreen; font-weight:bold;\">GIRAFFES</span>, <span style=\"color:LightGreen; font-weight:bold;\">ANTELOPE</span>, <span style=\"color:LightGreen; font-weight:bold;\">HIPPOS</span>, <span style=\"color:LightGreen; font-weight:bold;\">LEOPARDS</span>, <span style=\"color:LightGreen; font-weight:bold;\">ZEBRAS</span>, and African <span style=\"color:LightGreen; font-weight:bold;\">ELEPHANTS</span> among many others."
      ],
      "text/plain": [
       "<IPython.core.display.Markdown object>"
      ]
     },
     "metadata": {},
     "output_type": "display_data"
    },
    {
     "name": "stdout",
     "output_type": "stream",
     "text": [
      "\n",
      "Keyword: fauna\n",
      "Threshold: 0.2\n"
     ]
    },
    {
     "data": {
      "text/markdown": [
       "The <span style=\"color:LightGreen; font-weight:bold;\">FAUNA</span> of Africa, in its broader sense, is all the <s><span style=\"color:orange; font-weight:bold;\">ANIMALS</span></s> living in Africa and its surrounding <s><span style=\"color:orange; font-weight:bold;\">SEAS</span></s> and <s><span style=\"color:orange; font-weight:bold;\">ISLANDS</span></s>. The more characteristic African <span style=\"color:LightGreen; font-weight:bold;\">FAUNA</span> is found in the Afrotropical realm.[1] Lying almost entirely within the <s><span style=\"color:orange; font-weight:bold;\">TROPICS</span></s>, and equally to north and south of the <s><span style=\"color:orange; font-weight:bold;\">EQUATOR</span></s> creates favourable conditions for rich <span style=\"color:LightGreen; font-weight:bold;\">WILDLIFE</span>. Africa is home to many of the world's most famous <span style=\"color:LightGreen; font-weight:bold;\">FAUNA</span> in <s><span style=\"color:orange; font-weight:bold;\">HUMAN</span></s> <s><span style=\"color:orange; font-weight:bold;\">CULTURE</span></s> such as <s><span style=\"color:orange; font-weight:bold;\">LIONS</span></s>,<s><span style=\"color:orange; font-weight:bold;\">RHINOS</span></s>, <s><span style=\"color:orange; font-weight:bold;\">CHEETAHS</span></s>, <s><span style=\"color:orange; font-weight:bold;\">GIRAFFES</span></s>, <s><span style=\"color:orange; font-weight:bold;\">ANTELOPE</span></s>, <s><span style=\"color:orange; font-weight:bold;\">HIPPOS</span></s>, <s><span style=\"color:orange; font-weight:bold;\">LEOPARDS</span></s>, <s><span style=\"color:orange; font-weight:bold;\">ZEBRAS</span></s>, and African <s><span style=\"color:orange; font-weight:bold;\">ELEPHANTS</span></s> among many others."
      ],
      "text/plain": [
       "<IPython.core.display.Markdown object>"
      ]
     },
     "metadata": {},
     "output_type": "display_data"
    },
    {
     "name": "stdout",
     "output_type": "stream",
     "text": [
      "\n",
      "Keyword: computer\n",
      "Threshold: 0.2\n"
     ]
    },
    {
     "data": {
      "text/markdown": [
       "The Fauna of Africa, in its broader sense, is all the animals living in Africa and its surrounding seas and islands. The more characteristic African fauna is found in the Afrotropical realm.[1] Lying almost entirely within the tropics, and equally to north and south of the equator creates favourable conditions for rich wildlife. Africa is home to many of the world's most famous fauna in human culture such as lions,rhinos, cheetahs, giraffes, antelope, hippos, leopards, zebras, and African elephants among many others."
      ],
      "text/plain": [
       "<IPython.core.display.Markdown object>"
      ]
     },
     "metadata": {},
     "output_type": "display_data"
    },
    {
     "name": "stdout",
     "output_type": "stream",
     "text": [
      "\n",
      "Keyword: rocket\n",
      "Threshold: 0.2\n"
     ]
    },
    {
     "data": {
      "text/markdown": [
       "The Fauna of Africa, in its broader sense, is all the animals living in Africa and its surrounding seas and islands. The more characteristic African fauna is found in the Afrotropical realm.[1] Lying almost entirely within the tropics, and equally to north and south of the equator creates favourable conditions for rich wildlife. Africa is home to many of the world's most famous fauna in human culture such as lions,rhinos, cheetahs, giraffes, antelope, hippos, leopards, zebras, and African elephants among many others."
      ],
      "text/plain": [
       "<IPython.core.display.Markdown object>"
      ]
     },
     "metadata": {},
     "output_type": "display_data"
    },
    {
     "name": "stdout",
     "output_type": "stream",
     "text": [
      "\n",
      "Keyword: pistol\n",
      "Threshold: 0.2\n"
     ]
    },
    {
     "data": {
      "text/markdown": [
       "The Fauna of Africa, in its broader sense, is all the animals living in Africa and its surrounding seas and islands. The more characteristic African fauna is found in the Afrotropical realm.[1] Lying almost entirely within the tropics, and equally to north and south of the equator creates favourable conditions for rich wildlife. Africa is home to many of the world's most famous fauna in human culture such as lions,rhinos, cheetahs, giraffes, <s><span style=\"color:orange; font-weight:bold;\">ANTELOPE</span></s>, hippos, leopards, zebras, and African elephants among many others."
      ],
      "text/plain": [
       "<IPython.core.display.Markdown object>"
      ]
     },
     "metadata": {},
     "output_type": "display_data"
    },
    {
     "name": "stdout",
     "output_type": "stream",
     "text": [
      "\n"
     ]
    }
   ],
   "source": [
    "h.reload_case(evaluation2)\n",
    "h.highlight_case()\n",
    "h.display()"
   ]
  },
  {
   "cell_type": "code",
   "execution_count": 12,
   "metadata": {},
   "outputs": [
    {
     "name": "stdout",
     "output_type": "stream",
     "text": [
      "Keyword: animal\n"
     ]
    },
    {
     "data": {
      "text/markdown": [
       "The <s><span style=\"color:orange; font-weight:bold;\">FAUNA</span></s> of Africa, in its broader sense, is all the <span style=\"color:LightGreen; font-weight:bold;\">ANIMALS</span> living in Africa and its surrounding seas and islands. The more characteristic African <s><span style=\"color:orange; font-weight:bold;\">FAUNA</span></s> is found in the Afrotropical realm.[1] Lying almost entirely within the tropics, and equally to north and south of the equator creates favourable conditions for rich <s><span style=\"color:orange; font-weight:bold;\">WILDLIFE</span></s>. Africa is home to many of the world's most famous <s><span style=\"color:orange; font-weight:bold;\">FAUNA</span></s> in <s><span style=\"color:orange; font-weight:bold;\">HUMAN</span></s> culture such as <span style=\"color:LightGreen; font-weight:bold;\">LIONS</span>,<span style=\"color:LightGreen; font-weight:bold;\">RHINOS</span>, <span style=\"color:LightGreen; font-weight:bold;\">CHEETAHS</span>, <span style=\"color:LightGreen; font-weight:bold;\">GIRAFFES</span>, <span style=\"color:LightGreen; font-weight:bold;\">ANTELOPE</span>, <span style=\"color:LightGreen; font-weight:bold;\">HIPPOS</span>, <span style=\"color:LightGreen; font-weight:bold;\">LEOPARDS</span>, <span style=\"color:LightGreen; font-weight:bold;\">ZEBRAS</span>, and African <span style=\"color:LightGreen; font-weight:bold;\">ELEPHANTS</span> among many others."
      ],
      "text/plain": [
       "<IPython.core.display.Markdown object>"
      ]
     },
     "metadata": {},
     "output_type": "display_data"
    },
    {
     "name": "stdout",
     "output_type": "stream",
     "text": [
      "\n"
     ]
    }
   ],
   "source": [
    "h.display_by_keyword(\"animal\")"
   ]
  }
 ],
 "metadata": {
  "kernelspec": {
   "display_name": "vylet-ner",
   "language": "python",
   "name": "python3"
  },
  "language_info": {
   "codemirror_mode": {
    "name": "ipython",
    "version": 3
   },
   "file_extension": ".py",
   "mimetype": "text/x-python",
   "name": "python",
   "nbconvert_exporter": "python",
   "pygments_lexer": "ipython3",
   "version": "3.11.4"
  },
  "orig_nbformat": 4
 },
 "nbformat": 4,
 "nbformat_minor": 2
}
