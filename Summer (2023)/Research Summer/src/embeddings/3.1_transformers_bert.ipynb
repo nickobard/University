{
 "cells": [
  {
   "cell_type": "code",
   "execution_count": 1,
   "metadata": {},
   "outputs": [],
   "source": [
    "%load_ext autoreload\n",
    "%autoreload 2\n",
    "from IPython.display import display"
   ]
  },
  {
   "cell_type": "code",
   "execution_count": 2,
   "metadata": {},
   "outputs": [],
   "source": [
    "import logging\n",
    "logging.basicConfig(\n",
    "    format=\"%(asctime)s - %(levelname)s - %(message)s\", level=logging.INFO, force=True\n",
    ")"
   ]
  },
  {
   "cell_type": "code",
   "execution_count": 3,
   "metadata": {},
   "outputs": [],
   "source": [
    "model_name = \"bert-base-uncased\"\n",
    "from transformers import BertModel, BertTokenizer\n",
    "model = BertModel.from_pretrained(model_name,\n",
    "           output_hidden_states = True)\n",
    "tokenizer = BertTokenizer.from_pretrained(model_name)"
   ]
  },
  {
   "cell_type": "code",
   "execution_count": 4,
   "metadata": {},
   "outputs": [],
   "source": [
    "import evaluators, utils\n",
    "ev = evaluators.TransformersEvaluator(model=model,\n",
    "                                      tokenizer=tokenizer,\n",
    "                                      model_name=model_name)\n",
    "ev.load_dataset(\"../datasets/dataset_1.json\")"
   ]
  },
  {
   "cell_type": "code",
   "execution_count": 5,
   "metadata": {},
   "outputs": [],
   "source": [
    "ev.reset_evaluator()\n",
    "evaluation = ev.evaluate()"
   ]
  },
  {
   "cell_type": "code",
   "execution_count": 6,
   "metadata": {},
   "outputs": [
    {
     "data": {
      "text/html": [
       "<div>\n",
       "<style scoped>\n",
       "    .dataframe tbody tr th:only-of-type {\n",
       "        vertical-align: middle;\n",
       "    }\n",
       "\n",
       "    .dataframe tbody tr th {\n",
       "        vertical-align: top;\n",
       "    }\n",
       "\n",
       "    .dataframe thead th {\n",
       "        text-align: right;\n",
       "    }\n",
       "</style>\n",
       "<table border=\"1\" class=\"dataframe\">\n",
       "  <thead>\n",
       "    <tr style=\"text-align: right;\">\n",
       "      <th></th>\n",
       "      <th>Case ID</th>\n",
       "      <th>Keyword</th>\n",
       "      <th>Word</th>\n",
       "      <th>Classification</th>\n",
       "      <th>Similarity</th>\n",
       "      <th>Lost</th>\n",
       "      <th>OOV</th>\n",
       "    </tr>\n",
       "  </thead>\n",
       "  <tbody>\n",
       "    <tr>\n",
       "      <th>0</th>\n",
       "      <td>1</td>\n",
       "      <td>animal</td>\n",
       "      <td>(fauna, 0)</td>\n",
       "      <td>0</td>\n",
       "      <td>0.315067</td>\n",
       "      <td>False</td>\n",
       "      <td>False</td>\n",
       "    </tr>\n",
       "    <tr>\n",
       "      <th>1</th>\n",
       "      <td>1</td>\n",
       "      <td>animal</td>\n",
       "      <td>(africa, 0)</td>\n",
       "      <td>0</td>\n",
       "      <td>0.250819</td>\n",
       "      <td>False</td>\n",
       "      <td>False</td>\n",
       "    </tr>\n",
       "    <tr>\n",
       "      <th>2</th>\n",
       "      <td>1</td>\n",
       "      <td>animal</td>\n",
       "      <td>(broader, 0)</td>\n",
       "      <td>0</td>\n",
       "      <td>0.189065</td>\n",
       "      <td>False</td>\n",
       "      <td>False</td>\n",
       "    </tr>\n",
       "    <tr>\n",
       "      <th>3</th>\n",
       "      <td>1</td>\n",
       "      <td>animal</td>\n",
       "      <td>(sense, 0)</td>\n",
       "      <td>0</td>\n",
       "      <td>0.147454</td>\n",
       "      <td>False</td>\n",
       "      <td>False</td>\n",
       "    </tr>\n",
       "    <tr>\n",
       "      <th>4</th>\n",
       "      <td>1</td>\n",
       "      <td>animal</td>\n",
       "      <td>(animals, 0)</td>\n",
       "      <td>1</td>\n",
       "      <td>0.410767</td>\n",
       "      <td>False</td>\n",
       "      <td>False</td>\n",
       "    </tr>\n",
       "    <tr>\n",
       "      <th>...</th>\n",
       "      <td>...</td>\n",
       "      <td>...</td>\n",
       "      <td>...</td>\n",
       "      <td>...</td>\n",
       "      <td>...</td>\n",
       "      <td>...</td>\n",
       "      <td>...</td>\n",
       "    </tr>\n",
       "    <tr>\n",
       "      <th>1522</th>\n",
       "      <td>4</td>\n",
       "      <td>resource</td>\n",
       "      <td>(economic, 0)</td>\n",
       "      <td>0</td>\n",
       "      <td>0.253377</td>\n",
       "      <td>False</td>\n",
       "      <td>False</td>\n",
       "    </tr>\n",
       "    <tr>\n",
       "      <th>1523</th>\n",
       "      <td>4</td>\n",
       "      <td>resource</td>\n",
       "      <td>(benefits, 0)</td>\n",
       "      <td>0</td>\n",
       "      <td>0.232397</td>\n",
       "      <td>False</td>\n",
       "      <td>False</td>\n",
       "    </tr>\n",
       "    <tr>\n",
       "      <th>1524</th>\n",
       "      <td>4</td>\n",
       "      <td>resource</td>\n",
       "      <td>(side, 0)</td>\n",
       "      <td>0</td>\n",
       "      <td>0.136636</td>\n",
       "      <td>False</td>\n",
       "      <td>False</td>\n",
       "    </tr>\n",
       "    <tr>\n",
       "      <th>1525</th>\n",
       "      <td>4</td>\n",
       "      <td>resource</td>\n",
       "      <td>(things, 0)</td>\n",
       "      <td>0</td>\n",
       "      <td>0.242895</td>\n",
       "      <td>False</td>\n",
       "      <td>False</td>\n",
       "    </tr>\n",
       "    <tr>\n",
       "      <th>1526</th>\n",
       "      <td>4</td>\n",
       "      <td>resource</td>\n",
       "      <td>(said, 0)</td>\n",
       "      <td>0</td>\n",
       "      <td>0.216230</td>\n",
       "      <td>False</td>\n",
       "      <td>False</td>\n",
       "    </tr>\n",
       "  </tbody>\n",
       "</table>\n",
       "<p>1527 rows × 7 columns</p>\n",
       "</div>"
      ],
      "text/plain": [
       "      Case ID   Keyword           Word  Classification  Similarity   Lost  \\\n",
       "0           1    animal     (fauna, 0)               0    0.315067  False   \n",
       "1           1    animal    (africa, 0)               0    0.250819  False   \n",
       "2           1    animal   (broader, 0)               0    0.189065  False   \n",
       "3           1    animal     (sense, 0)               0    0.147454  False   \n",
       "4           1    animal   (animals, 0)               1    0.410767  False   \n",
       "...       ...       ...            ...             ...         ...    ...   \n",
       "1522        4  resource  (economic, 0)               0    0.253377  False   \n",
       "1523        4  resource  (benefits, 0)               0    0.232397  False   \n",
       "1524        4  resource      (side, 0)               0    0.136636  False   \n",
       "1525        4  resource    (things, 0)               0    0.242895  False   \n",
       "1526        4  resource      (said, 0)               0    0.216230  False   \n",
       "\n",
       "        OOV  \n",
       "0     False  \n",
       "1     False  \n",
       "2     False  \n",
       "3     False  \n",
       "4     False  \n",
       "...     ...  \n",
       "1522  False  \n",
       "1523  False  \n",
       "1524  False  \n",
       "1525  False  \n",
       "1526  False  \n",
       "\n",
       "[1527 rows x 7 columns]"
      ]
     },
     "execution_count": 6,
     "metadata": {},
     "output_type": "execute_result"
    }
   ],
   "source": [
    "evaluation"
   ]
  },
  {
   "cell_type": "code",
   "execution_count": 7,
   "metadata": {},
   "outputs": [
    {
     "data": {
      "text/plain": [
       "'OOV:'"
      ]
     },
     "metadata": {},
     "output_type": "display_data"
    },
    {
     "data": {
      "text/html": [
       "<div>\n",
       "<style scoped>\n",
       "    .dataframe tbody tr th:only-of-type {\n",
       "        vertical-align: middle;\n",
       "    }\n",
       "\n",
       "    .dataframe tbody tr th {\n",
       "        vertical-align: top;\n",
       "    }\n",
       "\n",
       "    .dataframe thead th {\n",
       "        text-align: right;\n",
       "    }\n",
       "</style>\n",
       "<table border=\"1\" class=\"dataframe\">\n",
       "  <thead>\n",
       "    <tr style=\"text-align: right;\">\n",
       "      <th></th>\n",
       "      <th>Case ID</th>\n",
       "      <th>Keyword</th>\n",
       "      <th>Word</th>\n",
       "      <th>Classification</th>\n",
       "      <th>Similarity</th>\n",
       "      <th>Lost</th>\n",
       "      <th>OOV</th>\n",
       "    </tr>\n",
       "  </thead>\n",
       "  <tbody>\n",
       "  </tbody>\n",
       "</table>\n",
       "</div>"
      ],
      "text/plain": [
       "Empty DataFrame\n",
       "Columns: [Case ID, Keyword, Word, Classification, Similarity, Lost, OOV]\n",
       "Index: []"
      ]
     },
     "metadata": {},
     "output_type": "display_data"
    },
    {
     "data": {
      "text/plain": [
       "'Lost:'"
      ]
     },
     "metadata": {},
     "output_type": "display_data"
    },
    {
     "data": {
      "text/html": [
       "<div>\n",
       "<style scoped>\n",
       "    .dataframe tbody tr th:only-of-type {\n",
       "        vertical-align: middle;\n",
       "    }\n",
       "\n",
       "    .dataframe tbody tr th {\n",
       "        vertical-align: top;\n",
       "    }\n",
       "\n",
       "    .dataframe thead th {\n",
       "        text-align: right;\n",
       "    }\n",
       "</style>\n",
       "<table border=\"1\" class=\"dataframe\">\n",
       "  <thead>\n",
       "    <tr style=\"text-align: right;\">\n",
       "      <th></th>\n",
       "      <th>Case ID</th>\n",
       "      <th>Keyword</th>\n",
       "      <th>Word</th>\n",
       "      <th>Classification</th>\n",
       "      <th>Similarity</th>\n",
       "      <th>Lost</th>\n",
       "      <th>OOV</th>\n",
       "    </tr>\n",
       "  </thead>\n",
       "  <tbody>\n",
       "    <tr>\n",
       "      <th>1189</th>\n",
       "      <td>4</td>\n",
       "      <td>disease</td>\n",
       "      <td>(anti-cancer, 0)</td>\n",
       "      <td>1</td>\n",
       "      <td>NaN</td>\n",
       "      <td>True</td>\n",
       "      <td>False</td>\n",
       "    </tr>\n",
       "    <tr>\n",
       "      <th>1458</th>\n",
       "      <td>4</td>\n",
       "      <td>when</td>\n",
       "      <td>(now, 0)</td>\n",
       "      <td>1</td>\n",
       "      <td>NaN</td>\n",
       "      <td>True</td>\n",
       "      <td>False</td>\n",
       "    </tr>\n",
       "    <tr>\n",
       "      <th>1459</th>\n",
       "      <td>4</td>\n",
       "      <td>when</td>\n",
       "      <td>(now, 1)</td>\n",
       "      <td>1</td>\n",
       "      <td>NaN</td>\n",
       "      <td>True</td>\n",
       "      <td>False</td>\n",
       "    </tr>\n",
       "  </tbody>\n",
       "</table>\n",
       "</div>"
      ],
      "text/plain": [
       "      Case ID  Keyword              Word  Classification  Similarity  Lost  \\\n",
       "1189        4  disease  (anti-cancer, 0)               1         NaN  True   \n",
       "1458        4     when          (now, 0)               1         NaN  True   \n",
       "1459        4     when          (now, 1)               1         NaN  True   \n",
       "\n",
       "        OOV  \n",
       "1189  False  \n",
       "1458  False  \n",
       "1459  False  "
      ]
     },
     "metadata": {},
     "output_type": "display_data"
    },
    {
     "data": {
      "text/plain": [
       "'Statistics:'"
      ]
     },
     "metadata": {},
     "output_type": "display_data"
    },
    {
     "data": {
      "text/html": [
       "<div>\n",
       "<style scoped>\n",
       "    .dataframe tbody tr th:only-of-type {\n",
       "        vertical-align: middle;\n",
       "    }\n",
       "\n",
       "    .dataframe tbody tr th {\n",
       "        vertical-align: top;\n",
       "    }\n",
       "\n",
       "    .dataframe thead th {\n",
       "        text-align: right;\n",
       "    }\n",
       "</style>\n",
       "<table border=\"1\" class=\"dataframe\">\n",
       "  <thead>\n",
       "    <tr style=\"text-align: right;\">\n",
       "      <th></th>\n",
       "      <th>Threshold</th>\n",
       "      <th>Precision</th>\n",
       "      <th>Recall</th>\n",
       "      <th>F1 Score</th>\n",
       "      <th>Accuracy</th>\n",
       "      <th>AUC-PR</th>\n",
       "    </tr>\n",
       "    <tr>\n",
       "      <th>Methods</th>\n",
       "      <th></th>\n",
       "      <th></th>\n",
       "      <th></th>\n",
       "      <th></th>\n",
       "      <th></th>\n",
       "      <th></th>\n",
       "    </tr>\n",
       "  </thead>\n",
       "  <tbody>\n",
       "    <tr>\n",
       "      <th>bert-base-uncased-cos</th>\n",
       "      <td>0.278357</td>\n",
       "      <td>0.268657</td>\n",
       "      <td>0.423529</td>\n",
       "      <td>0.328767</td>\n",
       "      <td>0.903733</td>\n",
       "      <td>0.265451</td>\n",
       "    </tr>\n",
       "  </tbody>\n",
       "</table>\n",
       "</div>"
      ],
      "text/plain": [
       "                       Threshold  Precision    Recall  F1 Score  Accuracy  \\\n",
       "Methods                                                                     \n",
       "bert-base-uncased-cos   0.278357   0.268657  0.423529  0.328767  0.903733   \n",
       "\n",
       "                         AUC-PR  \n",
       "Methods                          \n",
       "bert-base-uncased-cos  0.265451  "
      ]
     },
     "metadata": {},
     "output_type": "display_data"
    },
    {
     "data": {
      "image/png": "[encoded data removed]",
      "text/plain": [
       "<Figure size 640x480 with 1 Axes>"
      ]
     },
     "metadata": {},
     "output_type": "display_data"
    }
   ],
   "source": [
    "st = utils.Statistics(ev)\n",
    "\n",
    "display(\"OOV:\")\n",
    "display(st.get_oov())\n",
    "\n",
    "display(\"Lost:\")\n",
    "display(st.get_lost())\n",
    "\n",
    "stats = st.calculate_statistics()\n",
    "display(\"Statistics:\")\n",
    "display(stats)\n",
    "\n",
    "st.display_PRC()"
   ]
  },
  {
   "cell_type": "code",
   "execution_count": 8,
   "metadata": {},
   "outputs": [
    {
     "data": {
      "text/html": [
       "<div>\n",
       "<style scoped>\n",
       "    .dataframe tbody tr th:only-of-type {\n",
       "        vertical-align: middle;\n",
       "    }\n",
       "\n",
       "    .dataframe tbody tr th {\n",
       "        vertical-align: top;\n",
       "    }\n",
       "\n",
       "    .dataframe thead th {\n",
       "        text-align: right;\n",
       "    }\n",
       "</style>\n",
       "<table border=\"1\" class=\"dataframe\">\n",
       "  <thead>\n",
       "    <tr style=\"text-align: right;\">\n",
       "      <th></th>\n",
       "      <th>Threshold</th>\n",
       "      <th>Precision</th>\n",
       "      <th>Recall</th>\n",
       "      <th>F1 Score</th>\n",
       "      <th>Accuracy</th>\n",
       "      <th>AUC-PR</th>\n",
       "    </tr>\n",
       "    <tr>\n",
       "      <th>Methods</th>\n",
       "      <th></th>\n",
       "      <th></th>\n",
       "      <th></th>\n",
       "      <th></th>\n",
       "      <th></th>\n",
       "      <th></th>\n",
       "    </tr>\n",
       "  </thead>\n",
       "  <tbody>\n",
       "    <tr>\n",
       "      <th>bert-base-uncased-cos</th>\n",
       "      <td>0.278357</td>\n",
       "      <td>0.268657</td>\n",
       "      <td>0.423529</td>\n",
       "      <td>0.328767</td>\n",
       "      <td>0.903733</td>\n",
       "      <td>0.265451</td>\n",
       "    </tr>\n",
       "    <tr>\n",
       "      <th>bert-base-uncased-dot</th>\n",
       "      <td>53.311996</td>\n",
       "      <td>0.266667</td>\n",
       "      <td>0.470588</td>\n",
       "      <td>0.340426</td>\n",
       "      <td>0.898494</td>\n",
       "      <td>0.234968</td>\n",
       "    </tr>\n",
       "    <tr>\n",
       "      <th>bert-base-uncased-euc</th>\n",
       "      <td>6.980703</td>\n",
       "      <td>0.120743</td>\n",
       "      <td>0.458824</td>\n",
       "      <td>0.191176</td>\n",
       "      <td>0.783890</td>\n",
       "      <td>0.106553</td>\n",
       "    </tr>\n",
       "  </tbody>\n",
       "</table>\n",
       "</div>"
      ],
      "text/plain": [
       "                       Threshold  Precision    Recall  F1 Score  Accuracy  \\\n",
       "Methods                                                                     \n",
       "bert-base-uncased-cos   0.278357   0.268657  0.423529  0.328767  0.903733   \n",
       "bert-base-uncased-dot  53.311996   0.266667  0.470588  0.340426  0.898494   \n",
       "bert-base-uncased-euc   6.980703   0.120743  0.458824  0.191176  0.783890   \n",
       "\n",
       "                         AUC-PR  \n",
       "Methods                          \n",
       "bert-base-uncased-cos  0.265451  \n",
       "bert-base-uncased-dot  0.234968  \n",
       "bert-base-uncased-euc  0.106553  "
      ]
     },
     "metadata": {},
     "output_type": "display_data"
    },
    {
     "data": {
      "image/png": "[encoded data removed]",
      "text/plain": [
       "<Figure size 640x480 with 1 Axes>"
      ]
     },
     "metadata": {},
     "output_type": "display_data"
    },
    {
     "data": {
      "image/png": "[encoded data removed]",
      "text/plain": [
       "<Figure size 640x480 with 1 Axes>"
      ]
     },
     "metadata": {},
     "output_type": "display_data"
    },
    {
     "data": {
      "image/png": "[encoded data removed]",
      "text/plain": [
       "<Figure size 640x480 with 1 Axes>"
      ]
     },
     "metadata": {},
     "output_type": "display_data"
    }
   ],
   "source": [
    "import pandas as pd\n",
    "methods = [member for member in utils.SimilarityFunction]\n",
    "\n",
    "results = pd.DataFrame()\n",
    "\n",
    "for method in methods:\n",
    "    ev.similarity_method = method\n",
    "    ev.reset_evaluator()\n",
    "    data = ev.evaluate()\n",
    "    st = utils.Statistics(ev)\n",
    "    stats = st.calculate_statistics()\n",
    "    st.display_PRC()\n",
    "    results = pd.concat([results, stats])\n",
    "\n",
    "display(results)"
   ]
  }
 ],
 "metadata": {
  "kernelspec": {
   "display_name": "vylet-ner",
   "language": "python",
   "name": "python3"
  },
  "language_info": {
   "codemirror_mode": {
    "name": "ipython",
    "version": 3
   },
   "file_extension": ".py",
   "mimetype": "text/x-python",
   "name": "python",
   "nbconvert_exporter": "python",
   "pygments_lexer": "ipython3",
   "version": "3.11.4"
  },
  "orig_nbformat": 4
 },
 "nbformat": 4,
 "nbformat_minor": 2
}
