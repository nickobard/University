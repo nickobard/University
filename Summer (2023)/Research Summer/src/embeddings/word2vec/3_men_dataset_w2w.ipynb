{
 "cells": [
  {
   "cell_type": "markdown",
   "metadata": {},
   "source": [
    "### Set up"
   ]
  },
  {
   "cell_type": "code",
   "execution_count": null,
   "metadata": {},
   "outputs": [],
   "source": [
    "%load_ext autoreload\n",
    "%autoreload 2"
   ]
  },
  {
   "cell_type": "code",
   "execution_count": null,
   "metadata": {},
   "outputs": [],
   "source": [
    "from IPython import display"
   ]
  },
  {
   "cell_type": "markdown",
   "metadata": {},
   "source": [
    "Loading word2vec model, getting its keyword vectors"
   ]
  },
  {
   "cell_type": "code",
   "execution_count": 5,
   "metadata": {},
   "outputs": [],
   "source": [
    "import gensim.downloader as api\n",
    "from gensim.models import KeyedVectors\n",
    "model_name = 'word2vec-google-news-300'\n",
    "wv: KeyedVectors = api.load(model_name)"
   ]
  },
  {
   "cell_type": "markdown",
   "metadata": {},
   "source": [
    "Loading dataset into pandas dataframe.\n",
    "\n",
    "Score column represents how man times annotators considered this pair of two words **more similar** that another word pair of two words. Each annotator was given two words pairs 50 times, where he had to choose a pair of words, where two words are more similar to each other then in another pair. "
   ]
  },
  {
   "cell_type": "code",
   "execution_count": 1,
   "metadata": {},
   "outputs": [
    {
     "data": {
      "text/html": [
       "<div>\n",
       "<style scoped>\n",
       "    .dataframe tbody tr th:only-of-type {\n",
       "        vertical-align: middle;\n",
       "    }\n",
       "\n",
       "    .dataframe tbody tr th {\n",
       "        vertical-align: top;\n",
       "    }\n",
       "\n",
       "    .dataframe thead th {\n",
       "        text-align: right;\n",
       "    }\n",
       "</style>\n",
       "<table border=\"1\" class=\"dataframe\">\n",
       "  <thead>\n",
       "    <tr style=\"text-align: right;\">\n",
       "      <th></th>\n",
       "      <th>word1</th>\n",
       "      <th>word2</th>\n",
       "      <th>score</th>\n",
       "    </tr>\n",
       "  </thead>\n",
       "  <tbody>\n",
       "    <tr>\n",
       "      <th>0</th>\n",
       "      <td>sun</td>\n",
       "      <td>sunlight</td>\n",
       "      <td>50.0</td>\n",
       "    </tr>\n",
       "    <tr>\n",
       "      <th>1</th>\n",
       "      <td>automobile</td>\n",
       "      <td>car</td>\n",
       "      <td>50.0</td>\n",
       "    </tr>\n",
       "    <tr>\n",
       "      <th>2</th>\n",
       "      <td>river</td>\n",
       "      <td>water</td>\n",
       "      <td>49.0</td>\n",
       "    </tr>\n",
       "    <tr>\n",
       "      <th>3</th>\n",
       "      <td>stairs</td>\n",
       "      <td>staircase</td>\n",
       "      <td>49.0</td>\n",
       "    </tr>\n",
       "    <tr>\n",
       "      <th>4</th>\n",
       "      <td>morning</td>\n",
       "      <td>sunrise</td>\n",
       "      <td>49.0</td>\n",
       "    </tr>\n",
       "    <tr>\n",
       "      <th>5</th>\n",
       "      <td>rain</td>\n",
       "      <td>storm</td>\n",
       "      <td>49.0</td>\n",
       "    </tr>\n",
       "    <tr>\n",
       "      <th>6</th>\n",
       "      <td>cat</td>\n",
       "      <td>kittens</td>\n",
       "      <td>49.0</td>\n",
       "    </tr>\n",
       "    <tr>\n",
       "      <th>7</th>\n",
       "      <td>dance</td>\n",
       "      <td>dancers</td>\n",
       "      <td>49.0</td>\n",
       "    </tr>\n",
       "    <tr>\n",
       "      <th>8</th>\n",
       "      <td>camera</td>\n",
       "      <td>photography</td>\n",
       "      <td>49.0</td>\n",
       "    </tr>\n",
       "    <tr>\n",
       "      <th>9</th>\n",
       "      <td>cat</td>\n",
       "      <td>feline</td>\n",
       "      <td>48.0</td>\n",
       "    </tr>\n",
       "  </tbody>\n",
       "</table>\n",
       "</div>"
      ],
      "text/plain": [
       "        word1        word2  score\n",
       "0         sun     sunlight   50.0\n",
       "1  automobile          car   50.0\n",
       "2       river        water   49.0\n",
       "3      stairs    staircase   49.0\n",
       "4     morning      sunrise   49.0\n",
       "5        rain        storm   49.0\n",
       "6         cat      kittens   49.0\n",
       "7       dance      dancers   49.0\n",
       "8      camera  photography   49.0\n",
       "9         cat       feline   48.0"
      ]
     },
     "execution_count": 1,
     "metadata": {},
     "output_type": "execute_result"
    }
   ],
   "source": [
    "import pandas as pd\n",
    "\n",
    "men_dataset_path = \"../../datasets/MEN/MEN_dataset_natural_form_full\"\n",
    "\n",
    "# Read the data into a pandas DataFrame\n",
    "df = pd.read_csv(\n",
    "    men_dataset_path, sep=\" \", header=None, names=[\"word1\", \"word2\", \"score\"]\n",
    ")\n",
    "\n",
    "# Display the first 10 rows\n",
    "df.head(10)"
   ]
  },
  {
   "cell_type": "markdown",
   "metadata": {},
   "source": [
    "The score is not absolute value, it is relative to another pair. That is we such word pairs like angel-gasoline were chosen by some annotator, because the annotator probably could have choose between, for example, angel-gasoline and bakery-zebra words pairs."
   ]
  },
  {
   "cell_type": "code",
   "execution_count": 2,
   "metadata": {},
   "outputs": [
    {
     "data": {
      "text/html": [
       "<div>\n",
       "<style scoped>\n",
       "    .dataframe tbody tr th:only-of-type {\n",
       "        vertical-align: middle;\n",
       "    }\n",
       "\n",
       "    .dataframe tbody tr th {\n",
       "        vertical-align: top;\n",
       "    }\n",
       "\n",
       "    .dataframe thead th {\n",
       "        text-align: right;\n",
       "    }\n",
       "</style>\n",
       "<table border=\"1\" class=\"dataframe\">\n",
       "  <thead>\n",
       "    <tr style=\"text-align: right;\">\n",
       "      <th></th>\n",
       "      <th>word1</th>\n",
       "      <th>word2</th>\n",
       "      <th>score</th>\n",
       "    </tr>\n",
       "  </thead>\n",
       "  <tbody>\n",
       "    <tr>\n",
       "      <th>2990</th>\n",
       "      <td>posted</td>\n",
       "      <td>tulip</td>\n",
       "      <td>2.0</td>\n",
       "    </tr>\n",
       "    <tr>\n",
       "      <th>2991</th>\n",
       "      <td>grave</td>\n",
       "      <td>hat</td>\n",
       "      <td>2.0</td>\n",
       "    </tr>\n",
       "    <tr>\n",
       "      <th>2992</th>\n",
       "      <td>apple</td>\n",
       "      <td>cute</td>\n",
       "      <td>2.0</td>\n",
       "    </tr>\n",
       "    <tr>\n",
       "      <th>2993</th>\n",
       "      <td>angel</td>\n",
       "      <td>gasoline</td>\n",
       "      <td>1.0</td>\n",
       "    </tr>\n",
       "    <tr>\n",
       "      <th>2994</th>\n",
       "      <td>giraffe</td>\n",
       "      <td>harbor</td>\n",
       "      <td>1.0</td>\n",
       "    </tr>\n",
       "    <tr>\n",
       "      <th>2995</th>\n",
       "      <td>feathers</td>\n",
       "      <td>truck</td>\n",
       "      <td>1.0</td>\n",
       "    </tr>\n",
       "    <tr>\n",
       "      <th>2996</th>\n",
       "      <td>festival</td>\n",
       "      <td>whiskers</td>\n",
       "      <td>1.0</td>\n",
       "    </tr>\n",
       "    <tr>\n",
       "      <th>2997</th>\n",
       "      <td>muscle</td>\n",
       "      <td>tulip</td>\n",
       "      <td>1.0</td>\n",
       "    </tr>\n",
       "    <tr>\n",
       "      <th>2998</th>\n",
       "      <td>bikini</td>\n",
       "      <td>pizza</td>\n",
       "      <td>1.0</td>\n",
       "    </tr>\n",
       "    <tr>\n",
       "      <th>2999</th>\n",
       "      <td>bakery</td>\n",
       "      <td>zebra</td>\n",
       "      <td>0.0</td>\n",
       "    </tr>\n",
       "  </tbody>\n",
       "</table>\n",
       "</div>"
      ],
      "text/plain": [
       "         word1     word2  score\n",
       "2990    posted     tulip    2.0\n",
       "2991     grave       hat    2.0\n",
       "2992     apple      cute    2.0\n",
       "2993     angel  gasoline    1.0\n",
       "2994   giraffe    harbor    1.0\n",
       "2995  feathers     truck    1.0\n",
       "2996  festival  whiskers    1.0\n",
       "2997    muscle     tulip    1.0\n",
       "2998    bikini     pizza    1.0\n",
       "2999    bakery     zebra    0.0"
      ]
     },
     "execution_count": 2,
     "metadata": {},
     "output_type": "execute_result"
    }
   ],
   "source": [
    "df.tail(10)"
   ]
  },
  {
   "cell_type": "markdown",
   "metadata": {},
   "source": [
    "### Normalization of scores and shuffling"
   ]
  },
  {
   "cell_type": "markdown",
   "metadata": {},
   "source": [
    "Normalizing score column to be a value from 0 to 1\n",
    "\n",
    "Also, let's shuffle data"
   ]
  },
  {
   "cell_type": "code",
   "execution_count": 3,
   "metadata": {},
   "outputs": [
    {
     "data": {
      "text/html": [
       "<div>\n",
       "<style scoped>\n",
       "    .dataframe tbody tr th:only-of-type {\n",
       "        vertical-align: middle;\n",
       "    }\n",
       "\n",
       "    .dataframe tbody tr th {\n",
       "        vertical-align: top;\n",
       "    }\n",
       "\n",
       "    .dataframe thead th {\n",
       "        text-align: right;\n",
       "    }\n",
       "</style>\n",
       "<table border=\"1\" class=\"dataframe\">\n",
       "  <thead>\n",
       "    <tr style=\"text-align: right;\">\n",
       "      <th></th>\n",
       "      <th>word1</th>\n",
       "      <th>word2</th>\n",
       "      <th>score</th>\n",
       "    </tr>\n",
       "  </thead>\n",
       "  <tbody>\n",
       "    <tr>\n",
       "      <th>1801</th>\n",
       "      <td>jean</td>\n",
       "      <td>washing</td>\n",
       "      <td>0.42</td>\n",
       "    </tr>\n",
       "    <tr>\n",
       "      <th>1190</th>\n",
       "      <td>blurred</td>\n",
       "      <td>lens</td>\n",
       "      <td>0.60</td>\n",
       "    </tr>\n",
       "    <tr>\n",
       "      <th>1817</th>\n",
       "      <td>lunch</td>\n",
       "      <td>morning</td>\n",
       "      <td>0.42</td>\n",
       "    </tr>\n",
       "    <tr>\n",
       "      <th>251</th>\n",
       "      <td>daffodils</td>\n",
       "      <td>plant</td>\n",
       "      <td>0.84</td>\n",
       "    </tr>\n",
       "    <tr>\n",
       "      <th>2505</th>\n",
       "      <td>animals</td>\n",
       "      <td>sandwich</td>\n",
       "      <td>0.22</td>\n",
       "    </tr>\n",
       "    <tr>\n",
       "      <th>1117</th>\n",
       "      <td>bathroom</td>\n",
       "      <td>floor</td>\n",
       "      <td>0.62</td>\n",
       "    </tr>\n",
       "    <tr>\n",
       "      <th>1411</th>\n",
       "      <td>birds</td>\n",
       "      <td>wild</td>\n",
       "      <td>0.54</td>\n",
       "    </tr>\n",
       "    <tr>\n",
       "      <th>2113</th>\n",
       "      <td>animals</td>\n",
       "      <td>clown</td>\n",
       "      <td>0.32</td>\n",
       "    </tr>\n",
       "    <tr>\n",
       "      <th>408</th>\n",
       "      <td>cafe</td>\n",
       "      <td>lunch</td>\n",
       "      <td>0.80</td>\n",
       "    </tr>\n",
       "    <tr>\n",
       "      <th>2579</th>\n",
       "      <td>friends</td>\n",
       "      <td>rusty</td>\n",
       "      <td>0.20</td>\n",
       "    </tr>\n",
       "  </tbody>\n",
       "</table>\n",
       "</div>"
      ],
      "text/plain": [
       "          word1     word2  score\n",
       "1801       jean   washing   0.42\n",
       "1190    blurred      lens   0.60\n",
       "1817      lunch   morning   0.42\n",
       "251   daffodils     plant   0.84\n",
       "2505    animals  sandwich   0.22\n",
       "1117   bathroom     floor   0.62\n",
       "1411      birds      wild   0.54\n",
       "2113    animals     clown   0.32\n",
       "408        cafe     lunch   0.80\n",
       "2579    friends     rusty   0.20"
      ]
     },
     "execution_count": 3,
     "metadata": {},
     "output_type": "execute_result"
    }
   ],
   "source": [
    "df[\"score\"] = df[\"score\"] / 50\n",
    "df = df.sample(frac=1, random_state=42)\n",
    "df.head(10)"
   ]
  },
  {
   "cell_type": "markdown",
   "metadata": {},
   "source": [
    "### Computing similarity scores using word2vec model"
   ]
  },
  {
   "cell_type": "code",
   "execution_count": 6,
   "metadata": {},
   "outputs": [
    {
     "data": {
      "text/html": [
       "<div>\n",
       "<style scoped>\n",
       "    .dataframe tbody tr th:only-of-type {\n",
       "        vertical-align: middle;\n",
       "    }\n",
       "\n",
       "    .dataframe tbody tr th {\n",
       "        vertical-align: top;\n",
       "    }\n",
       "\n",
       "    .dataframe thead th {\n",
       "        text-align: right;\n",
       "    }\n",
       "</style>\n",
       "<table border=\"1\" class=\"dataframe\">\n",
       "  <thead>\n",
       "    <tr style=\"text-align: right;\">\n",
       "      <th></th>\n",
       "      <th>word1</th>\n",
       "      <th>word2</th>\n",
       "      <th>score</th>\n",
       "      <th>similarity</th>\n",
       "    </tr>\n",
       "  </thead>\n",
       "  <tbody>\n",
       "    <tr>\n",
       "      <th>1801</th>\n",
       "      <td>jean</td>\n",
       "      <td>washing</td>\n",
       "      <td>0.42</td>\n",
       "      <td>0.074775</td>\n",
       "    </tr>\n",
       "    <tr>\n",
       "      <th>1190</th>\n",
       "      <td>blurred</td>\n",
       "      <td>lens</td>\n",
       "      <td>0.60</td>\n",
       "      <td>0.260104</td>\n",
       "    </tr>\n",
       "    <tr>\n",
       "      <th>1817</th>\n",
       "      <td>lunch</td>\n",
       "      <td>morning</td>\n",
       "      <td>0.42</td>\n",
       "      <td>0.351169</td>\n",
       "    </tr>\n",
       "    <tr>\n",
       "      <th>251</th>\n",
       "      <td>daffodils</td>\n",
       "      <td>plant</td>\n",
       "      <td>0.84</td>\n",
       "      <td>0.170391</td>\n",
       "    </tr>\n",
       "    <tr>\n",
       "      <th>2505</th>\n",
       "      <td>animals</td>\n",
       "      <td>sandwich</td>\n",
       "      <td>0.22</td>\n",
       "      <td>0.019091</td>\n",
       "    </tr>\n",
       "    <tr>\n",
       "      <th>1117</th>\n",
       "      <td>bathroom</td>\n",
       "      <td>floor</td>\n",
       "      <td>0.62</td>\n",
       "      <td>0.345373</td>\n",
       "    </tr>\n",
       "    <tr>\n",
       "      <th>1411</th>\n",
       "      <td>birds</td>\n",
       "      <td>wild</td>\n",
       "      <td>0.54</td>\n",
       "      <td>0.343737</td>\n",
       "    </tr>\n",
       "    <tr>\n",
       "      <th>2113</th>\n",
       "      <td>animals</td>\n",
       "      <td>clown</td>\n",
       "      <td>0.32</td>\n",
       "      <td>0.219066</td>\n",
       "    </tr>\n",
       "    <tr>\n",
       "      <th>408</th>\n",
       "      <td>cafe</td>\n",
       "      <td>lunch</td>\n",
       "      <td>0.80</td>\n",
       "      <td>0.361107</td>\n",
       "    </tr>\n",
       "    <tr>\n",
       "      <th>2579</th>\n",
       "      <td>friends</td>\n",
       "      <td>rusty</td>\n",
       "      <td>0.20</td>\n",
       "      <td>0.039733</td>\n",
       "    </tr>\n",
       "  </tbody>\n",
       "</table>\n",
       "</div>"
      ],
      "text/plain": [
       "          word1     word2  score  similarity\n",
       "1801       jean   washing   0.42    0.074775\n",
       "1190    blurred      lens   0.60    0.260104\n",
       "1817      lunch   morning   0.42    0.351169\n",
       "251   daffodils     plant   0.84    0.170391\n",
       "2505    animals  sandwich   0.22    0.019091\n",
       "1117   bathroom     floor   0.62    0.345373\n",
       "1411      birds      wild   0.54    0.343737\n",
       "2113    animals     clown   0.32    0.219066\n",
       "408        cafe     lunch   0.80    0.361107\n",
       "2579    friends     rusty   0.20    0.039733"
      ]
     },
     "execution_count": 6,
     "metadata": {},
     "output_type": "execute_result"
    }
   ],
   "source": [
    "def similarity(word1: str, word2: str, model: KeyedVectors) -> float | None:\n",
    "    if word1 not in model or word2 not in model:\n",
    "        return None\n",
    "    return model.similarity(word1, word2)\n",
    "\n",
    "\n",
    "df[\"similarity\"] = df.apply(\n",
    "    lambda row: similarity(row[\"word1\"], row[\"word2\"], model=wv), axis=1\n",
    ")\n",
    "\n",
    "df.head(10)"
   ]
  },
  {
   "cell_type": "markdown",
   "metadata": {},
   "source": [
    "### OOV statistics"
   ]
  },
  {
   "cell_type": "code",
   "execution_count": 10,
   "metadata": {},
   "outputs": [
    {
     "data": {
      "text/html": [
       "<div>\n",
       "<style scoped>\n",
       "    .dataframe tbody tr th:only-of-type {\n",
       "        vertical-align: middle;\n",
       "    }\n",
       "\n",
       "    .dataframe tbody tr th {\n",
       "        vertical-align: top;\n",
       "    }\n",
       "\n",
       "    .dataframe thead th {\n",
       "        text-align: right;\n",
       "    }\n",
       "</style>\n",
       "<table border=\"1\" class=\"dataframe\">\n",
       "  <thead>\n",
       "    <tr style=\"text-align: right;\">\n",
       "      <th></th>\n",
       "      <th>word1</th>\n",
       "      <th>word2</th>\n",
       "      <th>score</th>\n",
       "      <th>similarity</th>\n",
       "    </tr>\n",
       "  </thead>\n",
       "  <tbody>\n",
       "    <tr>\n",
       "      <th>314</th>\n",
       "      <td>beach</td>\n",
       "      <td>harbour</td>\n",
       "      <td>0.82</td>\n",
       "      <td>NaN</td>\n",
       "    </tr>\n",
       "    <tr>\n",
       "      <th>2377</th>\n",
       "      <td>theatre</td>\n",
       "      <td>wolf</td>\n",
       "      <td>0.24</td>\n",
       "      <td>NaN</td>\n",
       "    </tr>\n",
       "    <tr>\n",
       "      <th>1321</th>\n",
       "      <td>harbour</td>\n",
       "      <td>town</td>\n",
       "      <td>0.56</td>\n",
       "      <td>NaN</td>\n",
       "    </tr>\n",
       "    <tr>\n",
       "      <th>486</th>\n",
       "      <td>blue</td>\n",
       "      <td>grey</td>\n",
       "      <td>0.78</td>\n",
       "      <td>NaN</td>\n",
       "    </tr>\n",
       "    <tr>\n",
       "      <th>433</th>\n",
       "      <td>bright</td>\n",
       "      <td>colour</td>\n",
       "      <td>0.78</td>\n",
       "      <td>NaN</td>\n",
       "    </tr>\n",
       "    <tr>\n",
       "      <th>1105</th>\n",
       "      <td>dark</td>\n",
       "      <td>grey</td>\n",
       "      <td>0.62</td>\n",
       "      <td>NaN</td>\n",
       "    </tr>\n",
       "    <tr>\n",
       "      <th>2627</th>\n",
       "      <td>held</td>\n",
       "      <td>theatre</td>\n",
       "      <td>0.18</td>\n",
       "      <td>NaN</td>\n",
       "    </tr>\n",
       "    <tr>\n",
       "      <th>170</th>\n",
       "      <td>colour</td>\n",
       "      <td>pink</td>\n",
       "      <td>0.86</td>\n",
       "      <td>NaN</td>\n",
       "    </tr>\n",
       "    <tr>\n",
       "      <th>831</th>\n",
       "      <td>black</td>\n",
       "      <td>colour</td>\n",
       "      <td>0.70</td>\n",
       "      <td>NaN</td>\n",
       "    </tr>\n",
       "    <tr>\n",
       "      <th>1413</th>\n",
       "      <td>cliff</td>\n",
       "      <td>harbour</td>\n",
       "      <td>0.54</td>\n",
       "      <td>NaN</td>\n",
       "    </tr>\n",
       "  </tbody>\n",
       "</table>\n",
       "</div>"
      ],
      "text/plain": [
       "        word1    word2  score  similarity\n",
       "314     beach  harbour   0.82         NaN\n",
       "2377  theatre     wolf   0.24         NaN\n",
       "1321  harbour     town   0.56         NaN\n",
       "486      blue     grey   0.78         NaN\n",
       "433    bright   colour   0.78         NaN\n",
       "1105     dark     grey   0.62         NaN\n",
       "2627     held  theatre   0.18         NaN\n",
       "170    colour     pink   0.86         NaN\n",
       "831     black   colour   0.70         NaN\n",
       "1413    cliff  harbour   0.54         NaN"
      ]
     },
     "execution_count": 10,
     "metadata": {},
     "output_type": "execute_result"
    }
   ],
   "source": [
    "OOV_pairs = df[df['similarity'].isnull()]\n",
    "OOV_pairs.head(10)"
   ]
  },
  {
   "cell_type": "code",
   "execution_count": 17,
   "metadata": {},
   "outputs": [
    {
     "data": {
      "text/plain": [
       "'Total rows number: 3000'"
      ]
     },
     "metadata": {},
     "output_type": "display_data"
    },
    {
     "data": {
      "text/plain": [
       "'Total OOV rows number: 54'"
      ]
     },
     "metadata": {},
     "output_type": "display_data"
    },
    {
     "data": {
      "text/plain": [
       "'Ratio: 0.018'"
      ]
     },
     "metadata": {},
     "output_type": "display_data"
    }
   ],
   "source": [
    "total_rows_number = df.shape[0]\n",
    "display(f\"Total rows number: {total_rows_number}\")\n",
    "\n",
    "oov_rows_number = OOV_pairs.shape[0]\n",
    "display(f\"Total OOV rows number: {oov_rows_number}\")\n",
    "\n",
    "ratio = oov_rows_number/total_rows_number\n",
    "display(f\"Ratio: {ratio}\")"
   ]
  },
  {
   "cell_type": "markdown",
   "metadata": {},
   "source": [
    "### Normalizing similarity scores using linear transformations and linear scaling"
   ]
  },
  {
   "cell_type": "markdown",
   "metadata": {},
   "source": [
    "Problem is that normalized score's range is [0.0, 1.0], when similarity function range is bound to cosine range [-1.0, 1.0]\n",
    "\n",
    "Thus, we can see negative similiarity scores:"
   ]
  },
  {
   "cell_type": "code",
   "execution_count": 23,
   "metadata": {},
   "outputs": [
    {
     "data": {
      "text/plain": [
       "'Max: 0.8766965866088867'"
      ]
     },
     "metadata": {},
     "output_type": "display_data"
    },
    {
     "data": {
      "text/plain": [
       "'Min: -0.08152719587087631'"
      ]
     },
     "metadata": {},
     "output_type": "display_data"
    }
   ],
   "source": [
    "similarity = df['similarity']\n",
    "min_value = similarity.min()\n",
    "max_value = similarity.max()\n",
    "display(f\"Max: {max_value}\",f\"Min: {min_value}\")"
   ]
  },
  {
   "cell_type": "markdown",
   "metadata": {},
   "source": [
    "To solve proble above, let's normalize range [-1.0, 1.0] to [0.0, 1.0]\n",
    "\n",
    "Let's use linear transformation - translate range [-1, 1] to [0, 2] and then scale whole range by 0.5\n",
    "\n",
    "In such transformation, values in:\n",
    "- [0.0, 0.5) are considered to have different directions in the embedding space\n",
    "- (0.5, 1.0] are considered to have same directions in the embedding space"
   ]
  },
  {
   "cell_type": "code",
   "execution_count": 38,
   "metadata": {},
   "outputs": [
    {
     "data": {
      "text/html": [
       "<div>\n",
       "<style scoped>\n",
       "    .dataframe tbody tr th:only-of-type {\n",
       "        vertical-align: middle;\n",
       "    }\n",
       "\n",
       "    .dataframe tbody tr th {\n",
       "        vertical-align: top;\n",
       "    }\n",
       "\n",
       "    .dataframe thead th {\n",
       "        text-align: right;\n",
       "    }\n",
       "</style>\n",
       "<table border=\"1\" class=\"dataframe\">\n",
       "  <thead>\n",
       "    <tr style=\"text-align: right;\">\n",
       "      <th></th>\n",
       "      <th>word1</th>\n",
       "      <th>word2</th>\n",
       "      <th>score</th>\n",
       "      <th>similarity</th>\n",
       "      <th>transformed_similarity</th>\n",
       "    </tr>\n",
       "  </thead>\n",
       "  <tbody>\n",
       "    <tr>\n",
       "      <th>1801</th>\n",
       "      <td>jean</td>\n",
       "      <td>washing</td>\n",
       "      <td>0.42</td>\n",
       "      <td>0.074775</td>\n",
       "      <td>0.537387</td>\n",
       "    </tr>\n",
       "    <tr>\n",
       "      <th>1190</th>\n",
       "      <td>blurred</td>\n",
       "      <td>lens</td>\n",
       "      <td>0.60</td>\n",
       "      <td>0.260104</td>\n",
       "      <td>0.630052</td>\n",
       "    </tr>\n",
       "    <tr>\n",
       "      <th>1817</th>\n",
       "      <td>lunch</td>\n",
       "      <td>morning</td>\n",
       "      <td>0.42</td>\n",
       "      <td>0.351169</td>\n",
       "      <td>0.675584</td>\n",
       "    </tr>\n",
       "    <tr>\n",
       "      <th>251</th>\n",
       "      <td>daffodils</td>\n",
       "      <td>plant</td>\n",
       "      <td>0.84</td>\n",
       "      <td>0.170391</td>\n",
       "      <td>0.585196</td>\n",
       "    </tr>\n",
       "    <tr>\n",
       "      <th>2505</th>\n",
       "      <td>animals</td>\n",
       "      <td>sandwich</td>\n",
       "      <td>0.22</td>\n",
       "      <td>0.019091</td>\n",
       "      <td>0.509545</td>\n",
       "    </tr>\n",
       "    <tr>\n",
       "      <th>1117</th>\n",
       "      <td>bathroom</td>\n",
       "      <td>floor</td>\n",
       "      <td>0.62</td>\n",
       "      <td>0.345373</td>\n",
       "      <td>0.672686</td>\n",
       "    </tr>\n",
       "    <tr>\n",
       "      <th>1411</th>\n",
       "      <td>birds</td>\n",
       "      <td>wild</td>\n",
       "      <td>0.54</td>\n",
       "      <td>0.343737</td>\n",
       "      <td>0.671869</td>\n",
       "    </tr>\n",
       "    <tr>\n",
       "      <th>2113</th>\n",
       "      <td>animals</td>\n",
       "      <td>clown</td>\n",
       "      <td>0.32</td>\n",
       "      <td>0.219066</td>\n",
       "      <td>0.609533</td>\n",
       "    </tr>\n",
       "    <tr>\n",
       "      <th>408</th>\n",
       "      <td>cafe</td>\n",
       "      <td>lunch</td>\n",
       "      <td>0.80</td>\n",
       "      <td>0.361107</td>\n",
       "      <td>0.680554</td>\n",
       "    </tr>\n",
       "    <tr>\n",
       "      <th>2579</th>\n",
       "      <td>friends</td>\n",
       "      <td>rusty</td>\n",
       "      <td>0.20</td>\n",
       "      <td>0.039733</td>\n",
       "      <td>0.519867</td>\n",
       "    </tr>\n",
       "  </tbody>\n",
       "</table>\n",
       "</div>"
      ],
      "text/plain": [
       "          word1     word2  score  similarity  transformed_similarity\n",
       "1801       jean   washing   0.42    0.074775                0.537387\n",
       "1190    blurred      lens   0.60    0.260104                0.630052\n",
       "1817      lunch   morning   0.42    0.351169                0.675584\n",
       "251   daffodils     plant   0.84    0.170391                0.585196\n",
       "2505    animals  sandwich   0.22    0.019091                0.509545\n",
       "1117   bathroom     floor   0.62    0.345373                0.672686\n",
       "1411      birds      wild   0.54    0.343737                0.671869\n",
       "2113    animals     clown   0.32    0.219066                0.609533\n",
       "408        cafe     lunch   0.80    0.361107                0.680554\n",
       "2579    friends     rusty   0.20    0.039733                0.519867"
      ]
     },
     "execution_count": 38,
     "metadata": {},
     "output_type": "execute_result"
    }
   ],
   "source": [
    "def linear_normalization(similarity_value: float) -> float:\n",
    "    return 0.5 * (similarity_value + 1)\n",
    "\n",
    "\n",
    "# Filter out rows with 'None' similarity\n",
    "df_filtered = df[df[\"similarity\"].notnull()].copy()\n",
    "df_filtered['transformed_similarity'] = df_filtered[\"similarity\"].apply(\n",
    "    linear_normalization\n",
    ")\n",
    "df_filtered.head(10)"
   ]
  },
  {
   "cell_type": "markdown",
   "metadata": {},
   "source": [
    "### Binary classification using thresholds"
   ]
  },
  {
   "cell_type": "code",
   "execution_count": 46,
   "metadata": {},
   "outputs": [
    {
     "data": {
      "text/html": [
       "<div>\n",
       "<style scoped>\n",
       "    .dataframe tbody tr th:only-of-type {\n",
       "        vertical-align: middle;\n",
       "    }\n",
       "\n",
       "    .dataframe tbody tr th {\n",
       "        vertical-align: top;\n",
       "    }\n",
       "\n",
       "    .dataframe thead th {\n",
       "        text-align: right;\n",
       "    }\n",
       "</style>\n",
       "<table border=\"1\" class=\"dataframe\">\n",
       "  <thead>\n",
       "    <tr style=\"text-align: right;\">\n",
       "      <th></th>\n",
       "      <th>word1</th>\n",
       "      <th>word2</th>\n",
       "      <th>score</th>\n",
       "      <th>similarity</th>\n",
       "      <th>transformed_similarity</th>\n",
       "      <th>actual_class</th>\n",
       "      <th>predicted_class</th>\n",
       "    </tr>\n",
       "  </thead>\n",
       "  <tbody>\n",
       "    <tr>\n",
       "      <th>1801</th>\n",
       "      <td>jean</td>\n",
       "      <td>washing</td>\n",
       "      <td>0.42</td>\n",
       "      <td>0.074775</td>\n",
       "      <td>0.537387</td>\n",
       "      <td>False</td>\n",
       "      <td>True</td>\n",
       "    </tr>\n",
       "    <tr>\n",
       "      <th>1190</th>\n",
       "      <td>blurred</td>\n",
       "      <td>lens</td>\n",
       "      <td>0.60</td>\n",
       "      <td>0.260104</td>\n",
       "      <td>0.630052</td>\n",
       "      <td>True</td>\n",
       "      <td>True</td>\n",
       "    </tr>\n",
       "    <tr>\n",
       "      <th>1817</th>\n",
       "      <td>lunch</td>\n",
       "      <td>morning</td>\n",
       "      <td>0.42</td>\n",
       "      <td>0.351169</td>\n",
       "      <td>0.675584</td>\n",
       "      <td>False</td>\n",
       "      <td>True</td>\n",
       "    </tr>\n",
       "    <tr>\n",
       "      <th>251</th>\n",
       "      <td>daffodils</td>\n",
       "      <td>plant</td>\n",
       "      <td>0.84</td>\n",
       "      <td>0.170391</td>\n",
       "      <td>0.585196</td>\n",
       "      <td>True</td>\n",
       "      <td>True</td>\n",
       "    </tr>\n",
       "    <tr>\n",
       "      <th>2505</th>\n",
       "      <td>animals</td>\n",
       "      <td>sandwich</td>\n",
       "      <td>0.22</td>\n",
       "      <td>0.019091</td>\n",
       "      <td>0.509545</td>\n",
       "      <td>False</td>\n",
       "      <td>True</td>\n",
       "    </tr>\n",
       "    <tr>\n",
       "      <th>1117</th>\n",
       "      <td>bathroom</td>\n",
       "      <td>floor</td>\n",
       "      <td>0.62</td>\n",
       "      <td>0.345373</td>\n",
       "      <td>0.672686</td>\n",
       "      <td>True</td>\n",
       "      <td>True</td>\n",
       "    </tr>\n",
       "    <tr>\n",
       "      <th>1411</th>\n",
       "      <td>birds</td>\n",
       "      <td>wild</td>\n",
       "      <td>0.54</td>\n",
       "      <td>0.343737</td>\n",
       "      <td>0.671869</td>\n",
       "      <td>True</td>\n",
       "      <td>True</td>\n",
       "    </tr>\n",
       "    <tr>\n",
       "      <th>2113</th>\n",
       "      <td>animals</td>\n",
       "      <td>clown</td>\n",
       "      <td>0.32</td>\n",
       "      <td>0.219066</td>\n",
       "      <td>0.609533</td>\n",
       "      <td>False</td>\n",
       "      <td>True</td>\n",
       "    </tr>\n",
       "    <tr>\n",
       "      <th>408</th>\n",
       "      <td>cafe</td>\n",
       "      <td>lunch</td>\n",
       "      <td>0.80</td>\n",
       "      <td>0.361107</td>\n",
       "      <td>0.680554</td>\n",
       "      <td>True</td>\n",
       "      <td>True</td>\n",
       "    </tr>\n",
       "    <tr>\n",
       "      <th>2579</th>\n",
       "      <td>friends</td>\n",
       "      <td>rusty</td>\n",
       "      <td>0.20</td>\n",
       "      <td>0.039733</td>\n",
       "      <td>0.519867</td>\n",
       "      <td>False</td>\n",
       "      <td>True</td>\n",
       "    </tr>\n",
       "  </tbody>\n",
       "</table>\n",
       "</div>"
      ],
      "text/plain": [
       "          word1     word2  score  similarity  transformed_similarity  \\\n",
       "1801       jean   washing   0.42    0.074775                0.537387   \n",
       "1190    blurred      lens   0.60    0.260104                0.630052   \n",
       "1817      lunch   morning   0.42    0.351169                0.675584   \n",
       "251   daffodils     plant   0.84    0.170391                0.585196   \n",
       "2505    animals  sandwich   0.22    0.019091                0.509545   \n",
       "1117   bathroom     floor   0.62    0.345373                0.672686   \n",
       "1411      birds      wild   0.54    0.343737                0.671869   \n",
       "2113    animals     clown   0.32    0.219066                0.609533   \n",
       "408        cafe     lunch   0.80    0.361107                0.680554   \n",
       "2579    friends     rusty   0.20    0.039733                0.519867   \n",
       "\n",
       "      actual_class  predicted_class  \n",
       "1801         False             True  \n",
       "1190          True             True  \n",
       "1817         False             True  \n",
       "251           True             True  \n",
       "2505         False             True  \n",
       "1117          True             True  \n",
       "1411          True             True  \n",
       "2113         False             True  \n",
       "408           True             True  \n",
       "2579         False             True  "
      ]
     },
     "execution_count": 46,
     "metadata": {},
     "output_type": "execute_result"
    }
   ],
   "source": [
    "actual_class_threshold = 0.5\n",
    "predicted_class_threshold = 0.5\n",
    "df_filtered[\"actual_class\"] = df_filtered[\"score\"] > actual_class_threshold\n",
    "df_filtered[\"predicted_class\"] = df_filtered[\"transformed_similarity\"] > predicted_class_threshold\n",
    "\n",
    "df_filtered.head(10)"
   ]
  },
  {
   "cell_type": "markdown",
   "metadata": {},
   "source": [
    "Now let's use binary classification statistics:"
   ]
  },
  {
   "cell_type": "code",
   "execution_count": 43,
   "metadata": {},
   "outputs": [],
   "source": [
    "import numpy as np\n",
    "\n",
    "y_true = np.where(df_filtered[\"actual_class\"], 1, 0)\n",
    "y_pred = np.where(df_filtered[\"predicted_class\"], 1, 0)"
   ]
  },
  {
   "cell_type": "markdown",
   "metadata": {},
   "source": [
    "### Statistics"
   ]
  },
  {
   "cell_type": "code",
   "execution_count": 48,
   "metadata": {},
   "outputs": [
    {
     "data": {
      "text/plain": [
       "'Actual class threshold: 0.5'"
      ]
     },
     "metadata": {},
     "output_type": "display_data"
    },
    {
     "data": {
      "text/plain": [
       "'Predicted class threshold: 0.5'"
      ]
     },
     "metadata": {},
     "output_type": "display_data"
    },
    {
     "data": {
      "text/plain": [
       "'Precision: 0.5043448036148767'"
      ]
     },
     "metadata": {},
     "output_type": "display_data"
    },
    {
     "data": {
      "text/plain": [
       "'recall: 1.0'"
      ]
     },
     "metadata": {},
     "output_type": "display_data"
    },
    {
     "data": {
      "text/plain": [
       "'f_score: 0.6705175600739373'"
      ]
     },
     "metadata": {},
     "output_type": "display_data"
    },
    {
     "data": {
      "text/plain": [
       "'accuracy: 0.5159538357094365'"
      ]
     },
     "metadata": {},
     "output_type": "display_data"
    }
   ],
   "source": [
    "from sklearn.metrics import precision_score, recall_score, f1_score, accuracy_score\n",
    "\n",
    "precision = precision_score(y_true, y_pred)\n",
    "recall = recall_score(y_true, y_pred)\n",
    "f_score = f1_score(y_true, y_pred)\n",
    "accuracy = accuracy_score(y_true, y_pred)\n",
    "\n",
    "display(\n",
    "    f\"Actual class threshold: {actual_class_threshold}\",\n",
    "    f\"Predicted class threshold: {predicted_class_threshold}\",\n",
    "    f\"Precision: {precision}\",\n",
    "    f\"recall: {recall}\",\n",
    "    f\"f_score: {f_score}\",\n",
    "    f\"accuracy: {accuracy}\",\n",
    ")"
   ]
  },
  {
   "cell_type": "code",
   "execution_count": 49,
   "metadata": {},
   "outputs": [
    {
     "data": {
      "text/plain": [
       "array([0.4592364 , 0.46207891, 0.46296392, ..., 0.93426979, 0.9353117 ,\n",
       "       0.93834829])"
      ]
     },
     "metadata": {},
     "output_type": "display_data"
    }
   ],
   "source": [
    "from sklearn.metrics import precision_recall_curve\n",
    "y_trans_similarity_scores = df_filtered['transformed_similarity'].to_numpy()\n",
    "\n",
    "precision, recall, thresholds = precision_recall_curve(y_true, y_trans_similarity_scores)\n",
    "\n",
    "display(thresholds)"
   ]
  },
  {
   "cell_type": "code",
   "execution_count": 54,
   "metadata": {},
   "outputs": [
    {
     "data": {
      "text/plain": [
       "<sklearn.metrics._plot.precision_recall_curve.PrecisionRecallDisplay at 0x7f60ba8f5510>"
      ]
     },
     "execution_count": 54,
     "metadata": {},
     "output_type": "execute_result"
    },
    {
     "data": {
      "image/png": "[encoded data removed]",
      "text/plain": [
       "<Figure size 640x480 with 1 Axes>"
      ]
     },
     "metadata": {},
     "output_type": "display_data"
    }
   ],
   "source": [
    "from sklearn.metrics import PrecisionRecallDisplay\n",
    "pr_display = PrecisionRecallDisplay(precision=precision, recall=recall)\n",
    "pr_display.plot()"
   ]
  }
 ],
 "metadata": {
  "kernelspec": {
   "display_name": "vylet-ner",
   "language": "python",
   "name": "python3"
  },
  "language_info": {
   "codemirror_mode": {
    "name": "ipython",
    "version": 3
   },
   "file_extension": ".py",
   "mimetype": "text/x-python",
   "name": "python",
   "nbconvert_exporter": "python",
   "pygments_lexer": "ipython3",
   "version": "3.11.4"
  },
  "orig_nbformat": 4
 },
 "nbformat": 4,
 "nbformat_minor": 2
}
