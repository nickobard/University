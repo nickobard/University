{
 "cells": [
  {
   "cell_type": "code",
   "execution_count": 1,
   "metadata": {},
   "outputs": [],
   "source": [
    "%load_ext autoreload\n",
    "%autoreload 2"
   ]
  },
  {
   "cell_type": "code",
   "execution_count": 2,
   "metadata": {},
   "outputs": [],
   "source": [
    "from IPython.display import display, Markdown"
   ]
  },
  {
   "cell_type": "code",
   "execution_count": 3,
   "metadata": {},
   "outputs": [],
   "source": [
    "import gensim.downloader as api\n",
    "model_name = 'word2vec-google-news-300'\n",
    "wv = api.load(model_name)"
   ]
  },
  {
   "cell_type": "code",
   "execution_count": 4,
   "metadata": {},
   "outputs": [
    {
     "name": "stdout",
     "output_type": "stream",
     "text": [
      "Print They should pay all the back all the money plus interest. The entire family and everyone who came in with them need to be deported asap. Why did it take two years to bust them? \n",
      "Here we go again …another group stealing from the government and taxpayers! A group of Somalis stole over four million in government benefits over just 10 months! \n",
      "We’ve reported on numerous cases like this one where the Muslim refugees/immigrants commit fraud by scamming our system…It’s way out of control! More Related\n",
      "\n",
      "Why Did Attorney General Loretta Lynch Plead The Fifth? Barracuda Brigade 2016-10-28 Print The administration is blocking congressional probe into cash payments to Iran. Of course she needs to plead the 5th. She either can’t recall, refuses to answer, or just plain deflects the question. Straight up corruption at its finest! \n",
      "100percentfedUp.com ; Talk about covering your ass! Loretta Lynch did just that when she plead the Fifth to avoid incriminating herself over payments to Iran…Corrupt to the core! Attorney General Loretta Lynch is declining to comply with an investigation by leading members of Congress about the Obama administration’s secret efforts to send Iran $1.7 billion in cash earlier this year, prompting accusations that Lynch has “pleaded the Fifth” Amendment to avoid incriminating herself over these payments, according to lawmakers and communications exclusively obtained by the Washington Free Beacon. \n",
      "Sen. Marco Rubio (R., Fla.) and Rep. Mike Pompeo (R., Kan.) initially presented Lynch in October with a series of questions about how the cash payment to Iran was approved and delivered. \n",
      "In an Oct. 24 response, Assistant Attorney General Peter Kadzik responded on Lynch’s behalf, refusing to answer the questions and informing the lawmakers that they are barred from publicly disclosing any details about the cash payment, which was bound up in a ransom deal aimed at freeing several American hostages from Iran. \n",
      "The response from the attorney general’s office is “unacceptable” and provides evidence that Lynch has chosen to “essentially plead the fifth and refuse to respond to inquiries regarding [her]role in providing cash to the world’s foremost state sponsor of terrorism,” Rubio and Pompeo wrote on Friday in a follow-up letter to Lynch. More Related\n",
      "\n",
      "Red State : \n",
      "Fox News Sunday reported this morning that Anthony Weiner is cooperating with the FBI, which has re-opened (yes, lefties: “re-opened”) the investigation into Hillary Clinton’s classified emails. Watch as Chris Wallace reports the breaking news during the panel segment near the end of the show: \n",
      "And the news is breaking while we’re on the air. Our colleague Bret Baier has just sent us an e-mail saying he has two sources who say that Anthony Weiner, who also had co-ownership of that laptop with his estranged wife Huma Abedin, is cooperating with the FBI investigation, had given them the laptop, so therefore they didn’t need a warrant to get in to see the contents of said laptop. Pretty interesting development. \n",
      "Targets of federal investigations will often cooperate, hoping that they will get consideration from a judge at sentencing. Given Weiner’s well-known penchant for lying, it’s hard to believe that a prosecutor would give Weiner a deal based on an agreement to testify, unless his testimony were very strongly corroborated by hard evidence. But cooperation can take many forms — and, as Wallace indicated on this morning’s show, one of those forms could be signing a consent form to allow   the contents of devices that they could probably get a warrant for anyway. We’ll see if Weiner’s cooperation extends beyond that. More Related\n",
      "\n",
      "Email Kayla Mueller was a prisoner and tortured by ISIS while no chance of release…a horrific story. Her father gave a pin drop speech that was so heartfelt you want to give him a hug. Carl Mueller believes Donald Trump will be a great president…Epic speech! 9.0K shares \n",
      "\n",
      "Email HEALTHCARE REFORM TO MAKE AMERICA GREAT AGAIN \n",
      "Since March of 2010, the American people have had to suffer under the incredible economic burden of the Affordable Care Act—Obamacare. This legislation, passed by totally partisan votes in the House and Senate and signed into law by the most divisive and partisan President in American history, has tragically but predictably resulted in runaway costs, websites that don’t work, greater rationing of care, higher premiums, less competition and fewer choices. Obamacare has raised the economic uncertainty of every single person residing in this country. As it appears Obamacare is certain to collapse of its own weight, the damage done by the Democrats and President Obama, and abetted by the Supreme Court, will be difficult to repair unless the next President and a Republican congress lead the effort to bring much-needed free market reforms to the healthcare industry. \n",
      "Congress must act. Our elected representatives in the House and Senate must: \n",
      "1. Completely repeal Obamacare. Our elected representatives must eliminate the individual mandate. No person should be required to buy insurance unless he or she wants to. \n",
      "2. Modify existing law that inhibits the sale of health insurance across state lines. As long as the plan purchased complies with state requirements, any vendor ought to be able to offer insurance in any state. By allowing full competition in this market, insurance costs will go down and consumer satisfaction will go up. \n",
      "3. Allow individuals to fully deduct health insurance premium payments from their tax returns under the current tax system. Businesses are allowed to take these deductions so why wouldn’t Congress allow individuals the same exemptions? As we allow the free market to provide insurance coverage opportunities to companies and individuals, we must also make sure that no one slips through the cracks simply because they cannot afford insurance. We must review basic options for Medicaid and work with states to ensure that those who want healthcare coverage can have it. TRENDING ON 100% Fed Up \n",
      "\n",
      "\n"
     ]
    }
   ],
   "source": [
    "text = str()\n",
    "\n",
    "fake_news = api.load('fake-news')\n",
    "fake_news_iter = iter(fake_news)\n",
    "for i in range(5):\n",
    "    article = next(fake_news_iter)\n",
    "    text += article['text']\n",
    "    text += \"\\n\\n\"\n",
    "print(text)"
   ]
  },
  {
   "cell_type": "code",
   "execution_count": 13,
   "metadata": {},
   "outputs": [],
   "source": [
    "import word2vec_aglorithm as w2v\n",
    "\n",
    "words = w2v.tokenize_text(text) \n",
    "filtered, oov = w2v.filter_OOV_words(words, wv)\n"
   ]
  },
  {
   "cell_type": "code",
   "execution_count": 54,
   "metadata": {},
   "outputs": [
    {
     "name": "stdout",
     "output_type": "stream",
     "text": [
      "['people', 'person', 'individual', 'individuals']\n",
      "['and', 'to', '…another', 'a', 'of', 'somalis', '10', '’', 'refugees/immigrants', 'system…it', 'loretta', '2016-10-28', '100percentfedup.com', 'iran…corrupt', '1.7', '“', '”', 'sen.', 'fla.', 'rep.', 'pompeo', 'kan.', 'oct.', '24', 'kadzik', 'follow-up', 're-opened', 'baier', 'e-mail', 'co-ownership', 'abedin', 'well-known', '—', 'mueller', 'release…a', 'president…epic', '9.0k', '2010', 'act—obamacare', 'much-needed', '100']\n"
     ]
    },
    {
     "data": {
      "text/markdown": [
       "Print They should pay all the back all the money plus interest. The entire family ~~`and`~~ everyone who came in with them need ~~`to`~~ be deported asap. Why did it take two years ~~`to`~~ bust them? \n",
       "Here we go again …another group stealing from the government ~~`and`~~ taxpayers! ~~`a`~~ group ~~`of`~~ ~~`somalis`~~ stole over four million in government benefits over just ~~`10`~~ months! \n",
       "We’ve reported on numerous cases like this one where the Muslim ~~`refugees/immigrants`~~ commit fraud by scamming our ~~`system…it`~~’s way out ~~`of`~~ control! More Related\n",
       "\n",
       "Why Did Attorney ~~`GENERAL`~~ ~~`loretta`~~ Lynch Plead The Fifth? Barracuda Brigade 2016-~~`10`~~-28 Print The administration is blocking congressional probe into `cash` payments ~~`to`~~ Iran. ~~`of`~~ `course` she needs ~~`to`~~ plead the 5th. She either can’t recall, refuses ~~`to`~~ answer, or just plain deflects the question. Straight up corruption at its finest! \n",
       "~~`100percentfedup.com`~~ ; Talk about covering your ass! ~~`loretta`~~ Lynch did just that when she plead the Fifth ~~`to`~~ avoid incriminating herself over payments ~~`to`~~ ~~`iran…corrupt`~~ ~~`to`~~ the core! Attorney ~~`GENERAL`~~ ~~`loretta`~~ Lynch is declining ~~`to`~~ comply with an ~~`INVESTIGATION`~~ by leading members ~~`of`~~ Congress about the Obama administration’s secret efforts ~~`to`~~ ~~`sen.`~~ Iran $~~`1.7`~~ billion in `cash` earlier this year, prompting accusations that Lynch has “pleaded the Fifth” Amendment ~~`to`~~ avoid incriminating herself over these payments, according ~~`to`~~ ~~`LAWMAKERS`~~ ~~`and`~~ communications exclusively obtained by the Washington Free Beacon. \n",
       "Sen. Marco Rubio (R., Fla.) ~~`and`~~ Rep. Mike ~~`pompeo`~~ (R., Kan.) initially presented Lynch in October with ~~`a`~~ series ~~`of`~~ questions about how the `cash` payment ~~`to`~~ Iran was approved ~~`and`~~ delivered. \n",
       "In an Oct. ~~`24`~~ response, Assistant Attorney ~~`GENERAL`~~ Peter ~~`kadzik`~~ responded on Lynch’s behalf, refusing ~~`to`~~ answer the questions ~~`and`~~ informing the ~~`LAWMAKERS`~~ that they are barred from publicly disclosing any ~~`DETAILS`~~ about the `cash` payment, which was bound up in ~~`a`~~ ransom deal aimed at freeing several American hostages from Iran. \n",
       "The response from the attorney ~~`GENERAL`~~’s office is “unacceptable” ~~`and`~~ provides evidence that Lynch has chosen ~~`to`~~ “essentially plead the fifth ~~`and`~~ refuse ~~`to`~~ respond ~~`to`~~ inquiries regarding [her]role in providing `cash` ~~`to`~~ the world’s foremost state sponsor ~~`of`~~ terrorism,” Rubio ~~`and`~~ ~~`pompeo`~~ wrote on Friday in ~~`a`~~ ~~`follow-up`~~ letter ~~`to`~~ Lynch. More Related\n",
       "\n",
       "Red State : \n",
       "Fox News Sunday reported this morning that Anthony Weiner is cooperating with the FBI, which has ~~`re-opened`~~ (yes, lefties: “~~`re-opened`~~”) the ~~`INVESTIGATION`~~ into Hillary Clinton’s classified emails. Watch as Chris Wallace reports the breaking news during the panel segment near the end ~~`of`~~ the show: \n",
       "~~`and`~~ the news is breaking while we’re on the air. Our colleague Bret ~~`baier`~~ has just ~~`sen.`~~ us an ~~`e-mail`~~ saying he has two sources who say that Anthony Weiner, who also had ~~`co-ownership`~~ ~~`of`~~ that laptop with his estranged wife Huma ~~`abedin`~~, is cooperating with the FBI ~~`INVESTIGATION`~~, had given them the laptop, so therefore they didn’t need ~~`a`~~ warrant ~~`to`~~ get in ~~`to`~~ see the contents ~~`of`~~ said laptop. Pretty interesting development. \n",
       "Targets ~~`of`~~ federal investigations will often cooperate, hoping that they will get consideration from ~~`a`~~ judge at sentencing. Given Weiner’s ~~`well-known`~~ penchant for lying, it’s hard ~~`to`~~ believe that ~~`a`~~ prosecutor would give Weiner ~~`a`~~ deal based on an agreement ~~`to`~~ testify, unless his testimony were very strongly corroborated by hard evidence. But cooperation can take many forms — ~~`and`~~, as Wallace indicated on this morning’s show, one ~~`of`~~ those forms could be signing ~~`a`~~ consent form ~~`to`~~ allow   the contents ~~`of`~~ devices that they could probably get ~~`a`~~ warrant for anyway. We’ll see if Weiner’s cooperation extends beyond that. More Related\n",
       "\n",
       "Email Kayla ~~`mueller`~~ was ~~`a`~~ prisoner ~~`and`~~ tortured by ISIS while no chance ~~`of`~~ release…~~`a`~~ horrific story. Her father gave ~~`a`~~ pin drop speech that was so heartfelt you want ~~`to`~~ give him ~~`a`~~ hug. Carl ~~`mueller`~~ believes Donald Trump will be ~~`a`~~ great ~~`president…epic`~~ speech! ~~`9.0k`~~ shares \n",
       "\n",
       "Email HEALTHCARE REFORM ~~`to`~~ MAKE AMERICA GREAT AGAIN \n",
       "Since March ~~`of`~~ ~~`2010`~~, the American `PEOPLE` have had ~~`to`~~ suffer under the incredible economic burden ~~`of`~~ the Affordable Care Act~~`—`~~Obamacare. This legislation, passed by totally partisan votes in the House ~~`and`~~ Senate ~~`and`~~ signed into law by the most divisive ~~`and`~~ partisan President in American history, has tragically but predictably resulted in runaway costs, websites that don’t work, greater rationing ~~`of`~~ care, higher premiums, less competition ~~`and`~~ fewer choices. Obamacare has raised the economic uncertainty ~~`of`~~ every single `PERSON` residing in this country. As it appears Obamacare is certain ~~`to`~~ collapse ~~`of`~~ its own weight, the damage done by the Democrats ~~`and`~~ President Obama, ~~`and`~~ abetted by the Supreme Court, will be difficult ~~`to`~~ repair unless the next President ~~`and`~~ ~~`a`~~ Republican congress lead the effort ~~`to`~~ bring ~~`much-needed`~~ free market reforms ~~`to`~~ the healthcare industry. \n",
       "Congress must act. Our elected representatives in the House ~~`and`~~ Senate must: \n",
       "1. Completely repeal Obamacare. Our elected representatives must eliminate the `INDIVIDUAL` mandate. No `PERSON` should be required ~~`to`~~ buy insurance unless he or she wants ~~`to`~~. \n",
       "2. Modify existing law that inhibits the sale ~~`of`~~ health insurance across state lines. As long as the plan purchased complies with state requirements, any vendor ought ~~`to`~~ be able ~~`to`~~ offer insurance in any state. By allowing full competition in this market, insurance costs will go down ~~`and`~~ consumer satisfaction will go up. \n",
       "3. Allow `INDIVIDUALS` ~~`to`~~ fully deduct health insurance premium payments from their tax returns under the current tax system. Businesses are allowed ~~`to`~~ take these deductions so why wouldn’t Congress allow `INDIVIDUALS` the same exemptions? As we allow the free market ~~`to`~~ provide insurance coverage opportunities ~~`to`~~ companies ~~`and`~~ `INDIVIDUALS`, we must also make sure that no one slips through the cracks simply because they cannot afford insurance. We must review basic options for Medicaid ~~`and`~~ work with states ~~`to`~~ ensure that those who want healthcare coverage can have it. TRENDING ON ~~`100`~~% Fed Up \n",
       "\n"
      ],
      "text/plain": [
       "<IPython.core.display.Markdown object>"
      ]
     },
     "metadata": {},
     "output_type": "display_data"
    }
   ],
   "source": [
    "keyword = \"person\"\n",
    "threshold = 0.4\n",
    "\n",
    "matches = w2v.find_matches(filtered, keyword, wv, threshold)\n",
    "highlighted_text = w2v.highlight_words(text, matches, wrap=\"`\")\n",
    "highlighted_text = w2v.highlight_words(highlighted_text, ['lawmakers', 'investigation', 'details', 'general'], wrap=\"~~`\")\n",
    "highlighted_text = w2v.highlight_words(highlighted_text,['course','cash'] , wrap=\"`\", wrapper = lambda x: x)\n",
    "highlighted_text = w2v.highlight_words(highlighted_text, oov , wrap=\"\", wrapper = lambda x: f\"~~`{x}`~~\" if x not in ['`', \"'\",'\"','’'] else x)\n",
    "print(matches, oov, sep='\\n')\n",
    "display(Markdown(highlighted_text))"
   ]
  }
 ],
 "metadata": {
  "kernelspec": {
   "display_name": "vylet-ner",
   "language": "python",
   "name": "python3"
  },
  "language_info": {
   "codemirror_mode": {
    "name": "ipython",
    "version": 3
   },
   "file_extension": ".py",
   "mimetype": "text/x-python",
   "name": "python",
   "nbconvert_exporter": "python",
   "pygments_lexer": "ipython3",
   "version": "3.11.4"
  },
  "orig_nbformat": 4
 },
 "nbformat": 4,
 "nbformat_minor": 2
}
