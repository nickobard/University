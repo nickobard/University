{
 "cells": [
  {
   "cell_type": "code",
   "execution_count": 1,
   "metadata": {},
   "outputs": [],
   "source": [
    "%load_ext autoreload\n",
    "%autoreload 2 \n"
   ]
  },
  {
   "cell_type": "code",
   "execution_count": 2,
   "metadata": {},
   "outputs": [],
   "source": [
    "from IPython.display import display, Markdown\n",
    "import gensim.downloader as api\n",
    "import json"
   ]
  },
  {
   "cell_type": "code",
   "execution_count": 3,
   "metadata": {},
   "outputs": [],
   "source": [
    "import word2vec_aglorithm as w2v, statistics as stat"
   ]
  },
  {
   "cell_type": "code",
   "execution_count": 4,
   "metadata": {},
   "outputs": [],
   "source": [
    "model_name = 'word2vec-google-news-300'\n",
    "wv = api.load(model_name)\n"
   ]
  },
  {
   "cell_type": "code",
   "execution_count": 7,
   "metadata": {},
   "outputs": [],
   "source": [
    "ds = stat.load_dataset(\"../datasets/dataset_1.json\")\n",
    "case1 = ds[0]"
   ]
  },
  {
   "cell_type": "code",
   "execution_count": 46,
   "metadata": {},
   "outputs": [],
   "source": [
    "import importlib\n",
    "importlib.reload(stat)\n",
    "evaluator = stat.Evaluator(model=wv)"
   ]
  },
  {
   "cell_type": "code",
   "execution_count": 25,
   "metadata": {},
   "outputs": [
    {
     "data": {
      "text/html": [
       "<div>\n",
       "<style scoped>\n",
       "    .dataframe tbody tr th:only-of-type {\n",
       "        vertical-align: middle;\n",
       "    }\n",
       "\n",
       "    .dataframe tbody tr th {\n",
       "        vertical-align: top;\n",
       "    }\n",
       "\n",
       "    .dataframe thead th {\n",
       "        text-align: right;\n",
       "    }\n",
       "</style>\n",
       "<table border=\"1\" class=\"dataframe\">\n",
       "  <thead>\n",
       "    <tr style=\"text-align: right;\">\n",
       "      <th></th>\n",
       "      <th></th>\n",
       "      <th></th>\n",
       "      <th>precision</th>\n",
       "      <th>recall</th>\n",
       "      <th>f1_score</th>\n",
       "      <th>accuracy</th>\n",
       "      <th>OOV_text_ratio</th>\n",
       "      <th>OOV_potential_loss</th>\n",
       "    </tr>\n",
       "    <tr>\n",
       "      <th>case_id</th>\n",
       "      <th>category</th>\n",
       "      <th>keyword</th>\n",
       "      <th></th>\n",
       "      <th></th>\n",
       "      <th></th>\n",
       "      <th></th>\n",
       "      <th></th>\n",
       "      <th></th>\n",
       "    </tr>\n",
       "  </thead>\n",
       "  <tbody>\n",
       "    <tr>\n",
       "      <th rowspan=\"3\" valign=\"top\">1</th>\n",
       "      <th>many_matches</th>\n",
       "      <th>animal</th>\n",
       "      <td>0.818182</td>\n",
       "      <td>0.9</td>\n",
       "      <td>0.857143</td>\n",
       "      <td>0.944444</td>\n",
       "      <td>0.111111</td>\n",
       "      <td>0.0</td>\n",
       "    </tr>\n",
       "    <tr>\n",
       "      <th>few_matches</th>\n",
       "      <th>fauna</th>\n",
       "      <td>0.181818</td>\n",
       "      <td>1.0</td>\n",
       "      <td>0.307692</td>\n",
       "      <td>0.833333</td>\n",
       "      <td>0.111111</td>\n",
       "      <td>0.0</td>\n",
       "    </tr>\n",
       "    <tr>\n",
       "      <th>no_matches</th>\n",
       "      <th>computer</th>\n",
       "      <td>0.000000</td>\n",
       "      <td>0.0</td>\n",
       "      <td>0.000000</td>\n",
       "      <td>1.000000</td>\n",
       "      <td>0.111111</td>\n",
       "      <td>0.0</td>\n",
       "    </tr>\n",
       "  </tbody>\n",
       "</table>\n",
       "</div>"
      ],
      "text/plain": [
       "                               precision  ...  OOV_potential_loss\n",
       "case_id category     keyword              ...                    \n",
       "1       many_matches animal     0.818182  ...                 0.0\n",
       "        few_matches  fauna      0.181818  ...                 0.0\n",
       "        no_matches   computer   0.000000  ...                 0.0\n",
       "\n",
       "[3 rows x 6 columns]"
      ]
     },
     "execution_count": 25,
     "metadata": {},
     "output_type": "execute_result"
    }
   ],
   "source": [
    "evaluation = evaluator.evaluate_single_case(case1, threshold=0.35)\n",
    "stat.table_view(evaluation)\n"
   ]
  },
  {
   "cell_type": "code",
   "execution_count": 40,
   "metadata": {},
   "outputs": [],
   "source": [
    "text = evaluation['text']\n",
    "keywords_data = []\n",
    "for category_data in evaluation['categories'].values():\n",
    "    for keyword_data in category_data['keywords']:\n",
    "        keywords_data.append(keyword_data)\n"
   ]
  },
  {
   "cell_type": "code",
   "execution_count": 39,
   "metadata": {},
   "outputs": [
    {
     "name": "stdout",
     "output_type": "stream",
     "text": [
      "Keyword: animal\n",
      "Expected OOV:  []\n"
     ]
    },
    {
     "data": {
      "text/markdown": [
       "The Fauna of Africa, in its broader sense, is all the `ANIMALS` living in Africa and its surrounding seas and islands. The more characteristic African fauna is found in the Afrotropical realm.[1] Lying almost entirely within the tropics, and equally to north and south of the equator creates favourable conditions for rich ~~`WILDLIFE`~~. Africa is home to many of the world's most famous fauna in ~~`HUMAN`~~ culture such as `LIONS`,`rhinos`, `CHEETAHS`, `GIRAFFES`, `ANTELOPE`, `HIPPOS`, `LEOPARDS`, `ZEBRAS`, and African `ELEPHANTS` among many others."
      ],
      "text/plain": [
       "<IPython.core.display.Markdown object>"
      ]
     },
     "metadata": {},
     "output_type": "display_data"
    }
   ],
   "source": [
    "keyword = 'animal'\n",
    "input_data = None\n",
    "for keyword_data in keywords_data:\n",
    "    if keyword_data['keyword'] == keyword:\n",
    "        input_data = keyword_data\n",
    "        break\n",
    "\n",
    "\n",
    "highlighted = stat.highlight_text(text, input_data)\n",
    "display(Markdown(highlighted))"
   ]
  },
  {
   "cell_type": "code",
   "execution_count": 41,
   "metadata": {},
   "outputs": [
    {
     "name": "stdout",
     "output_type": "stream",
     "text": [
      "Keyword: fauna\n",
      "Expected OOV:  []\n"
     ]
    },
    {
     "data": {
      "text/markdown": [
       "The `FAUNA` of Africa, in its broader sense, is all the ~~`ANIMALS`~~ living in Africa and its surrounding seas and ~~`ISLANDS`~~. The more characteristic African `FAUNA` is found in the Afrotropical realm.[1] Lying almost entirely within the ~~`TROPICS`~~, and equally to north and south of the equator creates favourable conditions for rich `WILDLIFE`. Africa is home to many of the world's most famous `FAUNA` in human culture such as lions,~~`RHINOS`~~, cheetahs, ~~`GIRAFFES`~~, ~~`ANTELOPE`~~, ~~`HIPPOS`~~, ~~`LEOPARDS`~~, zebras, and African ~~`ELEPHANTS`~~ among many others."
      ],
      "text/plain": [
       "<IPython.core.display.Markdown object>"
      ]
     },
     "metadata": {},
     "output_type": "display_data"
    }
   ],
   "source": [
    "keyword = 'fauna'\n",
    "input_data = None\n",
    "for keyword_data in keywords_data:\n",
    "    if keyword_data['keyword'] == keyword:\n",
    "        input_data = keyword_data\n",
    "        break\n",
    "\n",
    "\n",
    "highlighted = stat.highlight_text(text, input_data)\n",
    "display(Markdown(highlighted))"
   ]
  },
  {
   "cell_type": "code",
   "execution_count": 42,
   "metadata": {},
   "outputs": [
    {
     "name": "stdout",
     "output_type": "stream",
     "text": [
      "Keyword: computer\n",
      "Expected OOV:  []\n"
     ]
    },
    {
     "data": {
      "text/markdown": [
       "The Fauna of Africa, in its broader sense, is all the animals living in Africa and its surrounding seas and islands. The more characteristic African fauna is found in the Afrotropical realm.[1] Lying almost entirely within the tropics, and equally to north and south of the equator creates favourable conditions for rich wildlife. Africa is home to many of the world's most famous fauna in human culture such as lions,rhinos, cheetahs, giraffes, antelope, hippos, leopards, zebras, and African elephants among many others."
      ],
      "text/plain": [
       "<IPython.core.display.Markdown object>"
      ]
     },
     "metadata": {},
     "output_type": "display_data"
    }
   ],
   "source": [
    "keyword = 'computer'\n",
    "input_data = None\n",
    "for keyword_data in keywords_data:\n",
    "    if keyword_data['keyword'] == keyword:\n",
    "        input_data = keyword_data\n",
    "        break\n",
    "\n",
    "\n",
    "highlighted = stat.highlight_text(text, input_data)\n",
    "display(Markdown(highlighted))"
   ]
  },
  {
   "cell_type": "code",
   "execution_count": 53,
   "metadata": {},
   "outputs": [],
   "source": [
    "def experiment(threshold):\n",
    "    evaluation = evaluator.evaluate_single_case(case1, threshold=threshold)\n",
    "    display(stat.table_view(evaluation))\n",
    "\n",
    "\n",
    "    text = evaluation['text']\n",
    "    keywords_data = []\n",
    "    for category_data in evaluation['categories'].values():\n",
    "        for keyword_data in category_data['keywords']:\n",
    "            keywords_data.append(keyword_data)\n",
    "\n",
    "    for keyword_data in keywords_data:\n",
    "        evaluation = keyword_data['evaluation']\n",
    "        print(f\"Keyword: {keyword_data['keyword']}\")\n",
    "        print(\"Expected OOV: \", list(evaluation['Expected_OOV']))\n",
    "        print(\"OOV: \", list(evaluation['OOV']))\n",
    "        highlighted = stat.highlight_text(text, keyword_data)\n",
    "        display(Markdown(highlighted))"
   ]
  },
  {
   "cell_type": "code",
   "execution_count": 55,
   "metadata": {},
   "outputs": [
    {
     "data": {
      "text/html": [
       "<div>\n",
       "<style scoped>\n",
       "    .dataframe tbody tr th:only-of-type {\n",
       "        vertical-align: middle;\n",
       "    }\n",
       "\n",
       "    .dataframe tbody tr th {\n",
       "        vertical-align: top;\n",
       "    }\n",
       "\n",
       "    .dataframe thead th {\n",
       "        text-align: right;\n",
       "    }\n",
       "</style>\n",
       "<table border=\"1\" class=\"dataframe\">\n",
       "  <thead>\n",
       "    <tr style=\"text-align: right;\">\n",
       "      <th></th>\n",
       "      <th></th>\n",
       "      <th></th>\n",
       "      <th>precision</th>\n",
       "      <th>recall</th>\n",
       "      <th>f1_score</th>\n",
       "      <th>accuracy</th>\n",
       "      <th>OOV_text_ratio</th>\n",
       "      <th>OOV_potential_loss</th>\n",
       "    </tr>\n",
       "    <tr>\n",
       "      <th>case_id</th>\n",
       "      <th>category</th>\n",
       "      <th>keyword</th>\n",
       "      <th></th>\n",
       "      <th></th>\n",
       "      <th></th>\n",
       "      <th></th>\n",
       "      <th></th>\n",
       "      <th></th>\n",
       "    </tr>\n",
       "  </thead>\n",
       "  <tbody>\n",
       "    <tr>\n",
       "      <th rowspan=\"3\" valign=\"top\">1</th>\n",
       "      <th>many_matches</th>\n",
       "      <th>animal</th>\n",
       "      <td>0.666667</td>\n",
       "      <td>0.2</td>\n",
       "      <td>0.307692</td>\n",
       "      <td>0.833333</td>\n",
       "      <td>0.111111</td>\n",
       "      <td>0.0</td>\n",
       "    </tr>\n",
       "    <tr>\n",
       "      <th>few_matches</th>\n",
       "      <th>fauna</th>\n",
       "      <td>1.000000</td>\n",
       "      <td>1.0</td>\n",
       "      <td>1.000000</td>\n",
       "      <td>1.000000</td>\n",
       "      <td>0.111111</td>\n",
       "      <td>0.0</td>\n",
       "    </tr>\n",
       "    <tr>\n",
       "      <th>no_matches</th>\n",
       "      <th>computer</th>\n",
       "      <td>0.000000</td>\n",
       "      <td>0.0</td>\n",
       "      <td>0.000000</td>\n",
       "      <td>1.000000</td>\n",
       "      <td>0.111111</td>\n",
       "      <td>0.0</td>\n",
       "    </tr>\n",
       "  </tbody>\n",
       "</table>\n",
       "</div>"
      ],
      "text/plain": [
       "                               precision  ...  OOV_potential_loss\n",
       "case_id category     keyword              ...                    \n",
       "1       many_matches animal     0.666667  ...                 0.0\n",
       "        few_matches  fauna      1.000000  ...                 0.0\n",
       "        no_matches   computer   0.000000  ...                 0.0\n",
       "\n",
       "[3 rows x 6 columns]"
      ]
     },
     "metadata": {},
     "output_type": "display_data"
    },
    {
     "name": "stdout",
     "output_type": "stream",
     "text": [
      "Keyword: animal\n",
      "Expected OOV:  []\n",
      "OOV:  ['favourable', 'to', 'afrotropical', \"'s\", 'and', 'of']\n"
     ]
    },
    {
     "data": {
      "text/markdown": [
       "The Fauna of Africa, in its broader sense, is all the `ANIMALS` living in Africa and its surrounding seas and islands. The more characteristic African fauna is found in the Afrotropical realm.[1] Lying almost entirely within the tropics, and equally to north and south of the equator creates favourable conditions for rich ~~`WILDLIFE`~~. Africa is home to many of the world's most famous fauna in human culture such as `lions`,`rhinos`, `cheetahs`, `giraffes`, `antelope`, `hippos`, `leopards`, `zebras`, and African `ELEPHANTS` among many others."
      ],
      "text/plain": [
       "<IPython.core.display.Markdown object>"
      ]
     },
     "metadata": {},
     "output_type": "display_data"
    },
    {
     "name": "stdout",
     "output_type": "stream",
     "text": [
      "Keyword: fauna\n",
      "Expected OOV:  []\n",
      "OOV:  ['favourable', 'to', 'afrotropical', \"'s\", 'and', 'of']\n"
     ]
    },
    {
     "data": {
      "text/markdown": [
       "The `FAUNA` of Africa, in its broader sense, is all the animals living in Africa and its surrounding seas and islands. The more characteristic African `FAUNA` is found in the Afrotropical realm.[1] Lying almost entirely within the tropics, and equally to north and south of the equator creates favourable conditions for rich `WILDLIFE`. Africa is home to many of the world's most famous `FAUNA` in human culture such as lions,rhinos, cheetahs, giraffes, antelope, hippos, leopards, zebras, and African elephants among many others."
      ],
      "text/plain": [
       "<IPython.core.display.Markdown object>"
      ]
     },
     "metadata": {},
     "output_type": "display_data"
    },
    {
     "name": "stdout",
     "output_type": "stream",
     "text": [
      "Keyword: computer\n",
      "Expected OOV:  []\n",
      "OOV:  ['favourable', 'to', 'afrotropical', \"'s\", 'and', 'of']\n"
     ]
    },
    {
     "data": {
      "text/markdown": [
       "The Fauna of Africa, in its broader sense, is all the animals living in Africa and its surrounding seas and islands. The more characteristic African fauna is found in the Afrotropical realm.[1] Lying almost entirely within the tropics, and equally to north and south of the equator creates favourable conditions for rich wildlife. Africa is home to many of the world's most famous fauna in human culture such as lions,rhinos, cheetahs, giraffes, antelope, hippos, leopards, zebras, and African elephants among many others."
      ],
      "text/plain": [
       "<IPython.core.display.Markdown object>"
      ]
     },
     "metadata": {},
     "output_type": "display_data"
    }
   ],
   "source": [
    "experiment(0.5)"
   ]
  },
  {
   "cell_type": "code",
   "execution_count": 56,
   "metadata": {},
   "outputs": [
    {
     "data": {
      "text/html": [
       "<div>\n",
       "<style scoped>\n",
       "    .dataframe tbody tr th:only-of-type {\n",
       "        vertical-align: middle;\n",
       "    }\n",
       "\n",
       "    .dataframe tbody tr th {\n",
       "        vertical-align: top;\n",
       "    }\n",
       "\n",
       "    .dataframe thead th {\n",
       "        text-align: right;\n",
       "    }\n",
       "</style>\n",
       "<table border=\"1\" class=\"dataframe\">\n",
       "  <thead>\n",
       "    <tr style=\"text-align: right;\">\n",
       "      <th></th>\n",
       "      <th></th>\n",
       "      <th></th>\n",
       "      <th>precision</th>\n",
       "      <th>recall</th>\n",
       "      <th>f1_score</th>\n",
       "      <th>accuracy</th>\n",
       "      <th>OOV_text_ratio</th>\n",
       "      <th>OOV_potential_loss</th>\n",
       "    </tr>\n",
       "    <tr>\n",
       "      <th>case_id</th>\n",
       "      <th>category</th>\n",
       "      <th>keyword</th>\n",
       "      <th></th>\n",
       "      <th></th>\n",
       "      <th></th>\n",
       "      <th></th>\n",
       "      <th></th>\n",
       "      <th></th>\n",
       "    </tr>\n",
       "  </thead>\n",
       "  <tbody>\n",
       "    <tr>\n",
       "      <th rowspan=\"3\" valign=\"top\">1</th>\n",
       "      <th>many_matches</th>\n",
       "      <th>animal</th>\n",
       "      <td>0.714286</td>\n",
       "      <td>0.5</td>\n",
       "      <td>0.588235</td>\n",
       "      <td>0.870370</td>\n",
       "      <td>0.111111</td>\n",
       "      <td>0.0</td>\n",
       "    </tr>\n",
       "    <tr>\n",
       "      <th>few_matches</th>\n",
       "      <th>fauna</th>\n",
       "      <td>0.500000</td>\n",
       "      <td>1.0</td>\n",
       "      <td>0.666667</td>\n",
       "      <td>0.962963</td>\n",
       "      <td>0.111111</td>\n",
       "      <td>0.0</td>\n",
       "    </tr>\n",
       "    <tr>\n",
       "      <th>no_matches</th>\n",
       "      <th>computer</th>\n",
       "      <td>0.000000</td>\n",
       "      <td>0.0</td>\n",
       "      <td>0.000000</td>\n",
       "      <td>1.000000</td>\n",
       "      <td>0.111111</td>\n",
       "      <td>0.0</td>\n",
       "    </tr>\n",
       "  </tbody>\n",
       "</table>\n",
       "</div>"
      ],
      "text/plain": [
       "                               precision  ...  OOV_potential_loss\n",
       "case_id category     keyword              ...                    \n",
       "1       many_matches animal     0.714286  ...                 0.0\n",
       "        few_matches  fauna      0.500000  ...                 0.0\n",
       "        no_matches   computer   0.000000  ...                 0.0\n",
       "\n",
       "[3 rows x 6 columns]"
      ]
     },
     "metadata": {},
     "output_type": "display_data"
    },
    {
     "name": "stdout",
     "output_type": "stream",
     "text": [
      "Keyword: animal\n",
      "Expected OOV:  []\n",
      "OOV:  ['favourable', 'to', 'afrotropical', \"'s\", 'and', 'of']\n"
     ]
    },
    {
     "data": {
      "text/markdown": [
       "The Fauna of Africa, in its broader sense, is all the `ANIMALS` living in Africa and its surrounding seas and islands. The more characteristic African fauna is found in the Afrotropical realm.[1] Lying almost entirely within the tropics, and equally to north and south of the equator creates favourable conditions for rich ~~`WILDLIFE`~~. Africa is home to many of the world's most famous fauna in ~~`HUMAN`~~ culture such as `LIONS`,`rhinos`, `CHEETAHS`, `giraffes`, `ANTELOPE`, `hippos`, `leopards`, `zebras`, and African `ELEPHANTS` among many others."
      ],
      "text/plain": [
       "<IPython.core.display.Markdown object>"
      ]
     },
     "metadata": {},
     "output_type": "display_data"
    },
    {
     "name": "stdout",
     "output_type": "stream",
     "text": [
      "Keyword: fauna\n",
      "Expected OOV:  []\n",
      "OOV:  ['favourable', 'to', 'afrotropical', \"'s\", 'and', 'of']\n"
     ]
    },
    {
     "data": {
      "text/markdown": [
       "The `FAUNA` of Africa, in its broader sense, is all the ~~`ANIMALS`~~ living in Africa and its surrounding seas and islands. The more characteristic African `FAUNA` is found in the Afrotropical realm.[1] Lying almost entirely within the tropics, and equally to north and south of the equator creates favourable conditions for rich `WILDLIFE`. Africa is home to many of the world's most famous `FAUNA` in human culture such as lions,rhinos, cheetahs, giraffes, antelope, hippos, ~~`LEOPARDS`~~, zebras, and African elephants among many others."
      ],
      "text/plain": [
       "<IPython.core.display.Markdown object>"
      ]
     },
     "metadata": {},
     "output_type": "display_data"
    },
    {
     "name": "stdout",
     "output_type": "stream",
     "text": [
      "Keyword: computer\n",
      "Expected OOV:  []\n",
      "OOV:  ['favourable', 'to', 'afrotropical', \"'s\", 'and', 'of']\n"
     ]
    },
    {
     "data": {
      "text/markdown": [
       "The Fauna of Africa, in its broader sense, is all the animals living in Africa and its surrounding seas and islands. The more characteristic African fauna is found in the Afrotropical realm.[1] Lying almost entirely within the tropics, and equally to north and south of the equator creates favourable conditions for rich wildlife. Africa is home to many of the world's most famous fauna in human culture such as lions,rhinos, cheetahs, giraffes, antelope, hippos, leopards, zebras, and African elephants among many others."
      ],
      "text/plain": [
       "<IPython.core.display.Markdown object>"
      ]
     },
     "metadata": {},
     "output_type": "display_data"
    }
   ],
   "source": [
    "experiment(0.4)"
   ]
  },
  {
   "cell_type": "code",
   "execution_count": 57,
   "metadata": {},
   "outputs": [
    {
     "data": {
      "text/html": [
       "<div>\n",
       "<style scoped>\n",
       "    .dataframe tbody tr th:only-of-type {\n",
       "        vertical-align: middle;\n",
       "    }\n",
       "\n",
       "    .dataframe tbody tr th {\n",
       "        vertical-align: top;\n",
       "    }\n",
       "\n",
       "    .dataframe thead th {\n",
       "        text-align: right;\n",
       "    }\n",
       "</style>\n",
       "<table border=\"1\" class=\"dataframe\">\n",
       "  <thead>\n",
       "    <tr style=\"text-align: right;\">\n",
       "      <th></th>\n",
       "      <th></th>\n",
       "      <th></th>\n",
       "      <th>precision</th>\n",
       "      <th>recall</th>\n",
       "      <th>f1_score</th>\n",
       "      <th>accuracy</th>\n",
       "      <th>OOV_text_ratio</th>\n",
       "      <th>OOV_potential_loss</th>\n",
       "    </tr>\n",
       "    <tr>\n",
       "      <th>case_id</th>\n",
       "      <th>category</th>\n",
       "      <th>keyword</th>\n",
       "      <th></th>\n",
       "      <th></th>\n",
       "      <th></th>\n",
       "      <th></th>\n",
       "      <th></th>\n",
       "      <th></th>\n",
       "    </tr>\n",
       "  </thead>\n",
       "  <tbody>\n",
       "    <tr>\n",
       "      <th rowspan=\"3\" valign=\"top\">1</th>\n",
       "      <th>many_matches</th>\n",
       "      <th>animal</th>\n",
       "      <td>0.769231</td>\n",
       "      <td>1.0</td>\n",
       "      <td>0.869565</td>\n",
       "      <td>0.944444</td>\n",
       "      <td>0.111111</td>\n",
       "      <td>0.0</td>\n",
       "    </tr>\n",
       "    <tr>\n",
       "      <th>few_matches</th>\n",
       "      <th>fauna</th>\n",
       "      <td>0.153846</td>\n",
       "      <td>1.0</td>\n",
       "      <td>0.266667</td>\n",
       "      <td>0.796296</td>\n",
       "      <td>0.111111</td>\n",
       "      <td>0.0</td>\n",
       "    </tr>\n",
       "    <tr>\n",
       "      <th>no_matches</th>\n",
       "      <th>computer</th>\n",
       "      <td>0.000000</td>\n",
       "      <td>0.0</td>\n",
       "      <td>0.000000</td>\n",
       "      <td>1.000000</td>\n",
       "      <td>0.111111</td>\n",
       "      <td>0.0</td>\n",
       "    </tr>\n",
       "  </tbody>\n",
       "</table>\n",
       "</div>"
      ],
      "text/plain": [
       "                               precision  ...  OOV_potential_loss\n",
       "case_id category     keyword              ...                    \n",
       "1       many_matches animal     0.769231  ...                 0.0\n",
       "        few_matches  fauna      0.153846  ...                 0.0\n",
       "        no_matches   computer   0.000000  ...                 0.0\n",
       "\n",
       "[3 rows x 6 columns]"
      ]
     },
     "metadata": {},
     "output_type": "display_data"
    },
    {
     "name": "stdout",
     "output_type": "stream",
     "text": [
      "Keyword: animal\n",
      "Expected OOV:  []\n",
      "OOV:  ['favourable', 'to', 'afrotropical', \"'s\", 'and', 'of']\n"
     ]
    },
    {
     "data": {
      "text/markdown": [
       "The ~~`FAUNA`~~ of Africa, in its broader sense, is all the `ANIMALS` living in Africa and its surrounding seas and islands. The more characteristic African ~~`FAUNA`~~ is found in the Afrotropical realm.[1] Lying almost entirely within the tropics, and equally to north and south of the equator creates favourable conditions for rich ~~`WILDLIFE`~~. Africa is home to many of the world's most famous ~~`FAUNA`~~ in ~~`HUMAN`~~ culture such as `LIONS`,`RHINOS`, `CHEETAHS`, `GIRAFFES`, `ANTELOPE`, `HIPPOS`, `LEOPARDS`, `ZEBRAS`, and African `ELEPHANTS` among many others."
      ],
      "text/plain": [
       "<IPython.core.display.Markdown object>"
      ]
     },
     "metadata": {},
     "output_type": "display_data"
    },
    {
     "name": "stdout",
     "output_type": "stream",
     "text": [
      "Keyword: fauna\n",
      "Expected OOV:  []\n",
      "OOV:  ['favourable', 'to', 'afrotropical', \"'s\", 'and', 'of']\n"
     ]
    },
    {
     "data": {
      "text/markdown": [
       "The `FAUNA` of Africa, in its broader sense, is all the ~~`ANIMALS`~~ living in Africa and its surrounding seas and ~~`ISLANDS`~~. The more characteristic African `FAUNA` is found in the Afrotropical realm.[1] Lying almost entirely within the ~~`TROPICS`~~, and equally to north and south of the equator creates favourable conditions for rich `WILDLIFE`. Africa is home to many of the world's most famous `FAUNA` in human culture such as ~~`LIONS`~~,~~`RHINOS`~~, ~~`CHEETAHS`~~, ~~`GIRAFFES`~~, ~~`ANTELOPE`~~, ~~`HIPPOS`~~, ~~`LEOPARDS`~~, zebras, and African ~~`ELEPHANTS`~~ among many others."
      ],
      "text/plain": [
       "<IPython.core.display.Markdown object>"
      ]
     },
     "metadata": {},
     "output_type": "display_data"
    },
    {
     "name": "stdout",
     "output_type": "stream",
     "text": [
      "Keyword: computer\n",
      "Expected OOV:  []\n",
      "OOV:  ['favourable', 'to', 'afrotropical', \"'s\", 'and', 'of']\n"
     ]
    },
    {
     "data": {
      "text/markdown": [
       "The Fauna of Africa, in its broader sense, is all the animals living in Africa and its surrounding seas and islands. The more characteristic African fauna is found in the Afrotropical realm.[1] Lying almost entirely within the tropics, and equally to north and south of the equator creates favourable conditions for rich wildlife. Africa is home to many of the world's most famous fauna in human culture such as lions,rhinos, cheetahs, giraffes, antelope, hippos, leopards, zebras, and African elephants among many others."
      ],
      "text/plain": [
       "<IPython.core.display.Markdown object>"
      ]
     },
     "metadata": {},
     "output_type": "display_data"
    }
   ],
   "source": [
    "experiment(0.3)"
   ]
  }
 ],
 "metadata": {
  "kernelspec": {
   "display_name": "vylet-ner",
   "language": "python",
   "name": "python3"
  },
  "language_info": {
   "codemirror_mode": {
    "name": "ipython",
    "version": 3
   },
   "file_extension": ".py",
   "mimetype": "text/x-python",
   "name": "python",
   "nbconvert_exporter": "python",
   "pygments_lexer": "ipython3",
   "version": "3.11.4"
  },
  "orig_nbformat": 4
 },
 "nbformat": 4,
 "nbformat_minor": 2
}
