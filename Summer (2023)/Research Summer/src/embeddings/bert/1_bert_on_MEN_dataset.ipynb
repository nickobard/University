{
 "cells": [
  {
   "cell_type": "code",
   "execution_count": 4,
   "metadata": {},
   "outputs": [],
   "source": [
    "from sentence_transformers import SentenceTransformer, util\n",
    "model = SentenceTransformer('msmarco-bert-base-dot-v5')"
   ]
  },
  {
   "cell_type": "code",
   "execution_count": 5,
   "metadata": {},
   "outputs": [
    {
     "name": "stdout",
     "output_type": "stream",
     "text": [
      "Similarity:  0.9229611158370972\n"
     ]
    }
   ],
   "source": [
    "from torch import Tensor\n",
    "query_embedding = model.encode(\"keyboard\")\n",
    "passage_embedding = model.encode(\"flower\")\n",
    "\n",
    "similarity: Tensor = util.cos_sim(query_embedding, passage_embedding)\n",
    "print(\"Similarity: \", similarity.item())\n"
   ]
  },
  {
   "cell_type": "code",
   "execution_count": 6,
   "metadata": {},
   "outputs": [
    {
     "data": {
      "text/html": [
       "<div>\n",
       "<style scoped>\n",
       "    .dataframe tbody tr th:only-of-type {\n",
       "        vertical-align: middle;\n",
       "    }\n",
       "\n",
       "    .dataframe tbody tr th {\n",
       "        vertical-align: top;\n",
       "    }\n",
       "\n",
       "    .dataframe thead th {\n",
       "        text-align: right;\n",
       "    }\n",
       "</style>\n",
       "<table border=\"1\" class=\"dataframe\">\n",
       "  <thead>\n",
       "    <tr style=\"text-align: right;\">\n",
       "      <th></th>\n",
       "      <th>word1</th>\n",
       "      <th>word2</th>\n",
       "      <th>score</th>\n",
       "    </tr>\n",
       "  </thead>\n",
       "  <tbody>\n",
       "    <tr>\n",
       "      <th>1801</th>\n",
       "      <td>jean</td>\n",
       "      <td>washing</td>\n",
       "      <td>0.42</td>\n",
       "    </tr>\n",
       "    <tr>\n",
       "      <th>1190</th>\n",
       "      <td>blurred</td>\n",
       "      <td>lens</td>\n",
       "      <td>0.60</td>\n",
       "    </tr>\n",
       "    <tr>\n",
       "      <th>1817</th>\n",
       "      <td>lunch</td>\n",
       "      <td>morning</td>\n",
       "      <td>0.42</td>\n",
       "    </tr>\n",
       "    <tr>\n",
       "      <th>251</th>\n",
       "      <td>daffodils</td>\n",
       "      <td>plant</td>\n",
       "      <td>0.84</td>\n",
       "    </tr>\n",
       "    <tr>\n",
       "      <th>2505</th>\n",
       "      <td>animals</td>\n",
       "      <td>sandwich</td>\n",
       "      <td>0.22</td>\n",
       "    </tr>\n",
       "    <tr>\n",
       "      <th>1117</th>\n",
       "      <td>bathroom</td>\n",
       "      <td>floor</td>\n",
       "      <td>0.62</td>\n",
       "    </tr>\n",
       "    <tr>\n",
       "      <th>1411</th>\n",
       "      <td>birds</td>\n",
       "      <td>wild</td>\n",
       "      <td>0.54</td>\n",
       "    </tr>\n",
       "    <tr>\n",
       "      <th>2113</th>\n",
       "      <td>animals</td>\n",
       "      <td>clown</td>\n",
       "      <td>0.32</td>\n",
       "    </tr>\n",
       "    <tr>\n",
       "      <th>408</th>\n",
       "      <td>cafe</td>\n",
       "      <td>lunch</td>\n",
       "      <td>0.80</td>\n",
       "    </tr>\n",
       "    <tr>\n",
       "      <th>2579</th>\n",
       "      <td>friends</td>\n",
       "      <td>rusty</td>\n",
       "      <td>0.20</td>\n",
       "    </tr>\n",
       "  </tbody>\n",
       "</table>\n",
       "</div>"
      ],
      "text/plain": [
       "          word1     word2  score\n",
       "1801       jean   washing   0.42\n",
       "1190    blurred      lens   0.60\n",
       "1817      lunch   morning   0.42\n",
       "251   daffodils     plant   0.84\n",
       "2505    animals  sandwich   0.22\n",
       "1117   bathroom     floor   0.62\n",
       "1411      birds      wild   0.54\n",
       "2113    animals     clown   0.32\n",
       "408        cafe     lunch   0.80\n",
       "2579    friends     rusty   0.20"
      ]
     },
     "execution_count": 6,
     "metadata": {},
     "output_type": "execute_result"
    }
   ],
   "source": [
    "import pandas as pd\n",
    "\n",
    "men_dataset_path = \"../../datasets/MEN/MEN_dataset_natural_form_full\"\n",
    "\n",
    "# Read the data into a pandas DataFrame\n",
    "df = pd.read_csv(\n",
    "    men_dataset_path, sep=\" \", header=None, names=[\"word1\", \"word2\", \"score\"]\n",
    ")\n",
    "\n",
    "df[\"score\"] = df[\"score\"] / 50\n",
    "df = df.sample(frac=1, random_state=42)\n",
    "df.head(10)"
   ]
  },
  {
   "cell_type": "markdown",
   "metadata": {},
   "source": [
    "Using transformer it takes roughly 40 seconds to compute all similiry scores"
   ]
  },
  {
   "cell_type": "code",
   "execution_count": 7,
   "metadata": {},
   "outputs": [
    {
     "data": {
      "text/html": [
       "<div>\n",
       "<style scoped>\n",
       "    .dataframe tbody tr th:only-of-type {\n",
       "        vertical-align: middle;\n",
       "    }\n",
       "\n",
       "    .dataframe tbody tr th {\n",
       "        vertical-align: top;\n",
       "    }\n",
       "\n",
       "    .dataframe thead th {\n",
       "        text-align: right;\n",
       "    }\n",
       "</style>\n",
       "<table border=\"1\" class=\"dataframe\">\n",
       "  <thead>\n",
       "    <tr style=\"text-align: right;\">\n",
       "      <th></th>\n",
       "      <th>word1</th>\n",
       "      <th>word2</th>\n",
       "      <th>score</th>\n",
       "      <th>similarity</th>\n",
       "    </tr>\n",
       "  </thead>\n",
       "  <tbody>\n",
       "    <tr>\n",
       "      <th>1801</th>\n",
       "      <td>jean</td>\n",
       "      <td>washing</td>\n",
       "      <td>0.42</td>\n",
       "      <td>0.909071</td>\n",
       "    </tr>\n",
       "    <tr>\n",
       "      <th>1190</th>\n",
       "      <td>blurred</td>\n",
       "      <td>lens</td>\n",
       "      <td>0.60</td>\n",
       "      <td>0.927490</td>\n",
       "    </tr>\n",
       "    <tr>\n",
       "      <th>1817</th>\n",
       "      <td>lunch</td>\n",
       "      <td>morning</td>\n",
       "      <td>0.42</td>\n",
       "      <td>0.927295</td>\n",
       "    </tr>\n",
       "    <tr>\n",
       "      <th>251</th>\n",
       "      <td>daffodils</td>\n",
       "      <td>plant</td>\n",
       "      <td>0.84</td>\n",
       "      <td>0.918377</td>\n",
       "    </tr>\n",
       "    <tr>\n",
       "      <th>2505</th>\n",
       "      <td>animals</td>\n",
       "      <td>sandwich</td>\n",
       "      <td>0.22</td>\n",
       "      <td>0.917721</td>\n",
       "    </tr>\n",
       "    <tr>\n",
       "      <th>1117</th>\n",
       "      <td>bathroom</td>\n",
       "      <td>floor</td>\n",
       "      <td>0.62</td>\n",
       "      <td>0.935253</td>\n",
       "    </tr>\n",
       "    <tr>\n",
       "      <th>1411</th>\n",
       "      <td>birds</td>\n",
       "      <td>wild</td>\n",
       "      <td>0.54</td>\n",
       "      <td>0.930866</td>\n",
       "    </tr>\n",
       "    <tr>\n",
       "      <th>2113</th>\n",
       "      <td>animals</td>\n",
       "      <td>clown</td>\n",
       "      <td>0.32</td>\n",
       "      <td>0.929584</td>\n",
       "    </tr>\n",
       "    <tr>\n",
       "      <th>408</th>\n",
       "      <td>cafe</td>\n",
       "      <td>lunch</td>\n",
       "      <td>0.80</td>\n",
       "      <td>0.938428</td>\n",
       "    </tr>\n",
       "    <tr>\n",
       "      <th>2579</th>\n",
       "      <td>friends</td>\n",
       "      <td>rusty</td>\n",
       "      <td>0.20</td>\n",
       "      <td>0.910760</td>\n",
       "    </tr>\n",
       "  </tbody>\n",
       "</table>\n",
       "</div>"
      ],
      "text/plain": [
       "          word1     word2  score  similarity\n",
       "1801       jean   washing   0.42    0.909071\n",
       "1190    blurred      lens   0.60    0.927490\n",
       "1817      lunch   morning   0.42    0.927295\n",
       "251   daffodils     plant   0.84    0.918377\n",
       "2505    animals  sandwich   0.22    0.917721\n",
       "1117   bathroom     floor   0.62    0.935253\n",
       "1411      birds      wild   0.54    0.930866\n",
       "2113    animals     clown   0.32    0.929584\n",
       "408        cafe     lunch   0.80    0.938428\n",
       "2579    friends     rusty   0.20    0.910760"
      ]
     },
     "execution_count": 7,
     "metadata": {},
     "output_type": "execute_result"
    }
   ],
   "source": [
    "def similarity(word1: str, word2: str, model: SentenceTransformer) -> float:\n",
    "    w1_embedding = model.encode(word1)\n",
    "    w2_embedding = model.encode(word2)\n",
    "    return util.cos_sim(w1_embedding, w2_embedding).item()\n",
    "\n",
    "\n",
    "df[\"similarity\"] = df.apply(\n",
    "    lambda row: similarity(row[\"word1\"], row[\"word2\"], model=model), axis=1\n",
    ")\n",
    "\n",
    "df.head(10)"
   ]
  },
  {
   "cell_type": "markdown",
   "metadata": {},
   "source": [
    "There is no OOV. Words are tokenized into subwords, like in FastText embedding."
   ]
  },
  {
   "cell_type": "code",
   "execution_count": 8,
   "metadata": {},
   "outputs": [
    {
     "data": {
      "text/html": [
       "<div>\n",
       "<style scoped>\n",
       "    .dataframe tbody tr th:only-of-type {\n",
       "        vertical-align: middle;\n",
       "    }\n",
       "\n",
       "    .dataframe tbody tr th {\n",
       "        vertical-align: top;\n",
       "    }\n",
       "\n",
       "    .dataframe thead th {\n",
       "        text-align: right;\n",
       "    }\n",
       "</style>\n",
       "<table border=\"1\" class=\"dataframe\">\n",
       "  <thead>\n",
       "    <tr style=\"text-align: right;\">\n",
       "      <th></th>\n",
       "      <th>word1</th>\n",
       "      <th>word2</th>\n",
       "      <th>score</th>\n",
       "      <th>similarity</th>\n",
       "    </tr>\n",
       "  </thead>\n",
       "  <tbody>\n",
       "  </tbody>\n",
       "</table>\n",
       "</div>"
      ],
      "text/plain": [
       "Empty DataFrame\n",
       "Columns: [word1, word2, score, similarity]\n",
       "Index: []"
      ]
     },
     "execution_count": 8,
     "metadata": {},
     "output_type": "execute_result"
    }
   ],
   "source": [
    "OOV_pairs = df[df['similarity'].isnull()]\n",
    "OOV_pairs.head(10)"
   ]
  },
  {
   "cell_type": "markdown",
   "metadata": {},
   "source": [
    "Min value and max value are too high. This model is desined primarly for sentences, not for single words."
   ]
  },
  {
   "cell_type": "code",
   "execution_count": 9,
   "metadata": {},
   "outputs": [
    {
     "data": {
      "text/plain": [
       "'Max: 0.9924193024635315'"
      ]
     },
     "metadata": {},
     "output_type": "display_data"
    },
    {
     "data": {
      "text/plain": [
       "'Min: 0.8468595147132874'"
      ]
     },
     "metadata": {},
     "output_type": "display_data"
    }
   ],
   "source": [
    "similarity = df['similarity']\n",
    "min_value = similarity.min()\n",
    "max_value = similarity.max()\n",
    "display(f\"Max: {max_value}\",f\"Min: {min_value}\")"
   ]
  },
  {
   "cell_type": "code",
   "execution_count": 10,
   "metadata": {},
   "outputs": [
    {
     "name": "stdout",
     "output_type": "stream",
     "text": [
      "Similarity:  0.8664148449897766\n"
     ]
    }
   ],
   "source": [
    "query_embedding = model.encode(\"There was a pretty sunny day.\")\n",
    "passage_embedding = model.encode(\"The house was dark and old.\")\n",
    "\n",
    "similarity: Tensor = util.cos_sim(query_embedding, passage_embedding)\n",
    "print(\"Similarity: \", similarity.item())\n"
   ]
  },
  {
   "cell_type": "code",
   "execution_count": 11,
   "metadata": {},
   "outputs": [
    {
     "data": {
      "text/html": [
       "<div>\n",
       "<style scoped>\n",
       "    .dataframe tbody tr th:only-of-type {\n",
       "        vertical-align: middle;\n",
       "    }\n",
       "\n",
       "    .dataframe tbody tr th {\n",
       "        vertical-align: top;\n",
       "    }\n",
       "\n",
       "    .dataframe thead th {\n",
       "        text-align: right;\n",
       "    }\n",
       "</style>\n",
       "<table border=\"1\" class=\"dataframe\">\n",
       "  <thead>\n",
       "    <tr style=\"text-align: right;\">\n",
       "      <th></th>\n",
       "      <th>word1</th>\n",
       "      <th>word2</th>\n",
       "      <th>score</th>\n",
       "      <th>similarity</th>\n",
       "      <th>actual_class</th>\n",
       "    </tr>\n",
       "  </thead>\n",
       "  <tbody>\n",
       "    <tr>\n",
       "      <th>1801</th>\n",
       "      <td>jean</td>\n",
       "      <td>washing</td>\n",
       "      <td>0.42</td>\n",
       "      <td>0.909071</td>\n",
       "      <td>False</td>\n",
       "    </tr>\n",
       "    <tr>\n",
       "      <th>1190</th>\n",
       "      <td>blurred</td>\n",
       "      <td>lens</td>\n",
       "      <td>0.60</td>\n",
       "      <td>0.927490</td>\n",
       "      <td>True</td>\n",
       "    </tr>\n",
       "    <tr>\n",
       "      <th>1817</th>\n",
       "      <td>lunch</td>\n",
       "      <td>morning</td>\n",
       "      <td>0.42</td>\n",
       "      <td>0.927295</td>\n",
       "      <td>False</td>\n",
       "    </tr>\n",
       "    <tr>\n",
       "      <th>251</th>\n",
       "      <td>daffodils</td>\n",
       "      <td>plant</td>\n",
       "      <td>0.84</td>\n",
       "      <td>0.918377</td>\n",
       "      <td>True</td>\n",
       "    </tr>\n",
       "    <tr>\n",
       "      <th>2505</th>\n",
       "      <td>animals</td>\n",
       "      <td>sandwich</td>\n",
       "      <td>0.22</td>\n",
       "      <td>0.917721</td>\n",
       "      <td>False</td>\n",
       "    </tr>\n",
       "    <tr>\n",
       "      <th>1117</th>\n",
       "      <td>bathroom</td>\n",
       "      <td>floor</td>\n",
       "      <td>0.62</td>\n",
       "      <td>0.935253</td>\n",
       "      <td>True</td>\n",
       "    </tr>\n",
       "    <tr>\n",
       "      <th>1411</th>\n",
       "      <td>birds</td>\n",
       "      <td>wild</td>\n",
       "      <td>0.54</td>\n",
       "      <td>0.930866</td>\n",
       "      <td>True</td>\n",
       "    </tr>\n",
       "    <tr>\n",
       "      <th>2113</th>\n",
       "      <td>animals</td>\n",
       "      <td>clown</td>\n",
       "      <td>0.32</td>\n",
       "      <td>0.929584</td>\n",
       "      <td>False</td>\n",
       "    </tr>\n",
       "    <tr>\n",
       "      <th>408</th>\n",
       "      <td>cafe</td>\n",
       "      <td>lunch</td>\n",
       "      <td>0.80</td>\n",
       "      <td>0.938428</td>\n",
       "      <td>True</td>\n",
       "    </tr>\n",
       "    <tr>\n",
       "      <th>2579</th>\n",
       "      <td>friends</td>\n",
       "      <td>rusty</td>\n",
       "      <td>0.20</td>\n",
       "      <td>0.910760</td>\n",
       "      <td>False</td>\n",
       "    </tr>\n",
       "  </tbody>\n",
       "</table>\n",
       "</div>"
      ],
      "text/plain": [
       "          word1     word2  score  similarity  actual_class\n",
       "1801       jean   washing   0.42    0.909071         False\n",
       "1190    blurred      lens   0.60    0.927490          True\n",
       "1817      lunch   morning   0.42    0.927295         False\n",
       "251   daffodils     plant   0.84    0.918377          True\n",
       "2505    animals  sandwich   0.22    0.917721         False\n",
       "1117   bathroom     floor   0.62    0.935253          True\n",
       "1411      birds      wild   0.54    0.930866          True\n",
       "2113    animals     clown   0.32    0.929584         False\n",
       "408        cafe     lunch   0.80    0.938428          True\n",
       "2579    friends     rusty   0.20    0.910760         False"
      ]
     },
     "execution_count": 11,
     "metadata": {},
     "output_type": "execute_result"
    }
   ],
   "source": [
    "actual_class_threshold = 0.5\n",
    "df[\"actual_class\"] = df[\"score\"] > actual_class_threshold\n",
    "df.head(10)"
   ]
  },
  {
   "cell_type": "code",
   "execution_count": 12,
   "metadata": {},
   "outputs": [
    {
     "data": {
      "text/plain": [
       "array([0.84685951, 0.85285538, 0.85300374, ..., 0.99199373, 0.99202937,\n",
       "       0.9924193 ])"
      ]
     },
     "metadata": {},
     "output_type": "display_data"
    }
   ],
   "source": [
    "import numpy as np\n",
    "\n",
    "y_true = np.where(df[\"actual_class\"], 1, 0)\n",
    "from sklearn.metrics import precision_recall_curve\n",
    "y_similarity_scores = df['similarity'].to_numpy()\n",
    "\n",
    "precision, recall, thresholds = precision_recall_curve(y_true, y_similarity_scores)\n",
    "\n",
    "display(thresholds)"
   ]
  },
  {
   "cell_type": "code",
   "execution_count": 13,
   "metadata": {},
   "outputs": [
    {
     "data": {
      "text/plain": [
       "<sklearn.metrics._plot.precision_recall_curve.PrecisionRecallDisplay at 0x7f2827197d90>"
      ]
     },
     "execution_count": 13,
     "metadata": {},
     "output_type": "execute_result"
    },
    {
     "data": {
      "image/png": "[encoded data removed]",
      "text/plain": [
       "<Figure size 640x480 with 1 Axes>"
      ]
     },
     "metadata": {},
     "output_type": "display_data"
    }
   ],
   "source": [
    "from sklearn.metrics import PrecisionRecallDisplay\n",
    "pr_display = PrecisionRecallDisplay(precision=precision, recall=recall)\n",
    "pr_display.plot()"
   ]
  },
  {
   "cell_type": "code",
   "execution_count": 1,
   "metadata": {},
   "outputs": [],
   "source": [
    "from sentence_transformers import SentenceTransformer, util\n",
    "from torch import Tensor\n",
    "import numpy as np\n",
    "from sklearn.metrics import precision_recall_curve\n",
    "from sklearn.metrics import PrecisionRecallDisplay\n",
    "import pandas as pd\n",
    "\n",
    "def test_model(model_name: str | None = None, input_model=None):\n",
    "    if input_model:\n",
    "        model = input_model\n",
    "    else:\n",
    "        model = SentenceTransformer(model_name)\n",
    "\n",
    "    def similarity(word1: str, word2: str, model: SentenceTransformer) -> float:\n",
    "        w1_embedding = model.encode(word1)\n",
    "        w2_embedding = model.encode(word2)\n",
    "        return util.cos_sim(w1_embedding, w2_embedding).item()\n",
    "\n",
    "    men_dataset_path = \"../../datasets/MEN/MEN_dataset_natural_form_full\"\n",
    "\n",
    "    df = pd.read_csv(\n",
    "        men_dataset_path, sep=\" \", header=None, names=[\"word1\", \"word2\", \"score\"]\n",
    "    )\n",
    "\n",
    "    df[\"score\"] = df[\"score\"] / 50\n",
    "    df = df.sample(frac=1, random_state=42)\n",
    "\n",
    "    actual_class_threshold = 0.5\n",
    "    df[\"actual_class\"] = df[\"score\"] > actual_class_threshold\n",
    "\n",
    "    y_true = np.where(df[\"actual_class\"], 1, 0)\n",
    "\n",
    "    df[\"similarity\"] = df.apply(\n",
    "        lambda row: similarity(row[\"word1\"], row[\"word2\"], model=model), axis=1\n",
    "    )\n",
    "    y_similarity_scores = df['similarity'].to_numpy()\n",
    "\n",
    "    precision, recall, thresholds = precision_recall_curve(y_true, y_similarity_scores)\n",
    "    pr_display = PrecisionRecallDisplay(precision=precision, recall=recall)\n",
    "    pr_display.plot()"
   ]
  },
  {
   "cell_type": "code",
   "execution_count": 2,
   "metadata": {},
   "outputs": [
    {
     "data": {
      "image/png": "[encoded data removed]",
      "text/plain": [
       "<Figure size 640x480 with 1 Axes>"
      ]
     },
     "metadata": {},
     "output_type": "display_data"
    }
   ],
   "source": [
    "test_model(model_name=\"all-distilroberta-v1\")"
   ]
  },
  {
   "cell_type": "code",
   "execution_count": 3,
   "metadata": {},
   "outputs": [
    {
     "name": "stderr",
     "output_type": "stream",
     "text": [
      "No sentence-transformers model found with name /home/bardanik-rem/.cache/torch/sentence_transformers/bert-base-uncased. Creating a new one with MEAN pooling.\n"
     ]
    },
    {
     "data": {
      "image/png": "[encoded data removed]",
      "text/plain": [
       "<Figure size 640x480 with 1 Axes>"
      ]
     },
     "metadata": {},
     "output_type": "display_data"
    }
   ],
   "source": [
    "test_model(model_name=\"bert-base-uncased\")"
   ]
  },
  {
   "cell_type": "code",
   "execution_count": 18,
   "metadata": {},
   "outputs": [
    {
     "ename": "AttributeError",
     "evalue": "'BertModel' object has no attribute 'encode'",
     "output_type": "error",
     "traceback": [
      "\u001b[0;31m---------------------------------------------------------------------------\u001b[0m",
      "\u001b[0;31mAttributeError\u001b[0m                            Traceback (most recent call last)",
      "Cell \u001b[0;32mIn[18], line 5\u001b[0m\n\u001b[1;32m      2\u001b[0m \u001b[39mimport\u001b[39;00m \u001b[39mtorch\u001b[39;00m\n\u001b[1;32m      3\u001b[0m model \u001b[39m=\u001b[39m BertModel\u001b[39m.\u001b[39mfrom_pretrained(\u001b[39m\"\u001b[39m\u001b[39mbert-base-uncased\u001b[39m\u001b[39m\"\u001b[39m)\n\u001b[0;32m----> 5\u001b[0m test_model(input_model\u001b[39m=\u001b[39;49mmodel)\n",
      "Cell \u001b[0;32mIn[1], line 33\u001b[0m, in \u001b[0;36mtest_model\u001b[0;34m(model_name, input_model)\u001b[0m\n\u001b[1;32m     29\u001b[0m df[\u001b[39m\"\u001b[39m\u001b[39mactual_class\u001b[39m\u001b[39m\"\u001b[39m] \u001b[39m=\u001b[39m df[\u001b[39m\"\u001b[39m\u001b[39mscore\u001b[39m\u001b[39m\"\u001b[39m] \u001b[39m>\u001b[39m actual_class_threshold\n\u001b[1;32m     31\u001b[0m y_true \u001b[39m=\u001b[39m np\u001b[39m.\u001b[39mwhere(df[\u001b[39m\"\u001b[39m\u001b[39mactual_class\u001b[39m\u001b[39m\"\u001b[39m], \u001b[39m1\u001b[39m, \u001b[39m0\u001b[39m)\n\u001b[0;32m---> 33\u001b[0m df[\u001b[39m\"\u001b[39m\u001b[39msimilarity\u001b[39m\u001b[39m\"\u001b[39m] \u001b[39m=\u001b[39m df\u001b[39m.\u001b[39;49mapply(\n\u001b[1;32m     34\u001b[0m     \u001b[39mlambda\u001b[39;49;00m row: similarity(row[\u001b[39m\"\u001b[39;49m\u001b[39mword1\u001b[39;49m\u001b[39m\"\u001b[39;49m], row[\u001b[39m\"\u001b[39;49m\u001b[39mword2\u001b[39;49m\u001b[39m\"\u001b[39;49m], model\u001b[39m=\u001b[39;49mmodel), axis\u001b[39m=\u001b[39;49m\u001b[39m1\u001b[39;49m\n\u001b[1;32m     35\u001b[0m )\n\u001b[1;32m     36\u001b[0m y_similarity_scores \u001b[39m=\u001b[39m df[\u001b[39m'\u001b[39m\u001b[39msimilarity\u001b[39m\u001b[39m'\u001b[39m]\u001b[39m.\u001b[39mto_numpy()\n\u001b[1;32m     38\u001b[0m precision, recall, thresholds \u001b[39m=\u001b[39m precision_recall_curve(y_true, y_similarity_scores)\n",
      "File \u001b[0;32m~/mambaforge/envs/vylet-ner/lib/python3.11/site-packages/pandas/core/frame.py:9423\u001b[0m, in \u001b[0;36mDataFrame.apply\u001b[0;34m(self, func, axis, raw, result_type, args, **kwargs)\u001b[0m\n\u001b[1;32m   9412\u001b[0m \u001b[39mfrom\u001b[39;00m \u001b[39mpandas\u001b[39;00m\u001b[39m.\u001b[39;00m\u001b[39mcore\u001b[39;00m\u001b[39m.\u001b[39;00m\u001b[39mapply\u001b[39;00m \u001b[39mimport\u001b[39;00m frame_apply\n\u001b[1;32m   9414\u001b[0m op \u001b[39m=\u001b[39m frame_apply(\n\u001b[1;32m   9415\u001b[0m     \u001b[39mself\u001b[39m,\n\u001b[1;32m   9416\u001b[0m     func\u001b[39m=\u001b[39mfunc,\n\u001b[0;32m   (...)\u001b[0m\n\u001b[1;32m   9421\u001b[0m     kwargs\u001b[39m=\u001b[39mkwargs,\n\u001b[1;32m   9422\u001b[0m )\n\u001b[0;32m-> 9423\u001b[0m \u001b[39mreturn\u001b[39;00m op\u001b[39m.\u001b[39;49mapply()\u001b[39m.\u001b[39m__finalize__(\u001b[39mself\u001b[39m, method\u001b[39m=\u001b[39m\u001b[39m\"\u001b[39m\u001b[39mapply\u001b[39m\u001b[39m\"\u001b[39m)\n",
      "File \u001b[0;32m~/mambaforge/envs/vylet-ner/lib/python3.11/site-packages/pandas/core/apply.py:678\u001b[0m, in \u001b[0;36mFrameApply.apply\u001b[0;34m(self)\u001b[0m\n\u001b[1;32m    675\u001b[0m \u001b[39melif\u001b[39;00m \u001b[39mself\u001b[39m\u001b[39m.\u001b[39mraw:\n\u001b[1;32m    676\u001b[0m     \u001b[39mreturn\u001b[39;00m \u001b[39mself\u001b[39m\u001b[39m.\u001b[39mapply_raw()\n\u001b[0;32m--> 678\u001b[0m \u001b[39mreturn\u001b[39;00m \u001b[39mself\u001b[39;49m\u001b[39m.\u001b[39;49mapply_standard()\n",
      "File \u001b[0;32m~/mambaforge/envs/vylet-ner/lib/python3.11/site-packages/pandas/core/apply.py:798\u001b[0m, in \u001b[0;36mFrameApply.apply_standard\u001b[0;34m(self)\u001b[0m\n\u001b[1;32m    797\u001b[0m \u001b[39mdef\u001b[39;00m \u001b[39mapply_standard\u001b[39m(\u001b[39mself\u001b[39m):\n\u001b[0;32m--> 798\u001b[0m     results, res_index \u001b[39m=\u001b[39m \u001b[39mself\u001b[39;49m\u001b[39m.\u001b[39;49mapply_series_generator()\n\u001b[1;32m    800\u001b[0m     \u001b[39m# wrap results\u001b[39;00m\n\u001b[1;32m    801\u001b[0m     \u001b[39mreturn\u001b[39;00m \u001b[39mself\u001b[39m\u001b[39m.\u001b[39mwrap_results(results, res_index)\n",
      "File \u001b[0;32m~/mambaforge/envs/vylet-ner/lib/python3.11/site-packages/pandas/core/apply.py:814\u001b[0m, in \u001b[0;36mFrameApply.apply_series_generator\u001b[0;34m(self)\u001b[0m\n\u001b[1;32m    811\u001b[0m \u001b[39mwith\u001b[39;00m option_context(\u001b[39m\"\u001b[39m\u001b[39mmode.chained_assignment\u001b[39m\u001b[39m\"\u001b[39m, \u001b[39mNone\u001b[39;00m):\n\u001b[1;32m    812\u001b[0m     \u001b[39mfor\u001b[39;00m i, v \u001b[39min\u001b[39;00m \u001b[39menumerate\u001b[39m(series_gen):\n\u001b[1;32m    813\u001b[0m         \u001b[39m# ignore SettingWithCopy here in case the user mutates\u001b[39;00m\n\u001b[0;32m--> 814\u001b[0m         results[i] \u001b[39m=\u001b[39m \u001b[39mself\u001b[39;49m\u001b[39m.\u001b[39;49mf(v)\n\u001b[1;32m    815\u001b[0m         \u001b[39mif\u001b[39;00m \u001b[39misinstance\u001b[39m(results[i], ABCSeries):\n\u001b[1;32m    816\u001b[0m             \u001b[39m# If we have a view on v, we need to make a copy because\u001b[39;00m\n\u001b[1;32m    817\u001b[0m             \u001b[39m#  series_generator will swap out the underlying data\u001b[39;00m\n\u001b[1;32m    818\u001b[0m             results[i] \u001b[39m=\u001b[39m results[i]\u001b[39m.\u001b[39mcopy(deep\u001b[39m=\u001b[39m\u001b[39mFalse\u001b[39;00m)\n",
      "Cell \u001b[0;32mIn[1], line 34\u001b[0m, in \u001b[0;36mtest_model.<locals>.<lambda>\u001b[0;34m(row)\u001b[0m\n\u001b[1;32m     29\u001b[0m df[\u001b[39m\"\u001b[39m\u001b[39mactual_class\u001b[39m\u001b[39m\"\u001b[39m] \u001b[39m=\u001b[39m df[\u001b[39m\"\u001b[39m\u001b[39mscore\u001b[39m\u001b[39m\"\u001b[39m] \u001b[39m>\u001b[39m actual_class_threshold\n\u001b[1;32m     31\u001b[0m y_true \u001b[39m=\u001b[39m np\u001b[39m.\u001b[39mwhere(df[\u001b[39m\"\u001b[39m\u001b[39mactual_class\u001b[39m\u001b[39m\"\u001b[39m], \u001b[39m1\u001b[39m, \u001b[39m0\u001b[39m)\n\u001b[1;32m     33\u001b[0m df[\u001b[39m\"\u001b[39m\u001b[39msimilarity\u001b[39m\u001b[39m\"\u001b[39m] \u001b[39m=\u001b[39m df\u001b[39m.\u001b[39mapply(\n\u001b[0;32m---> 34\u001b[0m     \u001b[39mlambda\u001b[39;00m row: similarity(row[\u001b[39m\"\u001b[39;49m\u001b[39mword1\u001b[39;49m\u001b[39m\"\u001b[39;49m], row[\u001b[39m\"\u001b[39;49m\u001b[39mword2\u001b[39;49m\u001b[39m\"\u001b[39;49m], model\u001b[39m=\u001b[39;49mmodel), axis\u001b[39m=\u001b[39m\u001b[39m1\u001b[39m\n\u001b[1;32m     35\u001b[0m )\n\u001b[1;32m     36\u001b[0m y_similarity_scores \u001b[39m=\u001b[39m df[\u001b[39m'\u001b[39m\u001b[39msimilarity\u001b[39m\u001b[39m'\u001b[39m]\u001b[39m.\u001b[39mto_numpy()\n\u001b[1;32m     38\u001b[0m precision, recall, thresholds \u001b[39m=\u001b[39m precision_recall_curve(y_true, y_similarity_scores)\n",
      "Cell \u001b[0;32mIn[1], line 15\u001b[0m, in \u001b[0;36mtest_model.<locals>.similarity\u001b[0;34m(word1, word2, model)\u001b[0m\n\u001b[1;32m     14\u001b[0m \u001b[39mdef\u001b[39;00m \u001b[39msimilarity\u001b[39m(word1: \u001b[39mstr\u001b[39m, word2: \u001b[39mstr\u001b[39m, model: SentenceTransformer) \u001b[39m-\u001b[39m\u001b[39m>\u001b[39m \u001b[39mfloat\u001b[39m:\n\u001b[0;32m---> 15\u001b[0m     w1_embedding \u001b[39m=\u001b[39m model\u001b[39m.\u001b[39;49mencode(word1)\n\u001b[1;32m     16\u001b[0m     w2_embedding \u001b[39m=\u001b[39m model\u001b[39m.\u001b[39mencode(word2)\n\u001b[1;32m     17\u001b[0m     \u001b[39mreturn\u001b[39;00m util\u001b[39m.\u001b[39mcos_sim(w1_embedding, w2_embedding)\u001b[39m.\u001b[39mitem()\n",
      "File \u001b[0;32m~/mambaforge/envs/vylet-ner/lib/python3.11/site-packages/torch/nn/modules/module.py:1614\u001b[0m, in \u001b[0;36mModule.__getattr__\u001b[0;34m(self, name)\u001b[0m\n\u001b[1;32m   1612\u001b[0m     \u001b[39mif\u001b[39;00m name \u001b[39min\u001b[39;00m modules:\n\u001b[1;32m   1613\u001b[0m         \u001b[39mreturn\u001b[39;00m modules[name]\n\u001b[0;32m-> 1614\u001b[0m \u001b[39mraise\u001b[39;00m \u001b[39mAttributeError\u001b[39;00m(\u001b[39m\"\u001b[39m\u001b[39m'\u001b[39m\u001b[39m{}\u001b[39;00m\u001b[39m'\u001b[39m\u001b[39m object has no attribute \u001b[39m\u001b[39m'\u001b[39m\u001b[39m{}\u001b[39;00m\u001b[39m'\u001b[39m\u001b[39m\"\u001b[39m\u001b[39m.\u001b[39mformat(\n\u001b[1;32m   1615\u001b[0m     \u001b[39mtype\u001b[39m(\u001b[39mself\u001b[39m)\u001b[39m.\u001b[39m\u001b[39m__name__\u001b[39m, name))\n",
      "\u001b[0;31mAttributeError\u001b[0m: 'BertModel' object has no attribute 'encode'"
     ]
    }
   ],
   "source": [
    "from transformers import AutoTokenizer, BertModel\n",
    "import torch\n",
    "model = BertModel.from_pretrained(\"bert-base-uncased\")\n",
    "\n",
    "test_model(input_model=model)"
   ]
  }
 ],
 "metadata": {
  "kernelspec": {
   "display_name": "vylet-ner",
   "language": "python",
   "name": "python3"
  },
  "language_info": {
   "codemirror_mode": {
    "name": "ipython",
    "version": 3
   },
   "file_extension": ".py",
   "mimetype": "text/x-python",
   "name": "python",
   "nbconvert_exporter": "python",
   "pygments_lexer": "ipython3",
   "version": "3.11.4"
  },
  "orig_nbformat": 4
 },
 "nbformat": 4,
 "nbformat_minor": 2
}
