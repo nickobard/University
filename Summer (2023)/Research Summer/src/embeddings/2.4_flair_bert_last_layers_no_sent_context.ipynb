{
 "cells": [
  {
   "cell_type": "code",
   "execution_count": 8,
   "metadata": {},
   "outputs": [
    {
     "name": "stdout",
     "output_type": "stream",
     "text": [
      "The autoreload extension is already loaded. To reload it, use:\n",
      "  %reload_ext autoreload\n"
     ]
    }
   ],
   "source": [
    "%load_ext autoreload\n",
    "%autoreload 2\n",
    "from IPython.display import display"
   ]
  },
  {
   "cell_type": "code",
   "execution_count": 9,
   "metadata": {},
   "outputs": [],
   "source": [
    "import logging\n",
    "logging.basicConfig(\n",
    "    format=\"%(asctime)s - %(levelname)s - %(message)s\", level=logging.INFO, force=True\n",
    ")"
   ]
  },
  {
   "cell_type": "code",
   "execution_count": 10,
   "metadata": {},
   "outputs": [],
   "source": [
    "from flair.embeddings import TransformerWordEmbeddings\n",
    "\n",
    "model_name = \"bert-base-uncased\"\n",
    "\n",
    "params = {\n",
    "    'model': model_name,\n",
    "    'use_context': False,\n",
    "    'layers':'-1',\n",
    "    'layer_mean':True,\n",
    "    'subtoken_pooling':'mean'\n",
    "}\n",
    "\n",
    "embedding = TransformerWordEmbeddings(**params)"
   ]
  },
  {
   "cell_type": "code",
   "execution_count": 11,
   "metadata": {},
   "outputs": [],
   "source": [
    "import utils, evaluators\n",
    "ev = evaluators.FlairEvaluator(embedding, model_name)\n",
    "ev.load_dataset(\"../datasets/dataset_1.json\")"
   ]
  },
  {
   "cell_type": "code",
   "execution_count": 12,
   "metadata": {},
   "outputs": [],
   "source": [
    "ev.reset_evaluator()\n",
    "evaluation = ev.evaluate()"
   ]
  },
  {
   "cell_type": "code",
   "execution_count": 13,
   "metadata": {},
   "outputs": [
    {
     "data": {
      "text/plain": [
       "'OOV:'"
      ]
     },
     "metadata": {},
     "output_type": "display_data"
    },
    {
     "data": {
      "text/html": [
       "<div>\n",
       "<style scoped>\n",
       "    .dataframe tbody tr th:only-of-type {\n",
       "        vertical-align: middle;\n",
       "    }\n",
       "\n",
       "    .dataframe tbody tr th {\n",
       "        vertical-align: top;\n",
       "    }\n",
       "\n",
       "    .dataframe thead th {\n",
       "        text-align: right;\n",
       "    }\n",
       "</style>\n",
       "<table border=\"1\" class=\"dataframe\">\n",
       "  <thead>\n",
       "    <tr style=\"text-align: right;\">\n",
       "      <th></th>\n",
       "      <th>Case ID</th>\n",
       "      <th>Keyword</th>\n",
       "      <th>Word</th>\n",
       "      <th>Classification</th>\n",
       "      <th>Similarity</th>\n",
       "      <th>Lost</th>\n",
       "      <th>OOV</th>\n",
       "    </tr>\n",
       "  </thead>\n",
       "  <tbody>\n",
       "  </tbody>\n",
       "</table>\n",
       "</div>"
      ],
      "text/plain": [
       "Empty DataFrame\n",
       "Columns: [Case ID, Keyword, Word, Classification, Similarity, Lost, OOV]\n",
       "Index: []"
      ]
     },
     "metadata": {},
     "output_type": "display_data"
    },
    {
     "data": {
      "text/plain": [
       "'Lost:'"
      ]
     },
     "metadata": {},
     "output_type": "display_data"
    },
    {
     "data": {
      "text/html": [
       "<div>\n",
       "<style scoped>\n",
       "    .dataframe tbody tr th:only-of-type {\n",
       "        vertical-align: middle;\n",
       "    }\n",
       "\n",
       "    .dataframe tbody tr th {\n",
       "        vertical-align: top;\n",
       "    }\n",
       "\n",
       "    .dataframe thead th {\n",
       "        text-align: right;\n",
       "    }\n",
       "</style>\n",
       "<table border=\"1\" class=\"dataframe\">\n",
       "  <thead>\n",
       "    <tr style=\"text-align: right;\">\n",
       "      <th></th>\n",
       "      <th>Case ID</th>\n",
       "      <th>Keyword</th>\n",
       "      <th>Word</th>\n",
       "      <th>Classification</th>\n",
       "      <th>Similarity</th>\n",
       "      <th>Lost</th>\n",
       "      <th>OOV</th>\n",
       "    </tr>\n",
       "  </thead>\n",
       "  <tbody>\n",
       "    <tr>\n",
       "      <th>1477</th>\n",
       "      <td>4</td>\n",
       "      <td>when</td>\n",
       "      <td>(now, 0)</td>\n",
       "      <td>1</td>\n",
       "      <td>NaN</td>\n",
       "      <td>True</td>\n",
       "      <td>False</td>\n",
       "    </tr>\n",
       "    <tr>\n",
       "      <th>1478</th>\n",
       "      <td>4</td>\n",
       "      <td>when</td>\n",
       "      <td>(now, 1)</td>\n",
       "      <td>1</td>\n",
       "      <td>NaN</td>\n",
       "      <td>True</td>\n",
       "      <td>False</td>\n",
       "    </tr>\n",
       "  </tbody>\n",
       "</table>\n",
       "</div>"
      ],
      "text/plain": [
       "      Case ID Keyword      Word  Classification  Similarity  Lost    OOV\n",
       "1477        4    when  (now, 0)               1         NaN  True  False\n",
       "1478        4    when  (now, 1)               1         NaN  True  False"
      ]
     },
     "metadata": {},
     "output_type": "display_data"
    },
    {
     "data": {
      "text/plain": [
       "'Statistics:'"
      ]
     },
     "metadata": {},
     "output_type": "display_data"
    },
    {
     "data": {
      "text/html": [
       "<div>\n",
       "<style scoped>\n",
       "    .dataframe tbody tr th:only-of-type {\n",
       "        vertical-align: middle;\n",
       "    }\n",
       "\n",
       "    .dataframe tbody tr th {\n",
       "        vertical-align: top;\n",
       "    }\n",
       "\n",
       "    .dataframe thead th {\n",
       "        text-align: right;\n",
       "    }\n",
       "</style>\n",
       "<table border=\"1\" class=\"dataframe\">\n",
       "  <thead>\n",
       "    <tr style=\"text-align: right;\">\n",
       "      <th></th>\n",
       "      <th>Threshold</th>\n",
       "      <th>Precision</th>\n",
       "      <th>Recall</th>\n",
       "      <th>F1 Score</th>\n",
       "      <th>Accuracy</th>\n",
       "      <th>AUC-PR</th>\n",
       "    </tr>\n",
       "    <tr>\n",
       "      <th>Methods</th>\n",
       "      <th></th>\n",
       "      <th></th>\n",
       "      <th></th>\n",
       "      <th></th>\n",
       "      <th></th>\n",
       "      <th></th>\n",
       "    </tr>\n",
       "  </thead>\n",
       "  <tbody>\n",
       "    <tr>\n",
       "      <th>bert-base-uncased-cos</th>\n",
       "      <td>0.244901</td>\n",
       "      <td>0.236686</td>\n",
       "      <td>0.470588</td>\n",
       "      <td>0.314961</td>\n",
       "      <td>0.887524</td>\n",
       "      <td>0.238309</td>\n",
       "    </tr>\n",
       "  </tbody>\n",
       "</table>\n",
       "</div>"
      ],
      "text/plain": [
       "                       Threshold  Precision    Recall  F1 Score  Accuracy  \\\n",
       "Methods                                                                     \n",
       "bert-base-uncased-cos   0.244901   0.236686  0.470588  0.314961  0.887524   \n",
       "\n",
       "                         AUC-PR  \n",
       "Methods                          \n",
       "bert-base-uncased-cos  0.238309  "
      ]
     },
     "metadata": {},
     "output_type": "display_data"
    },
    {
     "data": {
      "image/png": "[encoded data removed]",
      "text/plain": [
       "<Figure size 640x480 with 1 Axes>"
      ]
     },
     "metadata": {},
     "output_type": "display_data"
    }
   ],
   "source": [
    "st = utils.Statistics(ev)\n",
    "\n",
    "display(\"OOV:\")\n",
    "display(st.get_oov())\n",
    "\n",
    "display(\"Lost:\")\n",
    "display(st.get_lost())\n",
    "\n",
    "stats = st.calculate_statistics()\n",
    "display(\"Statistics:\")\n",
    "display(stats)\n",
    "\n",
    "st.display_PRC()"
   ]
  },
  {
   "cell_type": "code",
   "execution_count": 14,
   "metadata": {},
   "outputs": [
    {
     "data": {
      "text/html": [
       "<div>\n",
       "<style scoped>\n",
       "    .dataframe tbody tr th:only-of-type {\n",
       "        vertical-align: middle;\n",
       "    }\n",
       "\n",
       "    .dataframe tbody tr th {\n",
       "        vertical-align: top;\n",
       "    }\n",
       "\n",
       "    .dataframe thead th {\n",
       "        text-align: right;\n",
       "    }\n",
       "</style>\n",
       "<table border=\"1\" class=\"dataframe\">\n",
       "  <thead>\n",
       "    <tr style=\"text-align: right;\">\n",
       "      <th></th>\n",
       "      <th>Threshold</th>\n",
       "      <th>Precision</th>\n",
       "      <th>Recall</th>\n",
       "      <th>F1 Score</th>\n",
       "      <th>Accuracy</th>\n",
       "      <th>AUC-PR</th>\n",
       "    </tr>\n",
       "    <tr>\n",
       "      <th>Methods</th>\n",
       "      <th></th>\n",
       "      <th></th>\n",
       "      <th></th>\n",
       "      <th></th>\n",
       "      <th></th>\n",
       "      <th></th>\n",
       "    </tr>\n",
       "  </thead>\n",
       "  <tbody>\n",
       "    <tr>\n",
       "      <th>bert-base-uncased-cos</th>\n",
       "      <td>0.244901</td>\n",
       "      <td>0.236686</td>\n",
       "      <td>0.470588</td>\n",
       "      <td>0.314961</td>\n",
       "      <td>0.887524</td>\n",
       "      <td>0.238309</td>\n",
       "    </tr>\n",
       "    <tr>\n",
       "      <th>bert-base-uncased-dot</th>\n",
       "      <td>46.101681</td>\n",
       "      <td>0.241860</td>\n",
       "      <td>0.611765</td>\n",
       "      <td>0.346667</td>\n",
       "      <td>0.873303</td>\n",
       "      <td>0.253998</td>\n",
       "    </tr>\n",
       "    <tr>\n",
       "      <th>bert-base-uncased-euc</th>\n",
       "      <td>5.570326</td>\n",
       "      <td>0.105033</td>\n",
       "      <td>0.564706</td>\n",
       "      <td>0.177122</td>\n",
       "      <td>0.711700</td>\n",
       "      <td>0.116934</td>\n",
       "    </tr>\n",
       "  </tbody>\n",
       "</table>\n",
       "</div>"
      ],
      "text/plain": [
       "                       Threshold  Precision    Recall  F1 Score  Accuracy  \\\n",
       "Methods                                                                     \n",
       "bert-base-uncased-cos   0.244901   0.236686  0.470588  0.314961  0.887524   \n",
       "bert-base-uncased-dot  46.101681   0.241860  0.611765  0.346667  0.873303   \n",
       "bert-base-uncased-euc   5.570326   0.105033  0.564706  0.177122  0.711700   \n",
       "\n",
       "                         AUC-PR  \n",
       "Methods                          \n",
       "bert-base-uncased-cos  0.238309  \n",
       "bert-base-uncased-dot  0.253998  \n",
       "bert-base-uncased-euc  0.116934  "
      ]
     },
     "metadata": {},
     "output_type": "display_data"
    },
    {
     "data": {
      "image/png": "[encoded data removed]",
      "text/plain": [
       "<Figure size 640x480 with 1 Axes>"
      ]
     },
     "metadata": {},
     "output_type": "display_data"
    },
    {
     "data": {
      "image/png": "[encoded data removed]",
      "text/plain": [
       "<Figure size 640x480 with 1 Axes>"
      ]
     },
     "metadata": {},
     "output_type": "display_data"
    },
    {
     "data": {
      "image/png": "[encoded data removed]",
      "text/plain": [
       "<Figure size 640x480 with 1 Axes>"
      ]
     },
     "metadata": {},
     "output_type": "display_data"
    }
   ],
   "source": [
    "import pandas as pd\n",
    "methods = [member for member in utils.SimilarityFunction]\n",
    "\n",
    "results = pd.DataFrame()\n",
    "\n",
    "for method in methods:\n",
    "    ev.similarity_method = method\n",
    "    ev.reset_evaluator()\n",
    "    data = ev.evaluate()\n",
    "    st = utils.Statistics(ev)\n",
    "    stats = st.calculate_statistics()\n",
    "    st.display_PRC()\n",
    "    results = pd.concat([results, stats])\n",
    "\n",
    "display(results)"
   ]
  }
 ],
 "metadata": {
  "kernelspec": {
   "display_name": "vylet-ner",
   "language": "python",
   "name": "python3"
  },
  "language_info": {
   "codemirror_mode": {
    "name": "ipython",
    "version": 3
   },
   "file_extension": ".py",
   "mimetype": "text/x-python",
   "name": "python",
   "nbconvert_exporter": "python",
   "pygments_lexer": "ipython3",
   "version": "3.11.4"
  },
  "orig_nbformat": 4
 },
 "nbformat": 4,
 "nbformat_minor": 2
}
